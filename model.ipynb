{
 "cells": [
  {
   "cell_type": "markdown",
   "metadata": {
    "id": "EQdxD7QWhprv"
   },
   "source": [
    "# Capstone Project"
   ]
  },
  {
   "cell_type": "markdown",
   "metadata": {
    "id": "G_XQ-LmDh3kU"
   },
   "source": [
    "## Setup Google Drive"
   ]
  },
  {
   "cell_type": "markdown",
   "metadata": {
    "id": "JdrjBaalj0PU"
   },
   "source": [
    "## Preparation"
   ]
  },
  {
   "cell_type": "markdown",
   "metadata": {
    "id": "Ptto87Duj2w0"
   },
   "source": [
    "### Import Standard Libraries "
   ]
  },
  {
   "cell_type": "code",
   "execution_count": 1,
   "metadata": {
    "executionInfo": {
     "elapsed": 2513,
     "status": "ok",
     "timestamp": 1670604905941,
     "user": {
      "displayName": "Emilia Lautz",
      "userId": "12799330444436508787"
     },
     "user_tz": -60
    },
    "id": "HUay3TWWje0y"
   },
   "outputs": [],
   "source": [
    "import pandas as pd\n",
    "from sklearn.tree import DecisionTreeClassifier\n",
    "from sklearn.model_selection import train_test_split\n",
    "import numpy as np\n",
    "import pickle"
   ]
  },
  {
   "cell_type": "code",
   "execution_count": 2,
   "metadata": {},
   "outputs": [
    {
     "data": {
      "text/plain": [
       "'/Users/emilialautz/Desktop/Capstone_Drive_Download'"
      ]
     },
     "execution_count": 2,
     "metadata": {},
     "output_type": "execute_result"
    }
   ],
   "source": [
    "pwd"
   ]
  },
  {
   "cell_type": "markdown",
   "metadata": {
    "id": "CkF-U3LSkCFQ"
   },
   "source": [
    "### Import and Prepare Data"
   ]
  },
  {
   "cell_type": "code",
   "execution_count": 121,
   "metadata": {
    "executionInfo": {
     "elapsed": 217388,
     "status": "ok",
     "timestamp": 1670605125446,
     "user": {
      "displayName": "Emilia Lautz",
      "userId": "12799330444436508787"
     },
     "user_tz": -60
    },
    "id": "1yofWf8IkEhR"
   },
   "outputs": [],
   "source": [
    "xls = pd.ExcelFile(\"Career_Mode.xlsx\")\n",
    "data2021 = pd.read_excel(xls, \"FIFA 21\")\n",
    "data2020 = pd.read_excel(xls, \"FIFA 20\")\n",
    "data2019 = pd.read_excel(xls, \"FIFA 19\")\n",
    "data2018 = pd.read_excel(xls, \"FIFA 18\")\n",
    "data2017 = pd.read_excel(xls, \"FIFA 17\")\n",
    "data2016 = pd.read_excel(xls, \"FIFA 16\")\n",
    "data2015 = pd.read_excel(xls, \"FIFA 15\")"
   ]
  },
  {
   "cell_type": "code",
   "execution_count": 122,
   "metadata": {
    "executionInfo": {
     "elapsed": 47,
     "status": "ok",
     "timestamp": 1670605125447,
     "user": {
      "displayName": "Emilia Lautz",
      "userId": "12799330444436508787"
     },
     "user_tz": -60
    },
    "id": "cSwgc171mtVZ"
   },
   "outputs": [],
   "source": [
    "df_21 = data2021[[\"long_name\",\"short_name\",\"player_positions\",\"potential\",\"value_eur\",\"wage_eur\",\"age\",\"height_cm\",\"club_name\",\"league_level\",\"club_contract_valid_until\",\"preferred_foot\",\"skill_moves\",\"international_reputation\",\"release_clause_eur\",\"player_tags\",\"player_traits\",\"pace\",\"shooting\",\"passing\",\"dribbling\",\"defending\",\"player_face_url\",\"club_logo_url\",\"club_flag_url\",\"nation_logo_url\",\"nation_flag_url\"]].copy()\n",
    "df_20 = data2020[[\"long_name\",\"short_name\",\"player_positions\",\"potential\",\"value_eur\",\"wage_eur\",\"age\",\"height_cm\",\"club_name\",\"league_level\",\"club_contract_valid_until\",\"preferred_foot\",\"skill_moves\",\"international_reputation\",\"release_clause_eur\",\"player_tags\",\"player_traits\",\"pace\",\"shooting\",\"passing\",\"dribbling\",\"defending\",\"player_face_url\",\"club_logo_url\",\"club_flag_url\",\"nation_logo_url\",\"nation_flag_url\"]].copy()\n",
    "df_19 = data2019[[\"long_name\",\"short_name\",\"player_positions\",\"potential\",\"value_eur\",\"wage_eur\",\"age\",\"height_cm\",\"club_name\",\"league_level\",\"club_contract_valid_until\",\"preferred_foot\",\"skill_moves\",\"international_reputation\",\"release_clause_eur\",\"player_tags\",\"player_traits\",\"pace\",\"shooting\",\"passing\",\"dribbling\",\"defending\",\"player_face_url\",\"club_logo_url\",\"club_flag_url\",\"nation_logo_url\",\"nation_flag_url\"]].copy()\n",
    "df_18 = data2018[[\"long_name\",\"short_name\",\"player_positions\",\"potential\",\"value_eur\",\"wage_eur\",\"age\",\"height_cm\",\"club_name\",\"league_level\",\"club_contract_valid_until\",\"preferred_foot\",\"skill_moves\",\"international_reputation\",\"release_clause_eur\",\"player_tags\",\"player_traits\",\"pace\",\"shooting\",\"passing\",\"dribbling\",\"defending\",\"player_face_url\",\"club_logo_url\",\"club_flag_url\",\"nation_logo_url\",\"nation_flag_url\"]].copy()\n",
    "df_17 = data2017[[\"long_name\",\"short_name\",\"player_positions\",\"potential\",\"value_eur\",\"wage_eur\",\"age\",\"height_cm\",\"club_name\",\"league_level\",\"club_contract_valid_until\",\"preferred_foot\",\"skill_moves\",\"international_reputation\",\"release_clause_eur\",\"player_tags\",\"player_traits\",\"pace\",\"shooting\",\"passing\",\"dribbling\",\"defending\",\"player_face_url\",\"club_logo_url\",\"club_flag_url\",\"nation_logo_url\",\"nation_flag_url\"]].copy()\n",
    "df_16 = data2016[[\"long_name\",\"short_name\",\"player_positions\",\"potential\",\"value_eur\",\"wage_eur\",\"age\",\"height_cm\",\"club_name\",\"league_level\",\"club_contract_valid_until\",\"preferred_foot\",\"skill_moves\",\"international_reputation\",\"release_clause_eur\",\"player_tags\",\"player_traits\",\"pace\",\"shooting\",\"passing\",\"dribbling\",\"defending\",\"player_face_url\",\"club_logo_url\",\"club_flag_url\",\"nation_logo_url\",\"nation_flag_url\"]].copy()\n",
    "df_15 = data2015[[\"long_name\",\"short_name\",\"player_positions\",\"potential\",\"value_eur\",\"wage_eur\",\"age\",\"height_cm\",\"club_name\",\"league_level\",\"club_contract_valid_until\",\"preferred_foot\",\"skill_moves\",\"international_reputation\",\"release_clause_eur\",\"player_tags\",\"player_traits\",\"pace\",\"shooting\",\"passing\",\"dribbling\",\"defending\",\"player_face_url\",\"club_logo_url\",\"club_flag_url\",\"nation_logo_url\",\"nation_flag_url\"]].copy()\n"
   ]
  },
  {
   "cell_type": "code",
   "execution_count": 123,
   "metadata": {
    "executionInfo": {
     "elapsed": 180,
     "status": "ok",
     "timestamp": 1670607161422,
     "user": {
      "displayName": "Emilia Lautz",
      "userId": "12799330444436508787"
     },
     "user_tz": -60
    },
    "id": "OBynxbd98KVP"
   },
   "outputs": [],
   "source": [
    "df_21[\"year\"] = 2021\n",
    "df_20[\"year\"] = 2020\n",
    "df_19[\"year\"] = 2019\n",
    "df_18[\"year\"] = 2018\n",
    "df_17[\"year\"] = 2017\n",
    "df_16[\"year\"] = 2016\n",
    "df_15[\"year\"] = 2015"
   ]
  },
  {
   "cell_type": "code",
   "execution_count": 124,
   "metadata": {
    "colab": {
     "base_uri": "https://localhost:8080/"
    },
    "executionInfo": {
     "elapsed": 221,
     "status": "ok",
     "timestamp": 1670607166860,
     "user": {
      "displayName": "Emilia Lautz",
      "userId": "12799330444436508787"
     },
     "user_tz": -60
    },
    "id": "UfEAaJWTYIpU",
    "outputId": "644f3dab-e748-45fc-fc29-f1c71d563c04"
   },
   "outputs": [
    {
     "name": "stdout",
     "output_type": "stream",
     "text": [
      "<class 'pandas.core.frame.DataFrame'>\n",
      "Int64Index: 122840 entries, 0 to 18943\n",
      "Data columns (total 28 columns):\n",
      " #   Column                     Non-Null Count   Dtype  \n",
      "---  ------                     --------------   -----  \n",
      " 0   long_name                  122840 non-null  object \n",
      " 1   short_name                 122840 non-null  object \n",
      " 2   player_positions           122840 non-null  object \n",
      " 3   potential                  122840 non-null  int64  \n",
      " 4   value_eur                  121017 non-null  float64\n",
      " 5   wage_eur                   121279 non-null  float64\n",
      " 6   age                        122840 non-null  int64  \n",
      " 7   height_cm                  122840 non-null  int64  \n",
      " 8   club_name                  121271 non-null  object \n",
      " 9   league_level               120886 non-null  float64\n",
      " 10  club_contract_valid_until  121271 non-null  float64\n",
      " 11  preferred_foot             122840 non-null  object \n",
      " 12  skill_moves                122840 non-null  int64  \n",
      " 13  international_reputation   122840 non-null  int64  \n",
      " 14  release_clause_eur         68434 non-null   float64\n",
      " 15  player_tags                9873 non-null    object \n",
      " 16  player_traits              53910 non-null   object \n",
      " 17  pace                       109181 non-null  float64\n",
      " 18  shooting                   109181 non-null  float64\n",
      " 19  passing                    109181 non-null  float64\n",
      " 20  dribbling                  109181 non-null  float64\n",
      " 21  defending                  109181 non-null  float64\n",
      " 22  player_face_url            122840 non-null  object \n",
      " 23  club_logo_url              121271 non-null  object \n",
      " 24  club_flag_url              121271 non-null  object \n",
      " 25  nation_logo_url            7685 non-null    object \n",
      " 26  nation_flag_url            122840 non-null  object \n",
      " 27  year                       122840 non-null  int64  \n",
      "dtypes: float64(10), int64(6), object(12)\n",
      "memory usage: 27.2+ MB\n"
     ]
    }
   ],
   "source": [
    "fifa_15_21 = pd.concat([df_15,df_16,df_17,df_18,df_19,df_20,df_21])\n",
    "fifa_15_21.info()"
   ]
  },
  {
   "cell_type": "code",
   "execution_count": 125,
   "metadata": {},
   "outputs": [
    {
     "data": {
      "text/html": [
       "<div>\n",
       "<style scoped>\n",
       "    .dataframe tbody tr th:only-of-type {\n",
       "        vertical-align: middle;\n",
       "    }\n",
       "\n",
       "    .dataframe tbody tr th {\n",
       "        vertical-align: top;\n",
       "    }\n",
       "\n",
       "    .dataframe thead th {\n",
       "        text-align: right;\n",
       "    }\n",
       "</style>\n",
       "<table border=\"1\" class=\"dataframe\">\n",
       "  <thead>\n",
       "    <tr style=\"text-align: right;\">\n",
       "      <th></th>\n",
       "      <th>long_name</th>\n",
       "      <th>short_name</th>\n",
       "      <th>player_positions</th>\n",
       "      <th>potential</th>\n",
       "      <th>value_eur</th>\n",
       "      <th>wage_eur</th>\n",
       "      <th>age</th>\n",
       "      <th>height_cm</th>\n",
       "      <th>club_name</th>\n",
       "      <th>league_level</th>\n",
       "      <th>...</th>\n",
       "      <th>shooting</th>\n",
       "      <th>passing</th>\n",
       "      <th>dribbling</th>\n",
       "      <th>defending</th>\n",
       "      <th>player_face_url</th>\n",
       "      <th>club_logo_url</th>\n",
       "      <th>club_flag_url</th>\n",
       "      <th>nation_logo_url</th>\n",
       "      <th>nation_flag_url</th>\n",
       "      <th>year</th>\n",
       "    </tr>\n",
       "  </thead>\n",
       "  <tbody>\n",
       "    <tr>\n",
       "      <th>3</th>\n",
       "      <td>Zlatan Ibrahimović</td>\n",
       "      <td>Z. Ibrahimović</td>\n",
       "      <td>ST</td>\n",
       "      <td>90</td>\n",
       "      <td>52500000.0</td>\n",
       "      <td>275000.0</td>\n",
       "      <td>32</td>\n",
       "      <td>195</td>\n",
       "      <td>Paris Saint-Germain</td>\n",
       "      <td>1.0</td>\n",
       "      <td>...</td>\n",
       "      <td>91.0</td>\n",
       "      <td>81.0</td>\n",
       "      <td>86.0</td>\n",
       "      <td>34.0</td>\n",
       "      <td>https://cdn.sofifa.net/players/041/236/15_120.png</td>\n",
       "      <td>https://cdn.sofifa.net/teams/73/60.png</td>\n",
       "      <td>https://cdn.sofifa.net/flags/fr.png</td>\n",
       "      <td>https://cdn.sofifa.net/teams/1363/60.png</td>\n",
       "      <td>https://cdn.sofifa.net/flags/se.png</td>\n",
       "      <td>2015</td>\n",
       "    </tr>\n",
       "    <tr>\n",
       "      <th>5</th>\n",
       "      <td>Zlatan Ibrahimović</td>\n",
       "      <td>Z. Ibrahimović</td>\n",
       "      <td>ST</td>\n",
       "      <td>89</td>\n",
       "      <td>40500000.0</td>\n",
       "      <td>220000.0</td>\n",
       "      <td>33</td>\n",
       "      <td>195</td>\n",
       "      <td>Paris Saint-Germain</td>\n",
       "      <td>1.0</td>\n",
       "      <td>...</td>\n",
       "      <td>90.0</td>\n",
       "      <td>81.0</td>\n",
       "      <td>85.0</td>\n",
       "      <td>31.0</td>\n",
       "      <td>https://cdn.sofifa.net/players/041/236/16_120.png</td>\n",
       "      <td>https://cdn.sofifa.net/teams/73/60.png</td>\n",
       "      <td>https://cdn.sofifa.net/flags/fr.png</td>\n",
       "      <td>https://cdn.sofifa.net/teams/1363/60.png</td>\n",
       "      <td>https://cdn.sofifa.net/flags/se.png</td>\n",
       "      <td>2016</td>\n",
       "    </tr>\n",
       "    <tr>\n",
       "      <th>5</th>\n",
       "      <td>Zlatan Ibrahimović</td>\n",
       "      <td>Z. Ibrahimović</td>\n",
       "      <td>ST</td>\n",
       "      <td>90</td>\n",
       "      <td>36500000.0</td>\n",
       "      <td>300000.0</td>\n",
       "      <td>34</td>\n",
       "      <td>195</td>\n",
       "      <td>Manchester United</td>\n",
       "      <td>1.0</td>\n",
       "      <td>...</td>\n",
       "      <td>90.0</td>\n",
       "      <td>81.0</td>\n",
       "      <td>85.0</td>\n",
       "      <td>31.0</td>\n",
       "      <td>https://cdn.sofifa.net/players/041/236/17_120.png</td>\n",
       "      <td>https://cdn.sofifa.net/teams/11/60.png</td>\n",
       "      <td>https://cdn.sofifa.net/flags/gb-eng.png</td>\n",
       "      <td>NaN</td>\n",
       "      <td>https://cdn.sofifa.net/flags/se.png</td>\n",
       "      <td>2017</td>\n",
       "    </tr>\n",
       "    <tr>\n",
       "      <th>20</th>\n",
       "      <td>Zlatan Ibrahimović</td>\n",
       "      <td>Z. Ibrahimović</td>\n",
       "      <td>ST</td>\n",
       "      <td>88</td>\n",
       "      <td>27000000.0</td>\n",
       "      <td>225000.0</td>\n",
       "      <td>35</td>\n",
       "      <td>195</td>\n",
       "      <td>Manchester United</td>\n",
       "      <td>1.0</td>\n",
       "      <td>...</td>\n",
       "      <td>88.0</td>\n",
       "      <td>81.0</td>\n",
       "      <td>82.0</td>\n",
       "      <td>32.0</td>\n",
       "      <td>https://cdn.sofifa.net/players/041/236/18_120.png</td>\n",
       "      <td>https://cdn.sofifa.net/teams/11/60.png</td>\n",
       "      <td>https://cdn.sofifa.net/flags/gb-eng.png</td>\n",
       "      <td>NaN</td>\n",
       "      <td>https://cdn.sofifa.net/flags/se.png</td>\n",
       "      <td>2018</td>\n",
       "    </tr>\n",
       "    <tr>\n",
       "      <th>80</th>\n",
       "      <td>Zlatan Ibrahimović</td>\n",
       "      <td>Z. Ibrahimović</td>\n",
       "      <td>ST</td>\n",
       "      <td>85</td>\n",
       "      <td>14000000.0</td>\n",
       "      <td>15000.0</td>\n",
       "      <td>36</td>\n",
       "      <td>195</td>\n",
       "      <td>LA Galaxy</td>\n",
       "      <td>1.0</td>\n",
       "      <td>...</td>\n",
       "      <td>86.0</td>\n",
       "      <td>77.0</td>\n",
       "      <td>78.0</td>\n",
       "      <td>34.0</td>\n",
       "      <td>https://cdn.sofifa.net/players/041/236/19_120.png</td>\n",
       "      <td>https://cdn.sofifa.net/teams/697/60.png</td>\n",
       "      <td>https://cdn.sofifa.net/flags/us.png</td>\n",
       "      <td>NaN</td>\n",
       "      <td>https://cdn.sofifa.net/flags/se.png</td>\n",
       "      <td>2019</td>\n",
       "    </tr>\n",
       "    <tr>\n",
       "      <th>73</th>\n",
       "      <td>Zlatan Ibrahimović</td>\n",
       "      <td>Z. Ibrahimović</td>\n",
       "      <td>ST</td>\n",
       "      <td>85</td>\n",
       "      <td>11000000.0</td>\n",
       "      <td>15000.0</td>\n",
       "      <td>37</td>\n",
       "      <td>195</td>\n",
       "      <td>LA Galaxy</td>\n",
       "      <td>1.0</td>\n",
       "      <td>...</td>\n",
       "      <td>88.0</td>\n",
       "      <td>77.0</td>\n",
       "      <td>77.0</td>\n",
       "      <td>34.0</td>\n",
       "      <td>https://cdn.sofifa.net/players/041/236/20_120.png</td>\n",
       "      <td>https://cdn.sofifa.net/teams/697/60.png</td>\n",
       "      <td>https://cdn.sofifa.net/flags/us.png</td>\n",
       "      <td>NaN</td>\n",
       "      <td>https://cdn.sofifa.net/flags/se.png</td>\n",
       "      <td>2020</td>\n",
       "    </tr>\n",
       "    <tr>\n",
       "      <th>140</th>\n",
       "      <td>Zlatan Ibrahimović</td>\n",
       "      <td>Z. Ibrahimović</td>\n",
       "      <td>ST</td>\n",
       "      <td>83</td>\n",
       "      <td>12500000.0</td>\n",
       "      <td>49000.0</td>\n",
       "      <td>38</td>\n",
       "      <td>195</td>\n",
       "      <td>AC Milan</td>\n",
       "      <td>1.0</td>\n",
       "      <td>...</td>\n",
       "      <td>88.0</td>\n",
       "      <td>77.0</td>\n",
       "      <td>79.0</td>\n",
       "      <td>34.0</td>\n",
       "      <td>https://cdn.sofifa.net/players/041/236/21_120.png</td>\n",
       "      <td>https://cdn.sofifa.net/teams/47/60.png</td>\n",
       "      <td>https://cdn.sofifa.net/flags/it.png</td>\n",
       "      <td>NaN</td>\n",
       "      <td>https://cdn.sofifa.net/flags/se.png</td>\n",
       "      <td>2021</td>\n",
       "    </tr>\n",
       "  </tbody>\n",
       "</table>\n",
       "<p>7 rows × 28 columns</p>\n",
       "</div>"
      ],
      "text/plain": [
       "              long_name      short_name player_positions  potential  \\\n",
       "3    Zlatan Ibrahimović  Z. Ibrahimović               ST         90   \n",
       "5    Zlatan Ibrahimović  Z. Ibrahimović               ST         89   \n",
       "5    Zlatan Ibrahimović  Z. Ibrahimović               ST         90   \n",
       "20   Zlatan Ibrahimović  Z. Ibrahimović               ST         88   \n",
       "80   Zlatan Ibrahimović  Z. Ibrahimović               ST         85   \n",
       "73   Zlatan Ibrahimović  Z. Ibrahimović               ST         85   \n",
       "140  Zlatan Ibrahimović  Z. Ibrahimović               ST         83   \n",
       "\n",
       "      value_eur  wage_eur  age  height_cm            club_name  league_level  \\\n",
       "3    52500000.0  275000.0   32        195  Paris Saint-Germain           1.0   \n",
       "5    40500000.0  220000.0   33        195  Paris Saint-Germain           1.0   \n",
       "5    36500000.0  300000.0   34        195    Manchester United           1.0   \n",
       "20   27000000.0  225000.0   35        195    Manchester United           1.0   \n",
       "80   14000000.0   15000.0   36        195            LA Galaxy           1.0   \n",
       "73   11000000.0   15000.0   37        195            LA Galaxy           1.0   \n",
       "140  12500000.0   49000.0   38        195             AC Milan           1.0   \n",
       "\n",
       "     ...  shooting passing  dribbling  defending  \\\n",
       "3    ...      91.0    81.0       86.0       34.0   \n",
       "5    ...      90.0    81.0       85.0       31.0   \n",
       "5    ...      90.0    81.0       85.0       31.0   \n",
       "20   ...      88.0    81.0       82.0       32.0   \n",
       "80   ...      86.0    77.0       78.0       34.0   \n",
       "73   ...      88.0    77.0       77.0       34.0   \n",
       "140  ...      88.0    77.0       79.0       34.0   \n",
       "\n",
       "                                       player_face_url  \\\n",
       "3    https://cdn.sofifa.net/players/041/236/15_120.png   \n",
       "5    https://cdn.sofifa.net/players/041/236/16_120.png   \n",
       "5    https://cdn.sofifa.net/players/041/236/17_120.png   \n",
       "20   https://cdn.sofifa.net/players/041/236/18_120.png   \n",
       "80   https://cdn.sofifa.net/players/041/236/19_120.png   \n",
       "73   https://cdn.sofifa.net/players/041/236/20_120.png   \n",
       "140  https://cdn.sofifa.net/players/041/236/21_120.png   \n",
       "\n",
       "                               club_logo_url  \\\n",
       "3     https://cdn.sofifa.net/teams/73/60.png   \n",
       "5     https://cdn.sofifa.net/teams/73/60.png   \n",
       "5     https://cdn.sofifa.net/teams/11/60.png   \n",
       "20    https://cdn.sofifa.net/teams/11/60.png   \n",
       "80   https://cdn.sofifa.net/teams/697/60.png   \n",
       "73   https://cdn.sofifa.net/teams/697/60.png   \n",
       "140   https://cdn.sofifa.net/teams/47/60.png   \n",
       "\n",
       "                               club_flag_url  \\\n",
       "3        https://cdn.sofifa.net/flags/fr.png   \n",
       "5        https://cdn.sofifa.net/flags/fr.png   \n",
       "5    https://cdn.sofifa.net/flags/gb-eng.png   \n",
       "20   https://cdn.sofifa.net/flags/gb-eng.png   \n",
       "80       https://cdn.sofifa.net/flags/us.png   \n",
       "73       https://cdn.sofifa.net/flags/us.png   \n",
       "140      https://cdn.sofifa.net/flags/it.png   \n",
       "\n",
       "                              nation_logo_url  \\\n",
       "3    https://cdn.sofifa.net/teams/1363/60.png   \n",
       "5    https://cdn.sofifa.net/teams/1363/60.png   \n",
       "5                                         NaN   \n",
       "20                                        NaN   \n",
       "80                                        NaN   \n",
       "73                                        NaN   \n",
       "140                                       NaN   \n",
       "\n",
       "                         nation_flag_url  year  \n",
       "3    https://cdn.sofifa.net/flags/se.png  2015  \n",
       "5    https://cdn.sofifa.net/flags/se.png  2016  \n",
       "5    https://cdn.sofifa.net/flags/se.png  2017  \n",
       "20   https://cdn.sofifa.net/flags/se.png  2018  \n",
       "80   https://cdn.sofifa.net/flags/se.png  2019  \n",
       "73   https://cdn.sofifa.net/flags/se.png  2020  \n",
       "140  https://cdn.sofifa.net/flags/se.png  2021  \n",
       "\n",
       "[7 rows x 28 columns]"
      ]
     },
     "execution_count": 125,
     "metadata": {},
     "output_type": "execute_result"
    }
   ],
   "source": [
    "fifa_15_21.loc[(fifa_15_21[\"long_name\"]==\"Zlatan Ibrahimović\")]"
   ]
  },
  {
   "cell_type": "markdown",
   "metadata": {},
   "source": [
    "## Imputation of categorical variable \"league-level\""
   ]
  },
  {
   "cell_type": "code",
   "execution_count": 126,
   "metadata": {},
   "outputs": [
    {
     "data": {
      "text/plain": [
       "array([ 1., nan,  2.,  3.,  4.])"
      ]
     },
     "execution_count": 126,
     "metadata": {},
     "output_type": "execute_result"
    }
   ],
   "source": [
    "# Impute league_level\n",
    "fifa_15_21[\"league_level\"].unique()"
   ]
  },
  {
   "cell_type": "code",
   "execution_count": 127,
   "metadata": {},
   "outputs": [
    {
     "data": {
      "text/html": [
       "<div>\n",
       "<style scoped>\n",
       "    .dataframe tbody tr th:only-of-type {\n",
       "        vertical-align: middle;\n",
       "    }\n",
       "\n",
       "    .dataframe tbody tr th {\n",
       "        vertical-align: top;\n",
       "    }\n",
       "\n",
       "    .dataframe thead th {\n",
       "        text-align: right;\n",
       "    }\n",
       "</style>\n",
       "<table border=\"1\" class=\"dataframe\">\n",
       "  <thead>\n",
       "    <tr style=\"text-align: right;\">\n",
       "      <th></th>\n",
       "      <th>potential</th>\n",
       "      <th>age</th>\n",
       "      <th>league_level</th>\n",
       "      <th>skill_moves</th>\n",
       "      <th>international_reputation</th>\n",
       "      <th>pace</th>\n",
       "      <th>shooting</th>\n",
       "      <th>passing</th>\n",
       "      <th>dribbling</th>\n",
       "      <th>defending</th>\n",
       "      <th>value_eur</th>\n",
       "    </tr>\n",
       "  </thead>\n",
       "  <tbody>\n",
       "    <tr>\n",
       "      <th>0</th>\n",
       "      <td>95</td>\n",
       "      <td>27</td>\n",
       "      <td>1.0</td>\n",
       "      <td>4</td>\n",
       "      <td>5</td>\n",
       "      <td>93.0</td>\n",
       "      <td>89.0</td>\n",
       "      <td>86.0</td>\n",
       "      <td>96.0</td>\n",
       "      <td>27.0</td>\n",
       "      <td>100500000.0</td>\n",
       "    </tr>\n",
       "    <tr>\n",
       "      <th>1</th>\n",
       "      <td>92</td>\n",
       "      <td>29</td>\n",
       "      <td>1.0</td>\n",
       "      <td>5</td>\n",
       "      <td>5</td>\n",
       "      <td>93.0</td>\n",
       "      <td>93.0</td>\n",
       "      <td>81.0</td>\n",
       "      <td>91.0</td>\n",
       "      <td>32.0</td>\n",
       "      <td>79000000.0</td>\n",
       "    </tr>\n",
       "    <tr>\n",
       "      <th>2</th>\n",
       "      <td>90</td>\n",
       "      <td>30</td>\n",
       "      <td>1.0</td>\n",
       "      <td>4</td>\n",
       "      <td>5</td>\n",
       "      <td>93.0</td>\n",
       "      <td>86.0</td>\n",
       "      <td>83.0</td>\n",
       "      <td>92.0</td>\n",
       "      <td>32.0</td>\n",
       "      <td>54500000.0</td>\n",
       "    </tr>\n",
       "    <tr>\n",
       "      <th>3</th>\n",
       "      <td>90</td>\n",
       "      <td>32</td>\n",
       "      <td>1.0</td>\n",
       "      <td>4</td>\n",
       "      <td>5</td>\n",
       "      <td>76.0</td>\n",
       "      <td>91.0</td>\n",
       "      <td>81.0</td>\n",
       "      <td>86.0</td>\n",
       "      <td>34.0</td>\n",
       "      <td>52500000.0</td>\n",
       "    </tr>\n",
       "    <tr>\n",
       "      <th>4</th>\n",
       "      <td>90</td>\n",
       "      <td>28</td>\n",
       "      <td>1.0</td>\n",
       "      <td>1</td>\n",
       "      <td>5</td>\n",
       "      <td>NaN</td>\n",
       "      <td>NaN</td>\n",
       "      <td>NaN</td>\n",
       "      <td>NaN</td>\n",
       "      <td>NaN</td>\n",
       "      <td>63500000.0</td>\n",
       "    </tr>\n",
       "  </tbody>\n",
       "</table>\n",
       "</div>"
      ],
      "text/plain": [
       "   potential  age  league_level  skill_moves  international_reputation  pace  \\\n",
       "0         95   27           1.0            4                         5  93.0   \n",
       "1         92   29           1.0            5                         5  93.0   \n",
       "2         90   30           1.0            4                         5  93.0   \n",
       "3         90   32           1.0            4                         5  76.0   \n",
       "4         90   28           1.0            1                         5   NaN   \n",
       "\n",
       "   shooting  passing  dribbling  defending    value_eur  \n",
       "0      89.0     86.0       96.0       27.0  100500000.0  \n",
       "1      93.0     81.0       91.0       32.0   79000000.0  \n",
       "2      86.0     83.0       92.0       32.0   54500000.0  \n",
       "3      91.0     81.0       86.0       34.0   52500000.0  \n",
       "4       NaN      NaN        NaN        NaN   63500000.0  "
      ]
     },
     "execution_count": 127,
     "metadata": {},
     "output_type": "execute_result"
    }
   ],
   "source": [
    "# Create an imputer for categorical variables\n",
    "test_df = fifa_15_21[[\"potential\",\"age\",\"league_level\",\"skill_moves\",\"international_reputation\",\"pace\",\"shooting\",\"passing\",\"dribbling\",\"defending\", \"value_eur\"]].copy()\n",
    "test_df.head()"
   ]
  },
  {
   "cell_type": "code",
   "execution_count": 128,
   "metadata": {},
   "outputs": [
    {
     "data": {
      "text/plain": [
       "array([ 1., nan,  2.,  3.,  4.])"
      ]
     },
     "execution_count": 128,
     "metadata": {},
     "output_type": "execute_result"
    }
   ],
   "source": [
    "test_df[\"league_level\"].unique()"
   ]
  },
  {
   "cell_type": "code",
   "execution_count": 129,
   "metadata": {},
   "outputs": [],
   "source": [
    "# KNN Imputation\n",
    "from sklearn.impute import KNNImputer\n",
    "categorical_imputer = KNNImputer(n_neighbors = 1)\n",
    "imputed_data = categorical_imputer.fit_transform(test_df)  # impute all '#'"
   ]
  },
  {
   "cell_type": "code",
   "execution_count": 130,
   "metadata": {},
   "outputs": [
    {
     "name": "stdout",
     "output_type": "stream",
     "text": [
      "<class 'pandas.core.frame.DataFrame'>\n",
      "Int64Index: 122840 entries, 0 to 18943\n",
      "Data columns (total 11 columns):\n",
      " #   Column                    Non-Null Count   Dtype  \n",
      "---  ------                    --------------   -----  \n",
      " 0   potential                 122840 non-null  float64\n",
      " 1   age                       122840 non-null  float64\n",
      " 2   league_level              122840 non-null  float64\n",
      " 3   skill_moves               122840 non-null  float64\n",
      " 4   international_reputation  122840 non-null  float64\n",
      " 5   pace                      122840 non-null  float64\n",
      " 6   shooting                  122840 non-null  float64\n",
      " 7   passing                   122840 non-null  float64\n",
      " 8   dribbling                 122840 non-null  float64\n",
      " 9   defending                 122840 non-null  float64\n",
      " 10  value_eur                 122840 non-null  float64\n",
      "dtypes: float64(11)\n",
      "memory usage: 11.2 MB\n"
     ]
    }
   ],
   "source": [
    "names = test_df.columns\n",
    "imputed_data = pd.DataFrame(imputed_data, columns=names, index = test_df.index)\n",
    "imputed_data.info()"
   ]
  },
  {
   "cell_type": "code",
   "execution_count": 131,
   "metadata": {
    "id": "8WaqshJXnBEj"
   },
   "outputs": [
    {
     "data": {
      "text/plain": [
       "array([1., 2., 3., 4.])"
      ]
     },
     "execution_count": 131,
     "metadata": {},
     "output_type": "execute_result"
    }
   ],
   "source": [
    "fifa_15_21[\"league_level\"] = imputed_data[\"league_level\"]\n",
    "fifa_15_21[\"league_level\"].unique()"
   ]
  },
  {
   "cell_type": "code",
   "execution_count": 132,
   "metadata": {},
   "outputs": [
    {
     "data": {
      "text/html": [
       "<div>\n",
       "<style scoped>\n",
       "    .dataframe tbody tr th:only-of-type {\n",
       "        vertical-align: middle;\n",
       "    }\n",
       "\n",
       "    .dataframe tbody tr th {\n",
       "        vertical-align: top;\n",
       "    }\n",
       "\n",
       "    .dataframe thead th {\n",
       "        text-align: right;\n",
       "    }\n",
       "</style>\n",
       "<table border=\"1\" class=\"dataframe\">\n",
       "  <thead>\n",
       "    <tr style=\"text-align: right;\">\n",
       "      <th></th>\n",
       "      <th>long_name</th>\n",
       "      <th>short_name</th>\n",
       "      <th>player_positions</th>\n",
       "      <th>potential</th>\n",
       "      <th>value_eur</th>\n",
       "      <th>wage_eur</th>\n",
       "      <th>age</th>\n",
       "      <th>height_cm</th>\n",
       "      <th>club_name</th>\n",
       "      <th>league_level</th>\n",
       "      <th>...</th>\n",
       "      <th>shooting</th>\n",
       "      <th>passing</th>\n",
       "      <th>dribbling</th>\n",
       "      <th>defending</th>\n",
       "      <th>player_face_url</th>\n",
       "      <th>club_logo_url</th>\n",
       "      <th>club_flag_url</th>\n",
       "      <th>nation_logo_url</th>\n",
       "      <th>nation_flag_url</th>\n",
       "      <th>year</th>\n",
       "    </tr>\n",
       "  </thead>\n",
       "  <tbody>\n",
       "    <tr>\n",
       "      <th>3</th>\n",
       "      <td>Zlatan Ibrahimović</td>\n",
       "      <td>Z. Ibrahimović</td>\n",
       "      <td>ST</td>\n",
       "      <td>90</td>\n",
       "      <td>52500000.0</td>\n",
       "      <td>275000.0</td>\n",
       "      <td>32</td>\n",
       "      <td>195</td>\n",
       "      <td>Paris Saint-Germain</td>\n",
       "      <td>1.0</td>\n",
       "      <td>...</td>\n",
       "      <td>91.0</td>\n",
       "      <td>81.0</td>\n",
       "      <td>86.0</td>\n",
       "      <td>34.0</td>\n",
       "      <td>https://cdn.sofifa.net/players/041/236/15_120.png</td>\n",
       "      <td>https://cdn.sofifa.net/teams/73/60.png</td>\n",
       "      <td>https://cdn.sofifa.net/flags/fr.png</td>\n",
       "      <td>https://cdn.sofifa.net/teams/1363/60.png</td>\n",
       "      <td>https://cdn.sofifa.net/flags/se.png</td>\n",
       "      <td>2015</td>\n",
       "    </tr>\n",
       "    <tr>\n",
       "      <th>5</th>\n",
       "      <td>Zlatan Ibrahimović</td>\n",
       "      <td>Z. Ibrahimović</td>\n",
       "      <td>ST</td>\n",
       "      <td>89</td>\n",
       "      <td>40500000.0</td>\n",
       "      <td>220000.0</td>\n",
       "      <td>33</td>\n",
       "      <td>195</td>\n",
       "      <td>Paris Saint-Germain</td>\n",
       "      <td>1.0</td>\n",
       "      <td>...</td>\n",
       "      <td>90.0</td>\n",
       "      <td>81.0</td>\n",
       "      <td>85.0</td>\n",
       "      <td>31.0</td>\n",
       "      <td>https://cdn.sofifa.net/players/041/236/16_120.png</td>\n",
       "      <td>https://cdn.sofifa.net/teams/73/60.png</td>\n",
       "      <td>https://cdn.sofifa.net/flags/fr.png</td>\n",
       "      <td>https://cdn.sofifa.net/teams/1363/60.png</td>\n",
       "      <td>https://cdn.sofifa.net/flags/se.png</td>\n",
       "      <td>2016</td>\n",
       "    </tr>\n",
       "    <tr>\n",
       "      <th>5</th>\n",
       "      <td>Zlatan Ibrahimović</td>\n",
       "      <td>Z. Ibrahimović</td>\n",
       "      <td>ST</td>\n",
       "      <td>90</td>\n",
       "      <td>36500000.0</td>\n",
       "      <td>300000.0</td>\n",
       "      <td>34</td>\n",
       "      <td>195</td>\n",
       "      <td>Manchester United</td>\n",
       "      <td>1.0</td>\n",
       "      <td>...</td>\n",
       "      <td>90.0</td>\n",
       "      <td>81.0</td>\n",
       "      <td>85.0</td>\n",
       "      <td>31.0</td>\n",
       "      <td>https://cdn.sofifa.net/players/041/236/17_120.png</td>\n",
       "      <td>https://cdn.sofifa.net/teams/11/60.png</td>\n",
       "      <td>https://cdn.sofifa.net/flags/gb-eng.png</td>\n",
       "      <td>NaN</td>\n",
       "      <td>https://cdn.sofifa.net/flags/se.png</td>\n",
       "      <td>2017</td>\n",
       "    </tr>\n",
       "    <tr>\n",
       "      <th>20</th>\n",
       "      <td>Zlatan Ibrahimović</td>\n",
       "      <td>Z. Ibrahimović</td>\n",
       "      <td>ST</td>\n",
       "      <td>88</td>\n",
       "      <td>27000000.0</td>\n",
       "      <td>225000.0</td>\n",
       "      <td>35</td>\n",
       "      <td>195</td>\n",
       "      <td>Manchester United</td>\n",
       "      <td>1.0</td>\n",
       "      <td>...</td>\n",
       "      <td>88.0</td>\n",
       "      <td>81.0</td>\n",
       "      <td>82.0</td>\n",
       "      <td>32.0</td>\n",
       "      <td>https://cdn.sofifa.net/players/041/236/18_120.png</td>\n",
       "      <td>https://cdn.sofifa.net/teams/11/60.png</td>\n",
       "      <td>https://cdn.sofifa.net/flags/gb-eng.png</td>\n",
       "      <td>NaN</td>\n",
       "      <td>https://cdn.sofifa.net/flags/se.png</td>\n",
       "      <td>2018</td>\n",
       "    </tr>\n",
       "    <tr>\n",
       "      <th>80</th>\n",
       "      <td>Zlatan Ibrahimović</td>\n",
       "      <td>Z. Ibrahimović</td>\n",
       "      <td>ST</td>\n",
       "      <td>85</td>\n",
       "      <td>14000000.0</td>\n",
       "      <td>15000.0</td>\n",
       "      <td>36</td>\n",
       "      <td>195</td>\n",
       "      <td>LA Galaxy</td>\n",
       "      <td>1.0</td>\n",
       "      <td>...</td>\n",
       "      <td>86.0</td>\n",
       "      <td>77.0</td>\n",
       "      <td>78.0</td>\n",
       "      <td>34.0</td>\n",
       "      <td>https://cdn.sofifa.net/players/041/236/19_120.png</td>\n",
       "      <td>https://cdn.sofifa.net/teams/697/60.png</td>\n",
       "      <td>https://cdn.sofifa.net/flags/us.png</td>\n",
       "      <td>NaN</td>\n",
       "      <td>https://cdn.sofifa.net/flags/se.png</td>\n",
       "      <td>2019</td>\n",
       "    </tr>\n",
       "    <tr>\n",
       "      <th>73</th>\n",
       "      <td>Zlatan Ibrahimović</td>\n",
       "      <td>Z. Ibrahimović</td>\n",
       "      <td>ST</td>\n",
       "      <td>85</td>\n",
       "      <td>11000000.0</td>\n",
       "      <td>15000.0</td>\n",
       "      <td>37</td>\n",
       "      <td>195</td>\n",
       "      <td>LA Galaxy</td>\n",
       "      <td>1.0</td>\n",
       "      <td>...</td>\n",
       "      <td>88.0</td>\n",
       "      <td>77.0</td>\n",
       "      <td>77.0</td>\n",
       "      <td>34.0</td>\n",
       "      <td>https://cdn.sofifa.net/players/041/236/20_120.png</td>\n",
       "      <td>https://cdn.sofifa.net/teams/697/60.png</td>\n",
       "      <td>https://cdn.sofifa.net/flags/us.png</td>\n",
       "      <td>NaN</td>\n",
       "      <td>https://cdn.sofifa.net/flags/se.png</td>\n",
       "      <td>2020</td>\n",
       "    </tr>\n",
       "    <tr>\n",
       "      <th>140</th>\n",
       "      <td>Zlatan Ibrahimović</td>\n",
       "      <td>Z. Ibrahimović</td>\n",
       "      <td>ST</td>\n",
       "      <td>83</td>\n",
       "      <td>12500000.0</td>\n",
       "      <td>49000.0</td>\n",
       "      <td>38</td>\n",
       "      <td>195</td>\n",
       "      <td>AC Milan</td>\n",
       "      <td>1.0</td>\n",
       "      <td>...</td>\n",
       "      <td>88.0</td>\n",
       "      <td>77.0</td>\n",
       "      <td>79.0</td>\n",
       "      <td>34.0</td>\n",
       "      <td>https://cdn.sofifa.net/players/041/236/21_120.png</td>\n",
       "      <td>https://cdn.sofifa.net/teams/47/60.png</td>\n",
       "      <td>https://cdn.sofifa.net/flags/it.png</td>\n",
       "      <td>NaN</td>\n",
       "      <td>https://cdn.sofifa.net/flags/se.png</td>\n",
       "      <td>2021</td>\n",
       "    </tr>\n",
       "  </tbody>\n",
       "</table>\n",
       "<p>7 rows × 28 columns</p>\n",
       "</div>"
      ],
      "text/plain": [
       "              long_name      short_name player_positions  potential  \\\n",
       "3    Zlatan Ibrahimović  Z. Ibrahimović               ST         90   \n",
       "5    Zlatan Ibrahimović  Z. Ibrahimović               ST         89   \n",
       "5    Zlatan Ibrahimović  Z. Ibrahimović               ST         90   \n",
       "20   Zlatan Ibrahimović  Z. Ibrahimović               ST         88   \n",
       "80   Zlatan Ibrahimović  Z. Ibrahimović               ST         85   \n",
       "73   Zlatan Ibrahimović  Z. Ibrahimović               ST         85   \n",
       "140  Zlatan Ibrahimović  Z. Ibrahimović               ST         83   \n",
       "\n",
       "      value_eur  wage_eur  age  height_cm            club_name  league_level  \\\n",
       "3    52500000.0  275000.0   32        195  Paris Saint-Germain           1.0   \n",
       "5    40500000.0  220000.0   33        195  Paris Saint-Germain           1.0   \n",
       "5    36500000.0  300000.0   34        195    Manchester United           1.0   \n",
       "20   27000000.0  225000.0   35        195    Manchester United           1.0   \n",
       "80   14000000.0   15000.0   36        195            LA Galaxy           1.0   \n",
       "73   11000000.0   15000.0   37        195            LA Galaxy           1.0   \n",
       "140  12500000.0   49000.0   38        195             AC Milan           1.0   \n",
       "\n",
       "     ...  shooting passing  dribbling  defending  \\\n",
       "3    ...      91.0    81.0       86.0       34.0   \n",
       "5    ...      90.0    81.0       85.0       31.0   \n",
       "5    ...      90.0    81.0       85.0       31.0   \n",
       "20   ...      88.0    81.0       82.0       32.0   \n",
       "80   ...      86.0    77.0       78.0       34.0   \n",
       "73   ...      88.0    77.0       77.0       34.0   \n",
       "140  ...      88.0    77.0       79.0       34.0   \n",
       "\n",
       "                                       player_face_url  \\\n",
       "3    https://cdn.sofifa.net/players/041/236/15_120.png   \n",
       "5    https://cdn.sofifa.net/players/041/236/16_120.png   \n",
       "5    https://cdn.sofifa.net/players/041/236/17_120.png   \n",
       "20   https://cdn.sofifa.net/players/041/236/18_120.png   \n",
       "80   https://cdn.sofifa.net/players/041/236/19_120.png   \n",
       "73   https://cdn.sofifa.net/players/041/236/20_120.png   \n",
       "140  https://cdn.sofifa.net/players/041/236/21_120.png   \n",
       "\n",
       "                               club_logo_url  \\\n",
       "3     https://cdn.sofifa.net/teams/73/60.png   \n",
       "5     https://cdn.sofifa.net/teams/73/60.png   \n",
       "5     https://cdn.sofifa.net/teams/11/60.png   \n",
       "20    https://cdn.sofifa.net/teams/11/60.png   \n",
       "80   https://cdn.sofifa.net/teams/697/60.png   \n",
       "73   https://cdn.sofifa.net/teams/697/60.png   \n",
       "140   https://cdn.sofifa.net/teams/47/60.png   \n",
       "\n",
       "                               club_flag_url  \\\n",
       "3        https://cdn.sofifa.net/flags/fr.png   \n",
       "5        https://cdn.sofifa.net/flags/fr.png   \n",
       "5    https://cdn.sofifa.net/flags/gb-eng.png   \n",
       "20   https://cdn.sofifa.net/flags/gb-eng.png   \n",
       "80       https://cdn.sofifa.net/flags/us.png   \n",
       "73       https://cdn.sofifa.net/flags/us.png   \n",
       "140      https://cdn.sofifa.net/flags/it.png   \n",
       "\n",
       "                              nation_logo_url  \\\n",
       "3    https://cdn.sofifa.net/teams/1363/60.png   \n",
       "5    https://cdn.sofifa.net/teams/1363/60.png   \n",
       "5                                         NaN   \n",
       "20                                        NaN   \n",
       "80                                        NaN   \n",
       "73                                        NaN   \n",
       "140                                       NaN   \n",
       "\n",
       "                         nation_flag_url  year  \n",
       "3    https://cdn.sofifa.net/flags/se.png  2015  \n",
       "5    https://cdn.sofifa.net/flags/se.png  2016  \n",
       "5    https://cdn.sofifa.net/flags/se.png  2017  \n",
       "20   https://cdn.sofifa.net/flags/se.png  2018  \n",
       "80   https://cdn.sofifa.net/flags/se.png  2019  \n",
       "73   https://cdn.sofifa.net/flags/se.png  2020  \n",
       "140  https://cdn.sofifa.net/flags/se.png  2021  \n",
       "\n",
       "[7 rows x 28 columns]"
      ]
     },
     "execution_count": 132,
     "metadata": {},
     "output_type": "execute_result"
    }
   ],
   "source": [
    "fifa_15_21.loc[(fifa_15_21[\"long_name\"]==\"Zlatan Ibrahimović\")]"
   ]
  },
  {
   "cell_type": "markdown",
   "metadata": {},
   "source": [
    "## Imputation of all other (non-categorical) variables"
   ]
  },
  {
   "cell_type": "code",
   "execution_count": 133,
   "metadata": {
    "colab": {
     "base_uri": "https://localhost:8080/"
    },
    "executionInfo": {
     "elapsed": 346,
     "status": "ok",
     "timestamp": 1670607186898,
     "user": {
      "displayName": "Emilia Lautz",
      "userId": "12799330444436508787"
     },
     "user_tz": -60
    },
    "id": "pvYeI1Q_qri9",
    "outputId": "d9ad80f2-8694-45e4-c4e9-86493416b133"
   },
   "outputs": [
    {
     "name": "stdout",
     "output_type": "stream",
     "text": [
      "<class 'pandas.core.frame.DataFrame'>\n",
      "Int64Index: 122840 entries, 0 to 18943\n",
      "Data columns (total 12 columns):\n",
      " #   Column                    Non-Null Count   Dtype  \n",
      "---  ------                    --------------   -----  \n",
      " 0   potential                 122840 non-null  int64  \n",
      " 1   age                       122840 non-null  int64  \n",
      " 2   league_level              122840 non-null  float64\n",
      " 3   skill_moves               122840 non-null  int64  \n",
      " 4   international_reputation  122840 non-null  int64  \n",
      " 5   pace                      109181 non-null  float64\n",
      " 6   shooting                  109181 non-null  float64\n",
      " 7   passing                   109181 non-null  float64\n",
      " 8   dribbling                 109181 non-null  float64\n",
      " 9   defending                 109181 non-null  float64\n",
      " 10  value_eur                 121017 non-null  float64\n",
      " 11  preferred_foot_Right      122840 non-null  uint8  \n",
      "dtypes: float64(7), int64(4), uint8(1)\n",
      "memory usage: 11.4 MB\n"
     ]
    }
   ],
   "source": [
    "# Define Training-Data\n",
    "\n",
    "X = fifa_15_21[[\"potential\",\"age\",\"league_level\",\"skill_moves\",\"preferred_foot\",\"international_reputation\",\"pace\",\"shooting\",\"passing\",\"dribbling\",\"defending\", \"value_eur\"]].copy()\n",
    "X = pd.get_dummies(X, drop_first=True)\n",
    "X.info()"
   ]
  },
  {
   "cell_type": "markdown",
   "metadata": {
    "id": "XpUIINPVspH8"
   },
   "source": [
    "The data for the training of the model has 12 variables and 122'840 observations.\n",
    "\n",
    "There are missing values in:\n",
    "- pace\n",
    "- shooting\n",
    "- passing\n",
    "- dribbling\n",
    "- defending\n",
    "- value_eur\n",
    "\n",
    "We use a KNN-Imputer to get rid of the NAs."
   ]
  },
  {
   "cell_type": "code",
   "execution_count": 134,
   "metadata": {
    "colab": {
     "base_uri": "https://localhost:8080/"
    },
    "executionInfo": {
     "elapsed": 1371383,
     "status": "ok",
     "timestamp": 1670608594334,
     "user": {
      "displayName": "Emilia Lautz",
      "userId": "12799330444436508787"
     },
     "user_tz": -60
    },
    "id": "rWD55-cSlVxd",
    "outputId": "d6c15b67-4c1a-45b5-e1c7-85f7cf813a23"
   },
   "outputs": [],
   "source": [
    "imputer = KNNImputer() #miss forest\n",
    "imputed_data = imputer.fit_transform(X)\n",
    "names = imputer.feature_names_in_\n",
    "imputed_data = pd.DataFrame(imputed_data, columns = names, index=X.index)"
   ]
  },
  {
   "cell_type": "code",
   "execution_count": 135,
   "metadata": {
    "colab": {
     "base_uri": "https://localhost:8080/"
    },
    "executionInfo": {
     "elapsed": 202,
     "status": "ok",
     "timestamp": 1670609066446,
     "user": {
      "displayName": "Emilia Lautz",
      "userId": "12799330444436508787"
     },
     "user_tz": -60
    },
    "id": "Xk-wdQloyfHt",
    "outputId": "aada72c4-2cd9-4f69-e138-ddef471a60a5"
   },
   "outputs": [
    {
     "name": "stdout",
     "output_type": "stream",
     "text": [
      "<class 'pandas.core.frame.DataFrame'>\n",
      "Int64Index: 122840 entries, 0 to 18943\n",
      "Data columns (total 12 columns):\n",
      " #   Column                    Non-Null Count   Dtype  \n",
      "---  ------                    --------------   -----  \n",
      " 0   potential                 122840 non-null  float64\n",
      " 1   age                       122840 non-null  float64\n",
      " 2   league_level              122840 non-null  float64\n",
      " 3   skill_moves               122840 non-null  float64\n",
      " 4   international_reputation  122840 non-null  float64\n",
      " 5   pace                      122840 non-null  float64\n",
      " 6   shooting                  122840 non-null  float64\n",
      " 7   passing                   122840 non-null  float64\n",
      " 8   dribbling                 122840 non-null  float64\n",
      " 9   defending                 122840 non-null  float64\n",
      " 10  value_eur                 122840 non-null  float64\n",
      " 11  preferred_foot_Right      122840 non-null  float64\n",
      "dtypes: float64(12)\n",
      "memory usage: 12.2 MB\n"
     ]
    }
   ],
   "source": [
    "imputed_data.info()"
   ]
  },
  {
   "cell_type": "code",
   "execution_count": 136,
   "metadata": {},
   "outputs": [
    {
     "name": "stdout",
     "output_type": "stream",
     "text": [
      "<class 'pandas.core.frame.DataFrame'>\n",
      "Int64Index: 122840 entries, 0 to 18943\n",
      "Data columns (total 29 columns):\n",
      " #   Column                     Non-Null Count   Dtype  \n",
      "---  ------                     --------------   -----  \n",
      " 0   long_name                  122840 non-null  object \n",
      " 1   short_name                 122840 non-null  object \n",
      " 2   player_positions           122840 non-null  object \n",
      " 3   potential                  122840 non-null  int64  \n",
      " 4   value_eur                  122840 non-null  float64\n",
      " 5   wage_eur                   121279 non-null  float64\n",
      " 6   age                        122840 non-null  int64  \n",
      " 7   height_cm                  122840 non-null  int64  \n",
      " 8   club_name                  121271 non-null  object \n",
      " 9   league_level               122840 non-null  float64\n",
      " 10  club_contract_valid_until  121271 non-null  float64\n",
      " 11  preferred_foot             122840 non-null  object \n",
      " 12  skill_moves                122840 non-null  int64  \n",
      " 13  international_reputation   122840 non-null  int64  \n",
      " 14  release_clause_eur         68434 non-null   float64\n",
      " 15  player_tags                9873 non-null    object \n",
      " 16  player_traits              53910 non-null   object \n",
      " 17  pace                       122840 non-null  float64\n",
      " 18  shooting                   122840 non-null  float64\n",
      " 19  passing                    122840 non-null  float64\n",
      " 20  dribbling                  122840 non-null  float64\n",
      " 21  defending                  122840 non-null  float64\n",
      " 22  player_face_url            122840 non-null  object \n",
      " 23  club_logo_url              121271 non-null  object \n",
      " 24  club_flag_url              121271 non-null  object \n",
      " 25  nation_logo_url            7685 non-null    object \n",
      " 26  nation_flag_url            122840 non-null  object \n",
      " 27  year                       122840 non-null  int64  \n",
      " 28  value_eur_log              122840 non-null  float64\n",
      "dtypes: float64(11), int64(6), object(12)\n",
      "memory usage: 28.1+ MB\n"
     ]
    }
   ],
   "source": [
    "# Save the imputed data set:\n",
    "\n",
    "fifa_15_21[\"pace\"] = imputed_data[\"pace\"]\n",
    "fifa_15_21[\"shooting\"] = imputed_data[\"shooting\"]\n",
    "fifa_15_21[\"passing\"] = imputed_data[\"passing\"]\n",
    "fifa_15_21[\"dribbling\"] = imputed_data[\"dribbling\"]\n",
    "fifa_15_21[\"defending\"] = imputed_data[\"defending\"]\n",
    "fifa_15_21[\"value_eur_log\"] = np.log(imputed_data[\"value_eur\"])\n",
    "fifa_15_21[\"value_eur\"] = imputed_data[\"value_eur\"]\n",
    "\n",
    "fifa_15_21.info()"
   ]
  },
  {
   "cell_type": "code",
   "execution_count": 137,
   "metadata": {},
   "outputs": [
    {
     "data": {
      "text/html": [
       "<div>\n",
       "<style scoped>\n",
       "    .dataframe tbody tr th:only-of-type {\n",
       "        vertical-align: middle;\n",
       "    }\n",
       "\n",
       "    .dataframe tbody tr th {\n",
       "        vertical-align: top;\n",
       "    }\n",
       "\n",
       "    .dataframe thead th {\n",
       "        text-align: right;\n",
       "    }\n",
       "</style>\n",
       "<table border=\"1\" class=\"dataframe\">\n",
       "  <thead>\n",
       "    <tr style=\"text-align: right;\">\n",
       "      <th></th>\n",
       "      <th>long_name</th>\n",
       "      <th>short_name</th>\n",
       "      <th>player_positions</th>\n",
       "      <th>potential</th>\n",
       "      <th>value_eur</th>\n",
       "      <th>wage_eur</th>\n",
       "      <th>age</th>\n",
       "      <th>height_cm</th>\n",
       "      <th>club_name</th>\n",
       "      <th>league_level</th>\n",
       "      <th>...</th>\n",
       "      <th>club_logo_url</th>\n",
       "      <th>club_flag_url</th>\n",
       "      <th>nation_logo_url</th>\n",
       "      <th>nation_flag_url</th>\n",
       "      <th>year</th>\n",
       "      <th>value_eur_log</th>\n",
       "      <th>position_0</th>\n",
       "      <th>position_1</th>\n",
       "      <th>position_2</th>\n",
       "      <th>position_3</th>\n",
       "    </tr>\n",
       "  </thead>\n",
       "  <tbody>\n",
       "    <tr>\n",
       "      <th>0</th>\n",
       "      <td>Lionel Andrés Messi Cuccittini</td>\n",
       "      <td>L. Messi</td>\n",
       "      <td>CF</td>\n",
       "      <td>95</td>\n",
       "      <td>100500000.0</td>\n",
       "      <td>550000.0</td>\n",
       "      <td>27</td>\n",
       "      <td>169</td>\n",
       "      <td>FC Barcelona</td>\n",
       "      <td>1.0</td>\n",
       "      <td>...</td>\n",
       "      <td>https://cdn.sofifa.net/teams/241/60.png</td>\n",
       "      <td>https://cdn.sofifa.net/flags/es.png</td>\n",
       "      <td>https://cdn.sofifa.net/teams/1369/60.png</td>\n",
       "      <td>https://cdn.sofifa.net/flags/ar.png</td>\n",
       "      <td>2015</td>\n",
       "      <td>18.425668</td>\n",
       "      <td>CF</td>\n",
       "      <td></td>\n",
       "      <td></td>\n",
       "      <td></td>\n",
       "    </tr>\n",
       "    <tr>\n",
       "      <th>1</th>\n",
       "      <td>Cristiano Ronaldo dos Santos Aveiro</td>\n",
       "      <td>Cristiano Ronaldo</td>\n",
       "      <td>LW, LM</td>\n",
       "      <td>92</td>\n",
       "      <td>79000000.0</td>\n",
       "      <td>375000.0</td>\n",
       "      <td>29</td>\n",
       "      <td>185</td>\n",
       "      <td>Real Madrid CF</td>\n",
       "      <td>1.0</td>\n",
       "      <td>...</td>\n",
       "      <td>https://cdn.sofifa.net/teams/243/60.png</td>\n",
       "      <td>https://cdn.sofifa.net/flags/es.png</td>\n",
       "      <td>https://cdn.sofifa.net/teams/1354/60.png</td>\n",
       "      <td>https://cdn.sofifa.net/flags/pt.png</td>\n",
       "      <td>2015</td>\n",
       "      <td>18.184958</td>\n",
       "      <td>LW</td>\n",
       "      <td>LM</td>\n",
       "      <td></td>\n",
       "      <td></td>\n",
       "    </tr>\n",
       "    <tr>\n",
       "      <th>2</th>\n",
       "      <td>Arjen Robben</td>\n",
       "      <td>A. Robben</td>\n",
       "      <td>RM, LM, RW</td>\n",
       "      <td>90</td>\n",
       "      <td>54500000.0</td>\n",
       "      <td>275000.0</td>\n",
       "      <td>30</td>\n",
       "      <td>180</td>\n",
       "      <td>FC Bayern München</td>\n",
       "      <td>1.0</td>\n",
       "      <td>...</td>\n",
       "      <td>https://cdn.sofifa.net/teams/21/60.png</td>\n",
       "      <td>https://cdn.sofifa.net/flags/de.png</td>\n",
       "      <td>https://cdn.sofifa.net/teams/105035/60.png</td>\n",
       "      <td>https://cdn.sofifa.net/flags/nl.png</td>\n",
       "      <td>2015</td>\n",
       "      <td>17.813711</td>\n",
       "      <td>RM</td>\n",
       "      <td>LM</td>\n",
       "      <td>RW</td>\n",
       "      <td></td>\n",
       "    </tr>\n",
       "    <tr>\n",
       "      <th>3</th>\n",
       "      <td>Zlatan Ibrahimović</td>\n",
       "      <td>Z. Ibrahimović</td>\n",
       "      <td>ST</td>\n",
       "      <td>90</td>\n",
       "      <td>52500000.0</td>\n",
       "      <td>275000.0</td>\n",
       "      <td>32</td>\n",
       "      <td>195</td>\n",
       "      <td>Paris Saint-Germain</td>\n",
       "      <td>1.0</td>\n",
       "      <td>...</td>\n",
       "      <td>https://cdn.sofifa.net/teams/73/60.png</td>\n",
       "      <td>https://cdn.sofifa.net/flags/fr.png</td>\n",
       "      <td>https://cdn.sofifa.net/teams/1363/60.png</td>\n",
       "      <td>https://cdn.sofifa.net/flags/se.png</td>\n",
       "      <td>2015</td>\n",
       "      <td>17.776324</td>\n",
       "      <td>ST</td>\n",
       "      <td></td>\n",
       "      <td></td>\n",
       "      <td></td>\n",
       "    </tr>\n",
       "    <tr>\n",
       "      <th>4</th>\n",
       "      <td>Manuel Peter Neuer</td>\n",
       "      <td>M. Neuer</td>\n",
       "      <td>GK</td>\n",
       "      <td>90</td>\n",
       "      <td>63500000.0</td>\n",
       "      <td>300000.0</td>\n",
       "      <td>28</td>\n",
       "      <td>193</td>\n",
       "      <td>FC Bayern München</td>\n",
       "      <td>1.0</td>\n",
       "      <td>...</td>\n",
       "      <td>https://cdn.sofifa.net/teams/21/60.png</td>\n",
       "      <td>https://cdn.sofifa.net/flags/de.png</td>\n",
       "      <td>https://cdn.sofifa.net/teams/1337/60.png</td>\n",
       "      <td>https://cdn.sofifa.net/flags/de.png</td>\n",
       "      <td>2015</td>\n",
       "      <td>17.966550</td>\n",
       "      <td>GK</td>\n",
       "      <td></td>\n",
       "      <td></td>\n",
       "      <td></td>\n",
       "    </tr>\n",
       "  </tbody>\n",
       "</table>\n",
       "<p>5 rows × 33 columns</p>\n",
       "</div>"
      ],
      "text/plain": [
       "                             long_name         short_name player_positions  \\\n",
       "0       Lionel Andrés Messi Cuccittini           L. Messi               CF   \n",
       "1  Cristiano Ronaldo dos Santos Aveiro  Cristiano Ronaldo           LW, LM   \n",
       "2                         Arjen Robben          A. Robben       RM, LM, RW   \n",
       "3                   Zlatan Ibrahimović     Z. Ibrahimović               ST   \n",
       "4                   Manuel Peter Neuer           M. Neuer               GK   \n",
       "\n",
       "   potential    value_eur  wage_eur  age  height_cm            club_name  \\\n",
       "0         95  100500000.0  550000.0   27        169         FC Barcelona   \n",
       "1         92   79000000.0  375000.0   29        185       Real Madrid CF   \n",
       "2         90   54500000.0  275000.0   30        180    FC Bayern München   \n",
       "3         90   52500000.0  275000.0   32        195  Paris Saint-Germain   \n",
       "4         90   63500000.0  300000.0   28        193    FC Bayern München   \n",
       "\n",
       "   league_level  ...                            club_logo_url  \\\n",
       "0           1.0  ...  https://cdn.sofifa.net/teams/241/60.png   \n",
       "1           1.0  ...  https://cdn.sofifa.net/teams/243/60.png   \n",
       "2           1.0  ...   https://cdn.sofifa.net/teams/21/60.png   \n",
       "3           1.0  ...   https://cdn.sofifa.net/teams/73/60.png   \n",
       "4           1.0  ...   https://cdn.sofifa.net/teams/21/60.png   \n",
       "\n",
       "                         club_flag_url  \\\n",
       "0  https://cdn.sofifa.net/flags/es.png   \n",
       "1  https://cdn.sofifa.net/flags/es.png   \n",
       "2  https://cdn.sofifa.net/flags/de.png   \n",
       "3  https://cdn.sofifa.net/flags/fr.png   \n",
       "4  https://cdn.sofifa.net/flags/de.png   \n",
       "\n",
       "                              nation_logo_url  \\\n",
       "0    https://cdn.sofifa.net/teams/1369/60.png   \n",
       "1    https://cdn.sofifa.net/teams/1354/60.png   \n",
       "2  https://cdn.sofifa.net/teams/105035/60.png   \n",
       "3    https://cdn.sofifa.net/teams/1363/60.png   \n",
       "4    https://cdn.sofifa.net/teams/1337/60.png   \n",
       "\n",
       "                       nation_flag_url  year value_eur_log position_0  \\\n",
       "0  https://cdn.sofifa.net/flags/ar.png  2015     18.425668         CF   \n",
       "1  https://cdn.sofifa.net/flags/pt.png  2015     18.184958         LW   \n",
       "2  https://cdn.sofifa.net/flags/nl.png  2015     17.813711         RM   \n",
       "3  https://cdn.sofifa.net/flags/se.png  2015     17.776324         ST   \n",
       "4  https://cdn.sofifa.net/flags/de.png  2015     17.966550         GK   \n",
       "\n",
       "   position_1  position_2  position_3  \n",
       "0                                      \n",
       "1          LM                          \n",
       "2          LM          RW              \n",
       "3                                      \n",
       "4                                      \n",
       "\n",
       "[5 rows x 33 columns]"
      ]
     },
     "execution_count": 137,
     "metadata": {},
     "output_type": "execute_result"
    }
   ],
   "source": [
    "# Player positions: Split player positions into several variables\n",
    "\n",
    "df = fifa_15_21.copy()\n",
    "df['positions_list'] = df['player_positions'].str.split(',')\n",
    "df_positions = pd.DataFrame(df['positions_list'].tolist()).fillna('').add_prefix('position_')\n",
    "fifa_15_21[\"position_0\"] = df_positions[\"position_0\"]\n",
    "fifa_15_21[\"position_1\"] = df_positions[\"position_1\"]\n",
    "fifa_15_21[\"position_2\"] = df_positions[\"position_2\"]\n",
    "fifa_15_21[\"position_3\"] = df_positions[\"position_3\"]\n",
    "fifa_15_21.head()"
   ]
  },
  {
   "cell_type": "code",
   "execution_count": 138,
   "metadata": {},
   "outputs": [
    {
     "data": {
      "text/html": [
       "<div>\n",
       "<style scoped>\n",
       "    .dataframe tbody tr th:only-of-type {\n",
       "        vertical-align: middle;\n",
       "    }\n",
       "\n",
       "    .dataframe tbody tr th {\n",
       "        vertical-align: top;\n",
       "    }\n",
       "\n",
       "    .dataframe thead th {\n",
       "        text-align: right;\n",
       "    }\n",
       "</style>\n",
       "<table border=\"1\" class=\"dataframe\">\n",
       "  <thead>\n",
       "    <tr style=\"text-align: right;\">\n",
       "      <th></th>\n",
       "      <th>long_name</th>\n",
       "      <th>short_name</th>\n",
       "      <th>player_positions</th>\n",
       "      <th>potential</th>\n",
       "      <th>value_eur</th>\n",
       "      <th>wage_eur</th>\n",
       "      <th>age</th>\n",
       "      <th>height_cm</th>\n",
       "      <th>club_name</th>\n",
       "      <th>league_level</th>\n",
       "      <th>...</th>\n",
       "      <th>club_logo_url</th>\n",
       "      <th>club_flag_url</th>\n",
       "      <th>nation_logo_url</th>\n",
       "      <th>nation_flag_url</th>\n",
       "      <th>year</th>\n",
       "      <th>value_eur_log</th>\n",
       "      <th>position_0</th>\n",
       "      <th>position_1</th>\n",
       "      <th>position_2</th>\n",
       "      <th>position_3</th>\n",
       "    </tr>\n",
       "  </thead>\n",
       "  <tbody>\n",
       "    <tr>\n",
       "      <th>3</th>\n",
       "      <td>Zlatan Ibrahimović</td>\n",
       "      <td>Z. Ibrahimović</td>\n",
       "      <td>ST</td>\n",
       "      <td>90</td>\n",
       "      <td>52500000.0</td>\n",
       "      <td>275000.0</td>\n",
       "      <td>32</td>\n",
       "      <td>195</td>\n",
       "      <td>Paris Saint-Germain</td>\n",
       "      <td>1.0</td>\n",
       "      <td>...</td>\n",
       "      <td>https://cdn.sofifa.net/teams/73/60.png</td>\n",
       "      <td>https://cdn.sofifa.net/flags/fr.png</td>\n",
       "      <td>https://cdn.sofifa.net/teams/1363/60.png</td>\n",
       "      <td>https://cdn.sofifa.net/flags/se.png</td>\n",
       "      <td>2015</td>\n",
       "      <td>17.776324</td>\n",
       "      <td>ST</td>\n",
       "      <td></td>\n",
       "      <td></td>\n",
       "      <td></td>\n",
       "    </tr>\n",
       "    <tr>\n",
       "      <th>5</th>\n",
       "      <td>Zlatan Ibrahimović</td>\n",
       "      <td>Z. Ibrahimović</td>\n",
       "      <td>ST</td>\n",
       "      <td>89</td>\n",
       "      <td>40500000.0</td>\n",
       "      <td>220000.0</td>\n",
       "      <td>33</td>\n",
       "      <td>195</td>\n",
       "      <td>Paris Saint-Germain</td>\n",
       "      <td>1.0</td>\n",
       "      <td>...</td>\n",
       "      <td>https://cdn.sofifa.net/teams/73/60.png</td>\n",
       "      <td>https://cdn.sofifa.net/flags/fr.png</td>\n",
       "      <td>https://cdn.sofifa.net/teams/1363/60.png</td>\n",
       "      <td>https://cdn.sofifa.net/flags/se.png</td>\n",
       "      <td>2016</td>\n",
       "      <td>17.516813</td>\n",
       "      <td>CM</td>\n",
       "      <td>LW</td>\n",
       "      <td></td>\n",
       "      <td></td>\n",
       "    </tr>\n",
       "    <tr>\n",
       "      <th>5</th>\n",
       "      <td>Zlatan Ibrahimović</td>\n",
       "      <td>Z. Ibrahimović</td>\n",
       "      <td>ST</td>\n",
       "      <td>90</td>\n",
       "      <td>36500000.0</td>\n",
       "      <td>300000.0</td>\n",
       "      <td>34</td>\n",
       "      <td>195</td>\n",
       "      <td>Manchester United</td>\n",
       "      <td>1.0</td>\n",
       "      <td>...</td>\n",
       "      <td>https://cdn.sofifa.net/teams/11/60.png</td>\n",
       "      <td>https://cdn.sofifa.net/flags/gb-eng.png</td>\n",
       "      <td>NaN</td>\n",
       "      <td>https://cdn.sofifa.net/flags/se.png</td>\n",
       "      <td>2017</td>\n",
       "      <td>17.412823</td>\n",
       "      <td>CM</td>\n",
       "      <td>LW</td>\n",
       "      <td></td>\n",
       "      <td></td>\n",
       "    </tr>\n",
       "    <tr>\n",
       "      <th>20</th>\n",
       "      <td>Zlatan Ibrahimović</td>\n",
       "      <td>Z. Ibrahimović</td>\n",
       "      <td>ST</td>\n",
       "      <td>88</td>\n",
       "      <td>27000000.0</td>\n",
       "      <td>225000.0</td>\n",
       "      <td>35</td>\n",
       "      <td>195</td>\n",
       "      <td>Manchester United</td>\n",
       "      <td>1.0</td>\n",
       "      <td>...</td>\n",
       "      <td>https://cdn.sofifa.net/teams/11/60.png</td>\n",
       "      <td>https://cdn.sofifa.net/flags/gb-eng.png</td>\n",
       "      <td>NaN</td>\n",
       "      <td>https://cdn.sofifa.net/flags/se.png</td>\n",
       "      <td>2018</td>\n",
       "      <td>17.111347</td>\n",
       "      <td>CM</td>\n",
       "      <td>CDM</td>\n",
       "      <td></td>\n",
       "      <td></td>\n",
       "    </tr>\n",
       "    <tr>\n",
       "      <th>80</th>\n",
       "      <td>Zlatan Ibrahimović</td>\n",
       "      <td>Z. Ibrahimović</td>\n",
       "      <td>ST</td>\n",
       "      <td>85</td>\n",
       "      <td>14000000.0</td>\n",
       "      <td>15000.0</td>\n",
       "      <td>36</td>\n",
       "      <td>195</td>\n",
       "      <td>LA Galaxy</td>\n",
       "      <td>1.0</td>\n",
       "      <td>...</td>\n",
       "      <td>https://cdn.sofifa.net/teams/697/60.png</td>\n",
       "      <td>https://cdn.sofifa.net/flags/us.png</td>\n",
       "      <td>NaN</td>\n",
       "      <td>https://cdn.sofifa.net/flags/se.png</td>\n",
       "      <td>2019</td>\n",
       "      <td>16.454568</td>\n",
       "      <td>GK</td>\n",
       "      <td></td>\n",
       "      <td></td>\n",
       "      <td></td>\n",
       "    </tr>\n",
       "    <tr>\n",
       "      <th>73</th>\n",
       "      <td>Zlatan Ibrahimović</td>\n",
       "      <td>Z. Ibrahimović</td>\n",
       "      <td>ST</td>\n",
       "      <td>85</td>\n",
       "      <td>11000000.0</td>\n",
       "      <td>15000.0</td>\n",
       "      <td>37</td>\n",
       "      <td>195</td>\n",
       "      <td>LA Galaxy</td>\n",
       "      <td>1.0</td>\n",
       "      <td>...</td>\n",
       "      <td>https://cdn.sofifa.net/teams/697/60.png</td>\n",
       "      <td>https://cdn.sofifa.net/flags/us.png</td>\n",
       "      <td>NaN</td>\n",
       "      <td>https://cdn.sofifa.net/flags/se.png</td>\n",
       "      <td>2020</td>\n",
       "      <td>16.213406</td>\n",
       "      <td>RB</td>\n",
       "      <td></td>\n",
       "      <td></td>\n",
       "      <td></td>\n",
       "    </tr>\n",
       "    <tr>\n",
       "      <th>140</th>\n",
       "      <td>Zlatan Ibrahimović</td>\n",
       "      <td>Z. Ibrahimović</td>\n",
       "      <td>ST</td>\n",
       "      <td>83</td>\n",
       "      <td>12500000.0</td>\n",
       "      <td>49000.0</td>\n",
       "      <td>38</td>\n",
       "      <td>195</td>\n",
       "      <td>AC Milan</td>\n",
       "      <td>1.0</td>\n",
       "      <td>...</td>\n",
       "      <td>https://cdn.sofifa.net/teams/47/60.png</td>\n",
       "      <td>https://cdn.sofifa.net/flags/it.png</td>\n",
       "      <td>NaN</td>\n",
       "      <td>https://cdn.sofifa.net/flags/se.png</td>\n",
       "      <td>2021</td>\n",
       "      <td>16.341239</td>\n",
       "      <td>ST</td>\n",
       "      <td></td>\n",
       "      <td></td>\n",
       "      <td></td>\n",
       "    </tr>\n",
       "  </tbody>\n",
       "</table>\n",
       "<p>7 rows × 33 columns</p>\n",
       "</div>"
      ],
      "text/plain": [
       "              long_name      short_name player_positions  potential  \\\n",
       "3    Zlatan Ibrahimović  Z. Ibrahimović               ST         90   \n",
       "5    Zlatan Ibrahimović  Z. Ibrahimović               ST         89   \n",
       "5    Zlatan Ibrahimović  Z. Ibrahimović               ST         90   \n",
       "20   Zlatan Ibrahimović  Z. Ibrahimović               ST         88   \n",
       "80   Zlatan Ibrahimović  Z. Ibrahimović               ST         85   \n",
       "73   Zlatan Ibrahimović  Z. Ibrahimović               ST         85   \n",
       "140  Zlatan Ibrahimović  Z. Ibrahimović               ST         83   \n",
       "\n",
       "      value_eur  wage_eur  age  height_cm            club_name  league_level  \\\n",
       "3    52500000.0  275000.0   32        195  Paris Saint-Germain           1.0   \n",
       "5    40500000.0  220000.0   33        195  Paris Saint-Germain           1.0   \n",
       "5    36500000.0  300000.0   34        195    Manchester United           1.0   \n",
       "20   27000000.0  225000.0   35        195    Manchester United           1.0   \n",
       "80   14000000.0   15000.0   36        195            LA Galaxy           1.0   \n",
       "73   11000000.0   15000.0   37        195            LA Galaxy           1.0   \n",
       "140  12500000.0   49000.0   38        195             AC Milan           1.0   \n",
       "\n",
       "     ...                            club_logo_url  \\\n",
       "3    ...   https://cdn.sofifa.net/teams/73/60.png   \n",
       "5    ...   https://cdn.sofifa.net/teams/73/60.png   \n",
       "5    ...   https://cdn.sofifa.net/teams/11/60.png   \n",
       "20   ...   https://cdn.sofifa.net/teams/11/60.png   \n",
       "80   ...  https://cdn.sofifa.net/teams/697/60.png   \n",
       "73   ...  https://cdn.sofifa.net/teams/697/60.png   \n",
       "140  ...   https://cdn.sofifa.net/teams/47/60.png   \n",
       "\n",
       "                               club_flag_url  \\\n",
       "3        https://cdn.sofifa.net/flags/fr.png   \n",
       "5        https://cdn.sofifa.net/flags/fr.png   \n",
       "5    https://cdn.sofifa.net/flags/gb-eng.png   \n",
       "20   https://cdn.sofifa.net/flags/gb-eng.png   \n",
       "80       https://cdn.sofifa.net/flags/us.png   \n",
       "73       https://cdn.sofifa.net/flags/us.png   \n",
       "140      https://cdn.sofifa.net/flags/it.png   \n",
       "\n",
       "                              nation_logo_url  \\\n",
       "3    https://cdn.sofifa.net/teams/1363/60.png   \n",
       "5    https://cdn.sofifa.net/teams/1363/60.png   \n",
       "5                                         NaN   \n",
       "20                                        NaN   \n",
       "80                                        NaN   \n",
       "73                                        NaN   \n",
       "140                                       NaN   \n",
       "\n",
       "                         nation_flag_url  year value_eur_log position_0  \\\n",
       "3    https://cdn.sofifa.net/flags/se.png  2015     17.776324         ST   \n",
       "5    https://cdn.sofifa.net/flags/se.png  2016     17.516813         CM   \n",
       "5    https://cdn.sofifa.net/flags/se.png  2017     17.412823         CM   \n",
       "20   https://cdn.sofifa.net/flags/se.png  2018     17.111347         CM   \n",
       "80   https://cdn.sofifa.net/flags/se.png  2019     16.454568         GK   \n",
       "73   https://cdn.sofifa.net/flags/se.png  2020     16.213406         RB   \n",
       "140  https://cdn.sofifa.net/flags/se.png  2021     16.341239         ST   \n",
       "\n",
       "     position_1  position_2  position_3  \n",
       "3                                        \n",
       "5            LW                          \n",
       "5            LW                          \n",
       "20          CDM                          \n",
       "80                                       \n",
       "73                                       \n",
       "140                                      \n",
       "\n",
       "[7 rows x 33 columns]"
      ]
     },
     "execution_count": 138,
     "metadata": {},
     "output_type": "execute_result"
    }
   ],
   "source": [
    "# Check if nothing messed up\n",
    "\n",
    "fifa_15_21.loc[(fifa_15_21[\"long_name\"]==\"Zlatan Ibrahimović\")]"
   ]
  },
  {
   "cell_type": "code",
   "execution_count": 139,
   "metadata": {},
   "outputs": [],
   "source": [
    "# Save training data fifa_15_21 with imputed values\n",
    "\n",
    "fifa_15_21.to_csv(\"fifa_15_21.csv\", index = False)"
   ]
  },
  {
   "cell_type": "markdown",
   "metadata": {},
   "source": [
    "### Define X and y"
   ]
  },
  {
   "cell_type": "code",
   "execution_count": 28,
   "metadata": {
    "executionInfo": {
     "elapsed": 213,
     "status": "ok",
     "timestamp": 1670609068688,
     "user": {
      "displayName": "Emilia Lautz",
      "userId": "12799330444436508787"
     },
     "user_tz": -60
    },
    "id": "mpn2E4Uuye8m"
   },
   "outputs": [],
   "source": [
    "y_imputed = fifa_15_21[\"value_eur_log\"]\n",
    "X_imputed = fifa_15_21[[\"potential\",\"age\",\"league_level\",\"skill_moves\",\"preferred_foot\",\"international_reputation\",\"pace\",\"shooting\",\"passing\",\"dribbling\",\"defending\"]].copy()\n",
    "X_imputed = pd.get_dummies(X_imputed, drop_first=True)"
   ]
  },
  {
   "cell_type": "code",
   "execution_count": 29,
   "metadata": {
    "colab": {
     "base_uri": "https://localhost:8080/",
     "height": 424
    },
    "executionInfo": {
     "elapsed": 225,
     "status": "ok",
     "timestamp": 1670609094199,
     "user": {
      "displayName": "Emilia Lautz",
      "userId": "12799330444436508787"
     },
     "user_tz": -60
    },
    "id": "9tjXVM8ViXD4",
    "outputId": "691f91b4-ac93-4cb5-fbfc-46d0630e72e5"
   },
   "outputs": [
    {
     "name": "stdout",
     "output_type": "stream",
     "text": [
      "<class 'pandas.core.frame.DataFrame'>\n",
      "Int64Index: 122840 entries, 0 to 18943\n",
      "Data columns (total 11 columns):\n",
      " #   Column                    Non-Null Count   Dtype  \n",
      "---  ------                    --------------   -----  \n",
      " 0   potential                 122840 non-null  int64  \n",
      " 1   age                       122840 non-null  int64  \n",
      " 2   league_level              122840 non-null  float64\n",
      " 3   skill_moves               122840 non-null  int64  \n",
      " 4   international_reputation  122840 non-null  int64  \n",
      " 5   pace                      122840 non-null  float64\n",
      " 6   shooting                  122840 non-null  float64\n",
      " 7   passing                   122840 non-null  float64\n",
      " 8   dribbling                 122840 non-null  float64\n",
      " 9   defending                 122840 non-null  float64\n",
      " 10  preferred_foot_Right      122840 non-null  uint8  \n",
      "dtypes: float64(6), int64(4), uint8(1)\n",
      "memory usage: 10.4 MB\n"
     ]
    }
   ],
   "source": [
    "X_imputed.info()"
   ]
  },
  {
   "cell_type": "code",
   "execution_count": 30,
   "metadata": {},
   "outputs": [
    {
     "data": {
      "text/plain": [
       "0        18.425668\n",
       "1        18.184958\n",
       "2        17.813711\n",
       "3        17.776324\n",
       "4        17.966550\n",
       "           ...    \n",
       "18939    11.156251\n",
       "18940    11.156251\n",
       "18941    10.714418\n",
       "18942    11.775290\n",
       "18943    11.775290\n",
       "Name: value_eur_log, Length: 122840, dtype: float64"
      ]
     },
     "execution_count": 30,
     "metadata": {},
     "output_type": "execute_result"
    }
   ],
   "source": [
    "y_imputed"
   ]
  },
  {
   "cell_type": "markdown",
   "metadata": {},
   "source": [
    "## Test Data: 2022 Data"
   ]
  },
  {
   "cell_type": "code",
   "execution_count": 31,
   "metadata": {
    "executionInfo": {
     "elapsed": 29504,
     "status": "ok",
     "timestamp": 1670609142367,
     "user": {
      "displayName": "Emilia Lautz",
      "userId": "12799330444436508787"
     },
     "user_tz": -60
    },
    "id": "Ahcb9Ai-gQ7m"
   },
   "outputs": [],
   "source": [
    "# Define Training-Data\n",
    "\n",
    "data2022 = pd.read_excel(xls, \"FIFA 22\")"
   ]
  },
  {
   "cell_type": "markdown",
   "metadata": {},
   "source": [
    "## Imputation of categorical variable \"league-level\""
   ]
  },
  {
   "cell_type": "code",
   "execution_count": 32,
   "metadata": {},
   "outputs": [
    {
     "data": {
      "text/html": [
       "<div>\n",
       "<style scoped>\n",
       "    .dataframe tbody tr th:only-of-type {\n",
       "        vertical-align: middle;\n",
       "    }\n",
       "\n",
       "    .dataframe tbody tr th {\n",
       "        vertical-align: top;\n",
       "    }\n",
       "\n",
       "    .dataframe thead th {\n",
       "        text-align: right;\n",
       "    }\n",
       "</style>\n",
       "<table border=\"1\" class=\"dataframe\">\n",
       "  <thead>\n",
       "    <tr style=\"text-align: right;\">\n",
       "      <th></th>\n",
       "      <th>potential</th>\n",
       "      <th>age</th>\n",
       "      <th>league_level</th>\n",
       "      <th>skill_moves</th>\n",
       "      <th>international_reputation</th>\n",
       "      <th>pace</th>\n",
       "      <th>shooting</th>\n",
       "      <th>passing</th>\n",
       "      <th>dribbling</th>\n",
       "      <th>defending</th>\n",
       "      <th>value_eur</th>\n",
       "    </tr>\n",
       "  </thead>\n",
       "  <tbody>\n",
       "    <tr>\n",
       "      <th>0</th>\n",
       "      <td>93</td>\n",
       "      <td>34</td>\n",
       "      <td>1.0</td>\n",
       "      <td>4</td>\n",
       "      <td>5</td>\n",
       "      <td>85.0</td>\n",
       "      <td>92.0</td>\n",
       "      <td>91.0</td>\n",
       "      <td>95.0</td>\n",
       "      <td>34.0</td>\n",
       "      <td>78000000.0</td>\n",
       "    </tr>\n",
       "    <tr>\n",
       "      <th>1</th>\n",
       "      <td>92</td>\n",
       "      <td>32</td>\n",
       "      <td>1.0</td>\n",
       "      <td>4</td>\n",
       "      <td>5</td>\n",
       "      <td>78.0</td>\n",
       "      <td>92.0</td>\n",
       "      <td>79.0</td>\n",
       "      <td>86.0</td>\n",
       "      <td>44.0</td>\n",
       "      <td>119500000.0</td>\n",
       "    </tr>\n",
       "    <tr>\n",
       "      <th>2</th>\n",
       "      <td>91</td>\n",
       "      <td>36</td>\n",
       "      <td>1.0</td>\n",
       "      <td>5</td>\n",
       "      <td>5</td>\n",
       "      <td>87.0</td>\n",
       "      <td>94.0</td>\n",
       "      <td>80.0</td>\n",
       "      <td>88.0</td>\n",
       "      <td>34.0</td>\n",
       "      <td>45000000.0</td>\n",
       "    </tr>\n",
       "    <tr>\n",
       "      <th>3</th>\n",
       "      <td>91</td>\n",
       "      <td>29</td>\n",
       "      <td>1.0</td>\n",
       "      <td>5</td>\n",
       "      <td>5</td>\n",
       "      <td>91.0</td>\n",
       "      <td>83.0</td>\n",
       "      <td>86.0</td>\n",
       "      <td>94.0</td>\n",
       "      <td>37.0</td>\n",
       "      <td>129000000.0</td>\n",
       "    </tr>\n",
       "    <tr>\n",
       "      <th>4</th>\n",
       "      <td>91</td>\n",
       "      <td>30</td>\n",
       "      <td>1.0</td>\n",
       "      <td>4</td>\n",
       "      <td>4</td>\n",
       "      <td>76.0</td>\n",
       "      <td>86.0</td>\n",
       "      <td>93.0</td>\n",
       "      <td>88.0</td>\n",
       "      <td>64.0</td>\n",
       "      <td>125500000.0</td>\n",
       "    </tr>\n",
       "  </tbody>\n",
       "</table>\n",
       "</div>"
      ],
      "text/plain": [
       "   potential  age  league_level  skill_moves  international_reputation  pace  \\\n",
       "0         93   34           1.0            4                         5  85.0   \n",
       "1         92   32           1.0            4                         5  78.0   \n",
       "2         91   36           1.0            5                         5  87.0   \n",
       "3         91   29           1.0            5                         5  91.0   \n",
       "4         91   30           1.0            4                         4  76.0   \n",
       "\n",
       "   shooting  passing  dribbling  defending    value_eur  \n",
       "0      92.0     91.0       95.0       34.0   78000000.0  \n",
       "1      92.0     79.0       86.0       44.0  119500000.0  \n",
       "2      94.0     80.0       88.0       34.0   45000000.0  \n",
       "3      83.0     86.0       94.0       37.0  129000000.0  \n",
       "4      86.0     93.0       88.0       64.0  125500000.0  "
      ]
     },
     "execution_count": 32,
     "metadata": {},
     "output_type": "execute_result"
    }
   ],
   "source": [
    "test_df = data2022[[\"potential\",\"age\",\"league_level\",\"skill_moves\",\"international_reputation\",\"pace\",\"shooting\",\"passing\",\"dribbling\",\"defending\", \"value_eur\"]].copy()\n",
    "test_df.head()"
   ]
  },
  {
   "cell_type": "code",
   "execution_count": 35,
   "metadata": {},
   "outputs": [
    {
     "name": "stdout",
     "output_type": "stream",
     "text": [
      "<class 'pandas.core.frame.DataFrame'>\n",
      "RangeIndex: 19239 entries, 0 to 19238\n",
      "Data columns (total 11 columns):\n",
      " #   Column                    Non-Null Count  Dtype  \n",
      "---  ------                    --------------  -----  \n",
      " 0   potential                 19239 non-null  float64\n",
      " 1   age                       19239 non-null  float64\n",
      " 2   league_level              19239 non-null  float64\n",
      " 3   skill_moves               19239 non-null  float64\n",
      " 4   international_reputation  19239 non-null  float64\n",
      " 5   pace                      19239 non-null  float64\n",
      " 6   shooting                  19239 non-null  float64\n",
      " 7   passing                   19239 non-null  float64\n",
      " 8   dribbling                 19239 non-null  float64\n",
      " 9   defending                 19239 non-null  float64\n",
      " 10  value_eur                 19239 non-null  float64\n",
      "dtypes: float64(11)\n",
      "memory usage: 1.6 MB\n"
     ]
    }
   ],
   "source": [
    "# KNN Imputation League Level\n",
    "\n",
    "test_df_imputed = categorical_imputer.transform(test_df)\n",
    "test_df_imputed = pd.DataFrame(test_df_imputed, columns=test_df.columns, index = test_df.index)\n",
    "test_df_imputed.info()"
   ]
  },
  {
   "cell_type": "code",
   "execution_count": 38,
   "metadata": {},
   "outputs": [
    {
     "data": {
      "text/html": [
       "<div>\n",
       "<style scoped>\n",
       "    .dataframe tbody tr th:only-of-type {\n",
       "        vertical-align: middle;\n",
       "    }\n",
       "\n",
       "    .dataframe tbody tr th {\n",
       "        vertical-align: top;\n",
       "    }\n",
       "\n",
       "    .dataframe thead th {\n",
       "        text-align: right;\n",
       "    }\n",
       "</style>\n",
       "<table border=\"1\" class=\"dataframe\">\n",
       "  <thead>\n",
       "    <tr style=\"text-align: right;\">\n",
       "      <th></th>\n",
       "      <th>potential</th>\n",
       "      <th>age</th>\n",
       "      <th>league_level</th>\n",
       "      <th>skill_moves</th>\n",
       "      <th>international_reputation</th>\n",
       "      <th>pace</th>\n",
       "      <th>shooting</th>\n",
       "      <th>passing</th>\n",
       "      <th>dribbling</th>\n",
       "      <th>defending</th>\n",
       "      <th>value_eur</th>\n",
       "    </tr>\n",
       "  </thead>\n",
       "  <tbody>\n",
       "    <tr>\n",
       "      <th>0</th>\n",
       "      <td>93.0</td>\n",
       "      <td>34.0</td>\n",
       "      <td>1.0</td>\n",
       "      <td>4.0</td>\n",
       "      <td>5.0</td>\n",
       "      <td>85.0</td>\n",
       "      <td>92.0</td>\n",
       "      <td>91.0</td>\n",
       "      <td>95.0</td>\n",
       "      <td>34.0</td>\n",
       "      <td>78000000.0</td>\n",
       "    </tr>\n",
       "    <tr>\n",
       "      <th>1</th>\n",
       "      <td>92.0</td>\n",
       "      <td>32.0</td>\n",
       "      <td>1.0</td>\n",
       "      <td>4.0</td>\n",
       "      <td>5.0</td>\n",
       "      <td>78.0</td>\n",
       "      <td>92.0</td>\n",
       "      <td>79.0</td>\n",
       "      <td>86.0</td>\n",
       "      <td>44.0</td>\n",
       "      <td>119500000.0</td>\n",
       "    </tr>\n",
       "    <tr>\n",
       "      <th>2</th>\n",
       "      <td>91.0</td>\n",
       "      <td>36.0</td>\n",
       "      <td>1.0</td>\n",
       "      <td>5.0</td>\n",
       "      <td>5.0</td>\n",
       "      <td>87.0</td>\n",
       "      <td>94.0</td>\n",
       "      <td>80.0</td>\n",
       "      <td>88.0</td>\n",
       "      <td>34.0</td>\n",
       "      <td>45000000.0</td>\n",
       "    </tr>\n",
       "    <tr>\n",
       "      <th>3</th>\n",
       "      <td>91.0</td>\n",
       "      <td>29.0</td>\n",
       "      <td>1.0</td>\n",
       "      <td>5.0</td>\n",
       "      <td>5.0</td>\n",
       "      <td>91.0</td>\n",
       "      <td>83.0</td>\n",
       "      <td>86.0</td>\n",
       "      <td>94.0</td>\n",
       "      <td>37.0</td>\n",
       "      <td>129000000.0</td>\n",
       "    </tr>\n",
       "    <tr>\n",
       "      <th>4</th>\n",
       "      <td>91.0</td>\n",
       "      <td>30.0</td>\n",
       "      <td>1.0</td>\n",
       "      <td>4.0</td>\n",
       "      <td>4.0</td>\n",
       "      <td>76.0</td>\n",
       "      <td>86.0</td>\n",
       "      <td>93.0</td>\n",
       "      <td>88.0</td>\n",
       "      <td>64.0</td>\n",
       "      <td>125500000.0</td>\n",
       "    </tr>\n",
       "  </tbody>\n",
       "</table>\n",
       "</div>"
      ],
      "text/plain": [
       "   potential   age  league_level  skill_moves  international_reputation  pace  \\\n",
       "0       93.0  34.0           1.0          4.0                       5.0  85.0   \n",
       "1       92.0  32.0           1.0          4.0                       5.0  78.0   \n",
       "2       91.0  36.0           1.0          5.0                       5.0  87.0   \n",
       "3       91.0  29.0           1.0          5.0                       5.0  91.0   \n",
       "4       91.0  30.0           1.0          4.0                       4.0  76.0   \n",
       "\n",
       "   shooting  passing  dribbling  defending    value_eur  \n",
       "0      92.0     91.0       95.0       34.0   78000000.0  \n",
       "1      92.0     79.0       86.0       44.0  119500000.0  \n",
       "2      94.0     80.0       88.0       34.0   45000000.0  \n",
       "3      83.0     86.0       94.0       37.0  129000000.0  \n",
       "4      86.0     93.0       88.0       64.0  125500000.0  "
      ]
     },
     "execution_count": 38,
     "metadata": {},
     "output_type": "execute_result"
    }
   ],
   "source": [
    "test_df_imputed.head()"
   ]
  },
  {
   "cell_type": "code",
   "execution_count": 44,
   "metadata": {},
   "outputs": [
    {
     "data": {
      "text/html": [
       "<div>\n",
       "<style scoped>\n",
       "    .dataframe tbody tr th:only-of-type {\n",
       "        vertical-align: middle;\n",
       "    }\n",
       "\n",
       "    .dataframe tbody tr th {\n",
       "        vertical-align: top;\n",
       "    }\n",
       "\n",
       "    .dataframe thead th {\n",
       "        text-align: right;\n",
       "    }\n",
       "</style>\n",
       "<table border=\"1\" class=\"dataframe\">\n",
       "  <thead>\n",
       "    <tr style=\"text-align: right;\">\n",
       "      <th></th>\n",
       "      <th>sofifa_id</th>\n",
       "      <th>player_url</th>\n",
       "      <th>short_name</th>\n",
       "      <th>long_name</th>\n",
       "      <th>player_positions</th>\n",
       "      <th>overall</th>\n",
       "      <th>potential</th>\n",
       "      <th>value_eur</th>\n",
       "      <th>wage_eur</th>\n",
       "      <th>age</th>\n",
       "      <th>...</th>\n",
       "      <th>lcb</th>\n",
       "      <th>cb</th>\n",
       "      <th>rcb</th>\n",
       "      <th>rb</th>\n",
       "      <th>gk</th>\n",
       "      <th>player_face_url</th>\n",
       "      <th>club_logo_url</th>\n",
       "      <th>club_flag_url</th>\n",
       "      <th>nation_logo_url</th>\n",
       "      <th>nation_flag_url</th>\n",
       "    </tr>\n",
       "  </thead>\n",
       "  <tbody>\n",
       "    <tr>\n",
       "      <th>0</th>\n",
       "      <td>158023</td>\n",
       "      <td>https://sofifa.com/player/158023/lionel-messi/...</td>\n",
       "      <td>L. Messi</td>\n",
       "      <td>Lionel Andrés Messi Cuccittini</td>\n",
       "      <td>RW, ST, CF</td>\n",
       "      <td>93</td>\n",
       "      <td>93</td>\n",
       "      <td>78000000.0</td>\n",
       "      <td>320000.0</td>\n",
       "      <td>34</td>\n",
       "      <td>...</td>\n",
       "      <td>50+3</td>\n",
       "      <td>50+3</td>\n",
       "      <td>50+3</td>\n",
       "      <td>61+3</td>\n",
       "      <td>19+3</td>\n",
       "      <td>https://cdn.sofifa.net/players/158/023/22_120.png</td>\n",
       "      <td>https://cdn.sofifa.net/teams/73/60.png</td>\n",
       "      <td>https://cdn.sofifa.net/flags/fr.png</td>\n",
       "      <td>https://cdn.sofifa.net/teams/1369/60.png</td>\n",
       "      <td>https://cdn.sofifa.net/flags/ar.png</td>\n",
       "    </tr>\n",
       "    <tr>\n",
       "      <th>1</th>\n",
       "      <td>188545</td>\n",
       "      <td>https://sofifa.com/player/188545/robert-lewand...</td>\n",
       "      <td>R. Lewandowski</td>\n",
       "      <td>Robert Lewandowski</td>\n",
       "      <td>ST</td>\n",
       "      <td>92</td>\n",
       "      <td>92</td>\n",
       "      <td>119500000.0</td>\n",
       "      <td>270000.0</td>\n",
       "      <td>32</td>\n",
       "      <td>...</td>\n",
       "      <td>60+3</td>\n",
       "      <td>60+3</td>\n",
       "      <td>60+3</td>\n",
       "      <td>61+3</td>\n",
       "      <td>19+3</td>\n",
       "      <td>https://cdn.sofifa.net/players/188/545/22_120.png</td>\n",
       "      <td>https://cdn.sofifa.net/teams/21/60.png</td>\n",
       "      <td>https://cdn.sofifa.net/flags/de.png</td>\n",
       "      <td>https://cdn.sofifa.net/teams/1353/60.png</td>\n",
       "      <td>https://cdn.sofifa.net/flags/pl.png</td>\n",
       "    </tr>\n",
       "    <tr>\n",
       "      <th>2</th>\n",
       "      <td>20801</td>\n",
       "      <td>https://sofifa.com/player/20801/c-ronaldo-dos-...</td>\n",
       "      <td>Cristiano Ronaldo</td>\n",
       "      <td>Cristiano Ronaldo dos Santos Aveiro</td>\n",
       "      <td>ST, LW</td>\n",
       "      <td>91</td>\n",
       "      <td>91</td>\n",
       "      <td>45000000.0</td>\n",
       "      <td>270000.0</td>\n",
       "      <td>36</td>\n",
       "      <td>...</td>\n",
       "      <td>53+3</td>\n",
       "      <td>53+3</td>\n",
       "      <td>53+3</td>\n",
       "      <td>60+3</td>\n",
       "      <td>20+3</td>\n",
       "      <td>https://cdn.sofifa.net/players/020/801/22_120.png</td>\n",
       "      <td>https://cdn.sofifa.net/teams/11/60.png</td>\n",
       "      <td>https://cdn.sofifa.net/flags/gb-eng.png</td>\n",
       "      <td>https://cdn.sofifa.net/teams/1354/60.png</td>\n",
       "      <td>https://cdn.sofifa.net/flags/pt.png</td>\n",
       "    </tr>\n",
       "    <tr>\n",
       "      <th>3</th>\n",
       "      <td>190871</td>\n",
       "      <td>https://sofifa.com/player/190871/neymar-da-sil...</td>\n",
       "      <td>Neymar Jr</td>\n",
       "      <td>Neymar da Silva Santos Júnior</td>\n",
       "      <td>LW, CAM</td>\n",
       "      <td>91</td>\n",
       "      <td>91</td>\n",
       "      <td>129000000.0</td>\n",
       "      <td>270000.0</td>\n",
       "      <td>29</td>\n",
       "      <td>...</td>\n",
       "      <td>50+3</td>\n",
       "      <td>50+3</td>\n",
       "      <td>50+3</td>\n",
       "      <td>62+3</td>\n",
       "      <td>20+3</td>\n",
       "      <td>https://cdn.sofifa.net/players/190/871/22_120.png</td>\n",
       "      <td>https://cdn.sofifa.net/teams/73/60.png</td>\n",
       "      <td>https://cdn.sofifa.net/flags/fr.png</td>\n",
       "      <td>NaN</td>\n",
       "      <td>https://cdn.sofifa.net/flags/br.png</td>\n",
       "    </tr>\n",
       "    <tr>\n",
       "      <th>4</th>\n",
       "      <td>192985</td>\n",
       "      <td>https://sofifa.com/player/192985/kevin-de-bruy...</td>\n",
       "      <td>K. De Bruyne</td>\n",
       "      <td>Kevin De Bruyne</td>\n",
       "      <td>CM, CAM</td>\n",
       "      <td>91</td>\n",
       "      <td>91</td>\n",
       "      <td>125500000.0</td>\n",
       "      <td>350000.0</td>\n",
       "      <td>30</td>\n",
       "      <td>...</td>\n",
       "      <td>69+3</td>\n",
       "      <td>69+3</td>\n",
       "      <td>69+3</td>\n",
       "      <td>75+3</td>\n",
       "      <td>21+3</td>\n",
       "      <td>https://cdn.sofifa.net/players/192/985/22_120.png</td>\n",
       "      <td>https://cdn.sofifa.net/teams/10/60.png</td>\n",
       "      <td>https://cdn.sofifa.net/flags/gb-eng.png</td>\n",
       "      <td>https://cdn.sofifa.net/teams/1325/60.png</td>\n",
       "      <td>https://cdn.sofifa.net/flags/be.png</td>\n",
       "    </tr>\n",
       "  </tbody>\n",
       "</table>\n",
       "<p>5 rows × 110 columns</p>\n",
       "</div>"
      ],
      "text/plain": [
       "   sofifa_id                                         player_url  \\\n",
       "0     158023  https://sofifa.com/player/158023/lionel-messi/...   \n",
       "1     188545  https://sofifa.com/player/188545/robert-lewand...   \n",
       "2      20801  https://sofifa.com/player/20801/c-ronaldo-dos-...   \n",
       "3     190871  https://sofifa.com/player/190871/neymar-da-sil...   \n",
       "4     192985  https://sofifa.com/player/192985/kevin-de-bruy...   \n",
       "\n",
       "          short_name                            long_name player_positions  \\\n",
       "0           L. Messi       Lionel Andrés Messi Cuccittini       RW, ST, CF   \n",
       "1     R. Lewandowski                   Robert Lewandowski               ST   \n",
       "2  Cristiano Ronaldo  Cristiano Ronaldo dos Santos Aveiro           ST, LW   \n",
       "3          Neymar Jr        Neymar da Silva Santos Júnior          LW, CAM   \n",
       "4       K. De Bruyne                      Kevin De Bruyne          CM, CAM   \n",
       "\n",
       "   overall  potential    value_eur  wage_eur  age  ...   lcb    cb   rcb  \\\n",
       "0       93         93   78000000.0  320000.0   34  ...  50+3  50+3  50+3   \n",
       "1       92         92  119500000.0  270000.0   32  ...  60+3  60+3  60+3   \n",
       "2       91         91   45000000.0  270000.0   36  ...  53+3  53+3  53+3   \n",
       "3       91         91  129000000.0  270000.0   29  ...  50+3  50+3  50+3   \n",
       "4       91         91  125500000.0  350000.0   30  ...  69+3  69+3  69+3   \n",
       "\n",
       "     rb    gk                                    player_face_url  \\\n",
       "0  61+3  19+3  https://cdn.sofifa.net/players/158/023/22_120.png   \n",
       "1  61+3  19+3  https://cdn.sofifa.net/players/188/545/22_120.png   \n",
       "2  60+3  20+3  https://cdn.sofifa.net/players/020/801/22_120.png   \n",
       "3  62+3  20+3  https://cdn.sofifa.net/players/190/871/22_120.png   \n",
       "4  75+3  21+3  https://cdn.sofifa.net/players/192/985/22_120.png   \n",
       "\n",
       "                            club_logo_url  \\\n",
       "0  https://cdn.sofifa.net/teams/73/60.png   \n",
       "1  https://cdn.sofifa.net/teams/21/60.png   \n",
       "2  https://cdn.sofifa.net/teams/11/60.png   \n",
       "3  https://cdn.sofifa.net/teams/73/60.png   \n",
       "4  https://cdn.sofifa.net/teams/10/60.png   \n",
       "\n",
       "                             club_flag_url  \\\n",
       "0      https://cdn.sofifa.net/flags/fr.png   \n",
       "1      https://cdn.sofifa.net/flags/de.png   \n",
       "2  https://cdn.sofifa.net/flags/gb-eng.png   \n",
       "3      https://cdn.sofifa.net/flags/fr.png   \n",
       "4  https://cdn.sofifa.net/flags/gb-eng.png   \n",
       "\n",
       "                            nation_logo_url  \\\n",
       "0  https://cdn.sofifa.net/teams/1369/60.png   \n",
       "1  https://cdn.sofifa.net/teams/1353/60.png   \n",
       "2  https://cdn.sofifa.net/teams/1354/60.png   \n",
       "3                                       NaN   \n",
       "4  https://cdn.sofifa.net/teams/1325/60.png   \n",
       "\n",
       "                       nation_flag_url  \n",
       "0  https://cdn.sofifa.net/flags/ar.png  \n",
       "1  https://cdn.sofifa.net/flags/pl.png  \n",
       "2  https://cdn.sofifa.net/flags/pt.png  \n",
       "3  https://cdn.sofifa.net/flags/br.png  \n",
       "4  https://cdn.sofifa.net/flags/be.png  \n",
       "\n",
       "[5 rows x 110 columns]"
      ]
     },
     "execution_count": 44,
     "metadata": {},
     "output_type": "execute_result"
    }
   ],
   "source": [
    "data2022[\"league_level\"]=test_df_imputed[\"league_level\"]\n",
    "data2022.head()"
   ]
  },
  {
   "cell_type": "code",
   "execution_count": 46,
   "metadata": {},
   "outputs": [
    {
     "data": {
      "text/html": [
       "<div>\n",
       "<style scoped>\n",
       "    .dataframe tbody tr th:only-of-type {\n",
       "        vertical-align: middle;\n",
       "    }\n",
       "\n",
       "    .dataframe tbody tr th {\n",
       "        vertical-align: top;\n",
       "    }\n",
       "\n",
       "    .dataframe thead th {\n",
       "        text-align: right;\n",
       "    }\n",
       "</style>\n",
       "<table border=\"1\" class=\"dataframe\">\n",
       "  <thead>\n",
       "    <tr style=\"text-align: right;\">\n",
       "      <th></th>\n",
       "      <th>sofifa_id</th>\n",
       "      <th>player_url</th>\n",
       "      <th>short_name</th>\n",
       "      <th>long_name</th>\n",
       "      <th>player_positions</th>\n",
       "      <th>overall</th>\n",
       "      <th>potential</th>\n",
       "      <th>value_eur</th>\n",
       "      <th>wage_eur</th>\n",
       "      <th>age</th>\n",
       "      <th>...</th>\n",
       "      <th>lcb</th>\n",
       "      <th>cb</th>\n",
       "      <th>rcb</th>\n",
       "      <th>rb</th>\n",
       "      <th>gk</th>\n",
       "      <th>player_face_url</th>\n",
       "      <th>club_logo_url</th>\n",
       "      <th>club_flag_url</th>\n",
       "      <th>nation_logo_url</th>\n",
       "      <th>nation_flag_url</th>\n",
       "    </tr>\n",
       "  </thead>\n",
       "  <tbody>\n",
       "    <tr>\n",
       "      <th>97</th>\n",
       "      <td>41236</td>\n",
       "      <td>https://sofifa.com/player/41236/zlatan-ibrahim...</td>\n",
       "      <td>Z. Ibrahimović</td>\n",
       "      <td>Zlatan Ibrahimović</td>\n",
       "      <td>ST</td>\n",
       "      <td>84</td>\n",
       "      <td>84</td>\n",
       "      <td>14500000.0</td>\n",
       "      <td>51000.0</td>\n",
       "      <td>39</td>\n",
       "      <td>...</td>\n",
       "      <td>53+3</td>\n",
       "      <td>53+3</td>\n",
       "      <td>53+3</td>\n",
       "      <td>52+3</td>\n",
       "      <td>20+3</td>\n",
       "      <td>https://cdn.sofifa.net/players/041/236/22_120.png</td>\n",
       "      <td>https://cdn.sofifa.net/teams/47/60.png</td>\n",
       "      <td>https://cdn.sofifa.net/flags/it.png</td>\n",
       "      <td>https://cdn.sofifa.net/teams/1363/60.png</td>\n",
       "      <td>https://cdn.sofifa.net/flags/se.png</td>\n",
       "    </tr>\n",
       "  </tbody>\n",
       "</table>\n",
       "<p>1 rows × 110 columns</p>\n",
       "</div>"
      ],
      "text/plain": [
       "    sofifa_id                                         player_url  \\\n",
       "97      41236  https://sofifa.com/player/41236/zlatan-ibrahim...   \n",
       "\n",
       "        short_name           long_name player_positions  overall  potential  \\\n",
       "97  Z. Ibrahimović  Zlatan Ibrahimović               ST       84         84   \n",
       "\n",
       "     value_eur  wage_eur  age  ...   lcb    cb   rcb    rb    gk  \\\n",
       "97  14500000.0   51000.0   39  ...  53+3  53+3  53+3  52+3  20+3   \n",
       "\n",
       "                                      player_face_url  \\\n",
       "97  https://cdn.sofifa.net/players/041/236/22_120.png   \n",
       "\n",
       "                             club_logo_url  \\\n",
       "97  https://cdn.sofifa.net/teams/47/60.png   \n",
       "\n",
       "                          club_flag_url  \\\n",
       "97  https://cdn.sofifa.net/flags/it.png   \n",
       "\n",
       "                             nation_logo_url  \\\n",
       "97  https://cdn.sofifa.net/teams/1363/60.png   \n",
       "\n",
       "                        nation_flag_url  \n",
       "97  https://cdn.sofifa.net/flags/se.png  \n",
       "\n",
       "[1 rows x 110 columns]"
      ]
     },
     "execution_count": 46,
     "metadata": {},
     "output_type": "execute_result"
    }
   ],
   "source": [
    "# Check if the imputation has worked\n",
    "\n",
    "data2022.loc[(data2022[\"long_name\"]==\"Zlatan Ibrahimović\")]"
   ]
  },
  {
   "cell_type": "markdown",
   "metadata": {},
   "source": [
    "## Imputation of all other (non-categorical) variables"
   ]
  },
  {
   "cell_type": "code",
   "execution_count": 47,
   "metadata": {},
   "outputs": [
    {
     "name": "stdout",
     "output_type": "stream",
     "text": [
      "<class 'pandas.core.frame.DataFrame'>\n",
      "RangeIndex: 19239 entries, 0 to 19238\n",
      "Data columns (total 12 columns):\n",
      " #   Column                    Non-Null Count  Dtype  \n",
      "---  ------                    --------------  -----  \n",
      " 0   potential                 19239 non-null  int64  \n",
      " 1   age                       19239 non-null  int64  \n",
      " 2   league_level              19239 non-null  float64\n",
      " 3   skill_moves               19239 non-null  int64  \n",
      " 4   international_reputation  19239 non-null  int64  \n",
      " 5   pace                      17107 non-null  float64\n",
      " 6   shooting                  17107 non-null  float64\n",
      " 7   passing                   17107 non-null  float64\n",
      " 8   dribbling                 17107 non-null  float64\n",
      " 9   defending                 17107 non-null  float64\n",
      " 10  value_eur                 19165 non-null  float64\n",
      " 11  preferred_foot_Right      19239 non-null  uint8  \n",
      "dtypes: float64(7), int64(4), uint8(1)\n",
      "memory usage: 1.6 MB\n"
     ]
    }
   ],
   "source": [
    "# Define Training-Data\n",
    "\n",
    "X_test = data2022[[\"potential\",\"age\",\"league_level\",\"skill_moves\",\"preferred_foot\",\"international_reputation\",\"pace\",\"shooting\",\"passing\",\"dribbling\",\"defending\", \"value_eur\"]].copy()\n",
    "X_test = pd.get_dummies(X_test, drop_first=True)\n",
    "X_test.info()"
   ]
  },
  {
   "cell_type": "code",
   "execution_count": 48,
   "metadata": {},
   "outputs": [
    {
     "name": "stdout",
     "output_type": "stream",
     "text": [
      "<class 'pandas.core.frame.DataFrame'>\n",
      "RangeIndex: 19239 entries, 0 to 19238\n",
      "Data columns (total 12 columns):\n",
      " #   Column                    Non-Null Count  Dtype  \n",
      "---  ------                    --------------  -----  \n",
      " 0   potential                 19239 non-null  float64\n",
      " 1   age                       19239 non-null  float64\n",
      " 2   league_level              19239 non-null  float64\n",
      " 3   skill_moves               19239 non-null  float64\n",
      " 4   international_reputation  19239 non-null  float64\n",
      " 5   pace                      19239 non-null  float64\n",
      " 6   shooting                  19239 non-null  float64\n",
      " 7   passing                   19239 non-null  float64\n",
      " 8   dribbling                 19239 non-null  float64\n",
      " 9   defending                 19239 non-null  float64\n",
      " 10  value_eur                 19239 non-null  float64\n",
      " 11  preferred_foot_Right      19239 non-null  float64\n",
      "dtypes: float64(12)\n",
      "memory usage: 1.8 MB\n"
     ]
    }
   ],
   "source": [
    "# Use the KNNImputer from before\n",
    "\n",
    "X_test_imputed = imputer.transform(X_test)\n",
    "X_test_imputed = pd.DataFrame(X_test_imputed, columns=X_test.columns, index = X_test.index)\n",
    "X_test_imputed.info()"
   ]
  },
  {
   "cell_type": "code",
   "execution_count": 49,
   "metadata": {},
   "outputs": [
    {
     "name": "stdout",
     "output_type": "stream",
     "text": [
      "<class 'pandas.core.frame.DataFrame'>\n",
      "RangeIndex: 19239 entries, 0 to 19238\n",
      "Columns: 111 entries, sofifa_id to value_eur_log\n",
      "dtypes: datetime64[ns](2), float64(19), int64(44), object(46)\n",
      "memory usage: 16.3+ MB\n"
     ]
    }
   ],
   "source": [
    "# Save the imputed data set:\n",
    "\n",
    "data2022[\"pace\"] = X_test_imputed[\"pace\"]\n",
    "data2022[\"shooting\"] = X_test_imputed[\"shooting\"]\n",
    "data2022[\"passing\"] = X_test_imputed[\"passing\"]\n",
    "data2022[\"dribbling\"] = X_test_imputed[\"dribbling\"]\n",
    "data2022[\"defending\"] = X_test_imputed[\"defending\"]\n",
    "data2022[\"value_eur_log\"] = np.log(X_test_imputed[\"value_eur\"])\n",
    "data2022[\"value_eur\"] = X_test_imputed[\"value_eur\"]\n",
    "\n",
    "data2022.info()"
   ]
  },
  {
   "cell_type": "code",
   "execution_count": 50,
   "metadata": {},
   "outputs": [
    {
     "data": {
      "text/html": [
       "<div>\n",
       "<style scoped>\n",
       "    .dataframe tbody tr th:only-of-type {\n",
       "        vertical-align: middle;\n",
       "    }\n",
       "\n",
       "    .dataframe tbody tr th {\n",
       "        vertical-align: top;\n",
       "    }\n",
       "\n",
       "    .dataframe thead th {\n",
       "        text-align: right;\n",
       "    }\n",
       "</style>\n",
       "<table border=\"1\" class=\"dataframe\">\n",
       "  <thead>\n",
       "    <tr style=\"text-align: right;\">\n",
       "      <th></th>\n",
       "      <th>sofifa_id</th>\n",
       "      <th>player_url</th>\n",
       "      <th>short_name</th>\n",
       "      <th>long_name</th>\n",
       "      <th>player_positions</th>\n",
       "      <th>overall</th>\n",
       "      <th>potential</th>\n",
       "      <th>value_eur</th>\n",
       "      <th>wage_eur</th>\n",
       "      <th>age</th>\n",
       "      <th>...</th>\n",
       "      <th>cb</th>\n",
       "      <th>rcb</th>\n",
       "      <th>rb</th>\n",
       "      <th>gk</th>\n",
       "      <th>player_face_url</th>\n",
       "      <th>club_logo_url</th>\n",
       "      <th>club_flag_url</th>\n",
       "      <th>nation_logo_url</th>\n",
       "      <th>nation_flag_url</th>\n",
       "      <th>value_eur_log</th>\n",
       "    </tr>\n",
       "  </thead>\n",
       "  <tbody>\n",
       "    <tr>\n",
       "      <th>0</th>\n",
       "      <td>158023</td>\n",
       "      <td>https://sofifa.com/player/158023/lionel-messi/...</td>\n",
       "      <td>L. Messi</td>\n",
       "      <td>Lionel Andrés Messi Cuccittini</td>\n",
       "      <td>RW, ST, CF</td>\n",
       "      <td>93</td>\n",
       "      <td>93</td>\n",
       "      <td>78000000.0</td>\n",
       "      <td>320000.0</td>\n",
       "      <td>34</td>\n",
       "      <td>...</td>\n",
       "      <td>50+3</td>\n",
       "      <td>50+3</td>\n",
       "      <td>61+3</td>\n",
       "      <td>19+3</td>\n",
       "      <td>https://cdn.sofifa.net/players/158/023/22_120.png</td>\n",
       "      <td>https://cdn.sofifa.net/teams/73/60.png</td>\n",
       "      <td>https://cdn.sofifa.net/flags/fr.png</td>\n",
       "      <td>https://cdn.sofifa.net/teams/1369/60.png</td>\n",
       "      <td>https://cdn.sofifa.net/flags/ar.png</td>\n",
       "      <td>18.172219</td>\n",
       "    </tr>\n",
       "    <tr>\n",
       "      <th>1</th>\n",
       "      <td>188545</td>\n",
       "      <td>https://sofifa.com/player/188545/robert-lewand...</td>\n",
       "      <td>R. Lewandowski</td>\n",
       "      <td>Robert Lewandowski</td>\n",
       "      <td>ST</td>\n",
       "      <td>92</td>\n",
       "      <td>92</td>\n",
       "      <td>119500000.0</td>\n",
       "      <td>270000.0</td>\n",
       "      <td>32</td>\n",
       "      <td>...</td>\n",
       "      <td>60+3</td>\n",
       "      <td>60+3</td>\n",
       "      <td>61+3</td>\n",
       "      <td>19+3</td>\n",
       "      <td>https://cdn.sofifa.net/players/188/545/22_120.png</td>\n",
       "      <td>https://cdn.sofifa.net/teams/21/60.png</td>\n",
       "      <td>https://cdn.sofifa.net/flags/de.png</td>\n",
       "      <td>https://cdn.sofifa.net/teams/1353/60.png</td>\n",
       "      <td>https://cdn.sofifa.net/flags/pl.png</td>\n",
       "      <td>18.598827</td>\n",
       "    </tr>\n",
       "    <tr>\n",
       "      <th>2</th>\n",
       "      <td>20801</td>\n",
       "      <td>https://sofifa.com/player/20801/c-ronaldo-dos-...</td>\n",
       "      <td>Cristiano Ronaldo</td>\n",
       "      <td>Cristiano Ronaldo dos Santos Aveiro</td>\n",
       "      <td>ST, LW</td>\n",
       "      <td>91</td>\n",
       "      <td>91</td>\n",
       "      <td>45000000.0</td>\n",
       "      <td>270000.0</td>\n",
       "      <td>36</td>\n",
       "      <td>...</td>\n",
       "      <td>53+3</td>\n",
       "      <td>53+3</td>\n",
       "      <td>60+3</td>\n",
       "      <td>20+3</td>\n",
       "      <td>https://cdn.sofifa.net/players/020/801/22_120.png</td>\n",
       "      <td>https://cdn.sofifa.net/teams/11/60.png</td>\n",
       "      <td>https://cdn.sofifa.net/flags/gb-eng.png</td>\n",
       "      <td>https://cdn.sofifa.net/teams/1354/60.png</td>\n",
       "      <td>https://cdn.sofifa.net/flags/pt.png</td>\n",
       "      <td>17.622173</td>\n",
       "    </tr>\n",
       "    <tr>\n",
       "      <th>3</th>\n",
       "      <td>190871</td>\n",
       "      <td>https://sofifa.com/player/190871/neymar-da-sil...</td>\n",
       "      <td>Neymar Jr</td>\n",
       "      <td>Neymar da Silva Santos Júnior</td>\n",
       "      <td>LW, CAM</td>\n",
       "      <td>91</td>\n",
       "      <td>91</td>\n",
       "      <td>129000000.0</td>\n",
       "      <td>270000.0</td>\n",
       "      <td>29</td>\n",
       "      <td>...</td>\n",
       "      <td>50+3</td>\n",
       "      <td>50+3</td>\n",
       "      <td>62+3</td>\n",
       "      <td>20+3</td>\n",
       "      <td>https://cdn.sofifa.net/players/190/871/22_120.png</td>\n",
       "      <td>https://cdn.sofifa.net/teams/73/60.png</td>\n",
       "      <td>https://cdn.sofifa.net/flags/fr.png</td>\n",
       "      <td>NaN</td>\n",
       "      <td>https://cdn.sofifa.net/flags/br.png</td>\n",
       "      <td>18.675323</td>\n",
       "    </tr>\n",
       "    <tr>\n",
       "      <th>4</th>\n",
       "      <td>192985</td>\n",
       "      <td>https://sofifa.com/player/192985/kevin-de-bruy...</td>\n",
       "      <td>K. De Bruyne</td>\n",
       "      <td>Kevin De Bruyne</td>\n",
       "      <td>CM, CAM</td>\n",
       "      <td>91</td>\n",
       "      <td>91</td>\n",
       "      <td>125500000.0</td>\n",
       "      <td>350000.0</td>\n",
       "      <td>30</td>\n",
       "      <td>...</td>\n",
       "      <td>69+3</td>\n",
       "      <td>69+3</td>\n",
       "      <td>75+3</td>\n",
       "      <td>21+3</td>\n",
       "      <td>https://cdn.sofifa.net/players/192/985/22_120.png</td>\n",
       "      <td>https://cdn.sofifa.net/teams/10/60.png</td>\n",
       "      <td>https://cdn.sofifa.net/flags/gb-eng.png</td>\n",
       "      <td>https://cdn.sofifa.net/teams/1325/60.png</td>\n",
       "      <td>https://cdn.sofifa.net/flags/be.png</td>\n",
       "      <td>18.647816</td>\n",
       "    </tr>\n",
       "  </tbody>\n",
       "</table>\n",
       "<p>5 rows × 111 columns</p>\n",
       "</div>"
      ],
      "text/plain": [
       "   sofifa_id                                         player_url  \\\n",
       "0     158023  https://sofifa.com/player/158023/lionel-messi/...   \n",
       "1     188545  https://sofifa.com/player/188545/robert-lewand...   \n",
       "2      20801  https://sofifa.com/player/20801/c-ronaldo-dos-...   \n",
       "3     190871  https://sofifa.com/player/190871/neymar-da-sil...   \n",
       "4     192985  https://sofifa.com/player/192985/kevin-de-bruy...   \n",
       "\n",
       "          short_name                            long_name player_positions  \\\n",
       "0           L. Messi       Lionel Andrés Messi Cuccittini       RW, ST, CF   \n",
       "1     R. Lewandowski                   Robert Lewandowski               ST   \n",
       "2  Cristiano Ronaldo  Cristiano Ronaldo dos Santos Aveiro           ST, LW   \n",
       "3          Neymar Jr        Neymar da Silva Santos Júnior          LW, CAM   \n",
       "4       K. De Bruyne                      Kevin De Bruyne          CM, CAM   \n",
       "\n",
       "   overall  potential    value_eur  wage_eur  age  ...    cb   rcb    rb  \\\n",
       "0       93         93   78000000.0  320000.0   34  ...  50+3  50+3  61+3   \n",
       "1       92         92  119500000.0  270000.0   32  ...  60+3  60+3  61+3   \n",
       "2       91         91   45000000.0  270000.0   36  ...  53+3  53+3  60+3   \n",
       "3       91         91  129000000.0  270000.0   29  ...  50+3  50+3  62+3   \n",
       "4       91         91  125500000.0  350000.0   30  ...  69+3  69+3  75+3   \n",
       "\n",
       "     gk                                    player_face_url  \\\n",
       "0  19+3  https://cdn.sofifa.net/players/158/023/22_120.png   \n",
       "1  19+3  https://cdn.sofifa.net/players/188/545/22_120.png   \n",
       "2  20+3  https://cdn.sofifa.net/players/020/801/22_120.png   \n",
       "3  20+3  https://cdn.sofifa.net/players/190/871/22_120.png   \n",
       "4  21+3  https://cdn.sofifa.net/players/192/985/22_120.png   \n",
       "\n",
       "                            club_logo_url  \\\n",
       "0  https://cdn.sofifa.net/teams/73/60.png   \n",
       "1  https://cdn.sofifa.net/teams/21/60.png   \n",
       "2  https://cdn.sofifa.net/teams/11/60.png   \n",
       "3  https://cdn.sofifa.net/teams/73/60.png   \n",
       "4  https://cdn.sofifa.net/teams/10/60.png   \n",
       "\n",
       "                             club_flag_url  \\\n",
       "0      https://cdn.sofifa.net/flags/fr.png   \n",
       "1      https://cdn.sofifa.net/flags/de.png   \n",
       "2  https://cdn.sofifa.net/flags/gb-eng.png   \n",
       "3      https://cdn.sofifa.net/flags/fr.png   \n",
       "4  https://cdn.sofifa.net/flags/gb-eng.png   \n",
       "\n",
       "                            nation_logo_url  \\\n",
       "0  https://cdn.sofifa.net/teams/1369/60.png   \n",
       "1  https://cdn.sofifa.net/teams/1353/60.png   \n",
       "2  https://cdn.sofifa.net/teams/1354/60.png   \n",
       "3                                       NaN   \n",
       "4  https://cdn.sofifa.net/teams/1325/60.png   \n",
       "\n",
       "                       nation_flag_url value_eur_log  \n",
       "0  https://cdn.sofifa.net/flags/ar.png     18.172219  \n",
       "1  https://cdn.sofifa.net/flags/pl.png     18.598827  \n",
       "2  https://cdn.sofifa.net/flags/pt.png     17.622173  \n",
       "3  https://cdn.sofifa.net/flags/br.png     18.675323  \n",
       "4  https://cdn.sofifa.net/flags/be.png     18.647816  \n",
       "\n",
       "[5 rows x 111 columns]"
      ]
     },
     "execution_count": 50,
     "metadata": {},
     "output_type": "execute_result"
    }
   ],
   "source": [
    "data2022.head()"
   ]
  },
  {
   "cell_type": "code",
   "execution_count": 51,
   "metadata": {},
   "outputs": [
    {
     "name": "stdout",
     "output_type": "stream",
     "text": [
      "<class 'pandas.core.frame.DataFrame'>\n",
      "RangeIndex: 19239 entries, 0 to 19238\n",
      "Data columns (total 28 columns):\n",
      " #   Column                     Non-Null Count  Dtype  \n",
      "---  ------                     --------------  -----  \n",
      " 0   long_name                  19239 non-null  object \n",
      " 1   short_name                 19239 non-null  object \n",
      " 2   player_positions           19239 non-null  object \n",
      " 3   potential                  19239 non-null  int64  \n",
      " 4   value_eur                  19239 non-null  float64\n",
      " 5   value_eur_log              19239 non-null  float64\n",
      " 6   wage_eur                   19178 non-null  float64\n",
      " 7   age                        19239 non-null  int64  \n",
      " 8   height_cm                  19239 non-null  int64  \n",
      " 9   club_name                  19178 non-null  object \n",
      " 10  league_level               19239 non-null  float64\n",
      " 11  club_contract_valid_until  19178 non-null  float64\n",
      " 12  preferred_foot             19239 non-null  object \n",
      " 13  skill_moves                19239 non-null  int64  \n",
      " 14  international_reputation   19239 non-null  int64  \n",
      " 15  release_clause_eur         18063 non-null  float64\n",
      " 16  player_tags                1441 non-null   object \n",
      " 17  player_traits              9398 non-null   object \n",
      " 18  pace                       19239 non-null  float64\n",
      " 19  shooting                   19239 non-null  float64\n",
      " 20  passing                    19239 non-null  float64\n",
      " 21  dribbling                  19239 non-null  float64\n",
      " 22  defending                  19239 non-null  float64\n",
      " 23  player_face_url            19239 non-null  object \n",
      " 24  club_logo_url              19178 non-null  object \n",
      " 25  club_flag_url              19178 non-null  object \n",
      " 26  nation_logo_url            759 non-null    object \n",
      " 27  nation_flag_url            19239 non-null  object \n",
      "dtypes: float64(11), int64(5), object(12)\n",
      "memory usage: 4.1+ MB\n"
     ]
    }
   ],
   "source": [
    "# Define fifa_22:\n",
    "\n",
    "fifa_22 = data2022[[\"long_name\",\"short_name\",\"player_positions\",\"potential\",\"value_eur\",\"value_eur_log\",\"wage_eur\",\"age\",\"height_cm\",\"club_name\",\"league_level\",\"club_contract_valid_until\",\"preferred_foot\",\"skill_moves\",\"international_reputation\",\"release_clause_eur\",\"player_tags\",\"player_traits\",\"pace\",\"shooting\",\"passing\",\"dribbling\",\"defending\",\"player_face_url\",\"club_logo_url\",\"club_flag_url\",\"nation_logo_url\",\"nation_flag_url\"]].copy()\n",
    "fifa_22.info()"
   ]
  },
  {
   "cell_type": "code",
   "execution_count": 54,
   "metadata": {},
   "outputs": [
    {
     "data": {
      "text/html": [
       "<div>\n",
       "<style scoped>\n",
       "    .dataframe tbody tr th:only-of-type {\n",
       "        vertical-align: middle;\n",
       "    }\n",
       "\n",
       "    .dataframe tbody tr th {\n",
       "        vertical-align: top;\n",
       "    }\n",
       "\n",
       "    .dataframe thead th {\n",
       "        text-align: right;\n",
       "    }\n",
       "</style>\n",
       "<table border=\"1\" class=\"dataframe\">\n",
       "  <thead>\n",
       "    <tr style=\"text-align: right;\">\n",
       "      <th></th>\n",
       "      <th>position_0</th>\n",
       "      <th>position_1</th>\n",
       "      <th>position_2</th>\n",
       "    </tr>\n",
       "  </thead>\n",
       "  <tbody>\n",
       "    <tr>\n",
       "      <th>0</th>\n",
       "      <td>RW</td>\n",
       "      <td>ST</td>\n",
       "      <td>CF</td>\n",
       "    </tr>\n",
       "    <tr>\n",
       "      <th>1</th>\n",
       "      <td>ST</td>\n",
       "      <td></td>\n",
       "      <td></td>\n",
       "    </tr>\n",
       "    <tr>\n",
       "      <th>2</th>\n",
       "      <td>ST</td>\n",
       "      <td>LW</td>\n",
       "      <td></td>\n",
       "    </tr>\n",
       "    <tr>\n",
       "      <th>3</th>\n",
       "      <td>LW</td>\n",
       "      <td>CAM</td>\n",
       "      <td></td>\n",
       "    </tr>\n",
       "    <tr>\n",
       "      <th>4</th>\n",
       "      <td>CM</td>\n",
       "      <td>CAM</td>\n",
       "      <td></td>\n",
       "    </tr>\n",
       "    <tr>\n",
       "      <th>...</th>\n",
       "      <td>...</td>\n",
       "      <td>...</td>\n",
       "      <td>...</td>\n",
       "    </tr>\n",
       "    <tr>\n",
       "      <th>19234</th>\n",
       "      <td>CDM</td>\n",
       "      <td></td>\n",
       "      <td></td>\n",
       "    </tr>\n",
       "    <tr>\n",
       "      <th>19235</th>\n",
       "      <td>CM</td>\n",
       "      <td></td>\n",
       "      <td></td>\n",
       "    </tr>\n",
       "    <tr>\n",
       "      <th>19236</th>\n",
       "      <td>CM</td>\n",
       "      <td></td>\n",
       "      <td></td>\n",
       "    </tr>\n",
       "    <tr>\n",
       "      <th>19237</th>\n",
       "      <td>ST</td>\n",
       "      <td></td>\n",
       "      <td></td>\n",
       "    </tr>\n",
       "    <tr>\n",
       "      <th>19238</th>\n",
       "      <td>CAM</td>\n",
       "      <td></td>\n",
       "      <td></td>\n",
       "    </tr>\n",
       "  </tbody>\n",
       "</table>\n",
       "<p>19239 rows × 3 columns</p>\n",
       "</div>"
      ],
      "text/plain": [
       "      position_0 position_1 position_2\n",
       "0             RW         ST         CF\n",
       "1             ST                      \n",
       "2             ST         LW           \n",
       "3             LW        CAM           \n",
       "4             CM        CAM           \n",
       "...          ...        ...        ...\n",
       "19234        CDM                      \n",
       "19235         CM                      \n",
       "19236         CM                      \n",
       "19237         ST                      \n",
       "19238        CAM                      \n",
       "\n",
       "[19239 rows x 3 columns]"
      ]
     },
     "execution_count": 54,
     "metadata": {},
     "output_type": "execute_result"
    }
   ],
   "source": [
    "df_positions"
   ]
  },
  {
   "cell_type": "code",
   "execution_count": 55,
   "metadata": {},
   "outputs": [
    {
     "data": {
      "text/html": [
       "<div>\n",
       "<style scoped>\n",
       "    .dataframe tbody tr th:only-of-type {\n",
       "        vertical-align: middle;\n",
       "    }\n",
       "\n",
       "    .dataframe tbody tr th {\n",
       "        vertical-align: top;\n",
       "    }\n",
       "\n",
       "    .dataframe thead th {\n",
       "        text-align: right;\n",
       "    }\n",
       "</style>\n",
       "<table border=\"1\" class=\"dataframe\">\n",
       "  <thead>\n",
       "    <tr style=\"text-align: right;\">\n",
       "      <th></th>\n",
       "      <th>long_name</th>\n",
       "      <th>short_name</th>\n",
       "      <th>player_positions</th>\n",
       "      <th>potential</th>\n",
       "      <th>value_eur</th>\n",
       "      <th>value_eur_log</th>\n",
       "      <th>wage_eur</th>\n",
       "      <th>age</th>\n",
       "      <th>height_cm</th>\n",
       "      <th>club_name</th>\n",
       "      <th>...</th>\n",
       "      <th>defending</th>\n",
       "      <th>player_face_url</th>\n",
       "      <th>club_logo_url</th>\n",
       "      <th>club_flag_url</th>\n",
       "      <th>nation_logo_url</th>\n",
       "      <th>nation_flag_url</th>\n",
       "      <th>position_0</th>\n",
       "      <th>position_1</th>\n",
       "      <th>position_2</th>\n",
       "      <th>position_3</th>\n",
       "    </tr>\n",
       "  </thead>\n",
       "  <tbody>\n",
       "    <tr>\n",
       "      <th>0</th>\n",
       "      <td>Lionel Andrés Messi Cuccittini</td>\n",
       "      <td>L. Messi</td>\n",
       "      <td>RW, ST, CF</td>\n",
       "      <td>93</td>\n",
       "      <td>78000000.0</td>\n",
       "      <td>18.172219</td>\n",
       "      <td>320000.0</td>\n",
       "      <td>34</td>\n",
       "      <td>170</td>\n",
       "      <td>Paris Saint-Germain</td>\n",
       "      <td>...</td>\n",
       "      <td>34.0</td>\n",
       "      <td>https://cdn.sofifa.net/players/158/023/22_120.png</td>\n",
       "      <td>https://cdn.sofifa.net/teams/73/60.png</td>\n",
       "      <td>https://cdn.sofifa.net/flags/fr.png</td>\n",
       "      <td>https://cdn.sofifa.net/teams/1369/60.png</td>\n",
       "      <td>https://cdn.sofifa.net/flags/ar.png</td>\n",
       "      <td>RW</td>\n",
       "      <td>ST</td>\n",
       "      <td>CF</td>\n",
       "      <td></td>\n",
       "    </tr>\n",
       "    <tr>\n",
       "      <th>1</th>\n",
       "      <td>Robert Lewandowski</td>\n",
       "      <td>R. Lewandowski</td>\n",
       "      <td>ST</td>\n",
       "      <td>92</td>\n",
       "      <td>119500000.0</td>\n",
       "      <td>18.598827</td>\n",
       "      <td>270000.0</td>\n",
       "      <td>32</td>\n",
       "      <td>185</td>\n",
       "      <td>FC Bayern München</td>\n",
       "      <td>...</td>\n",
       "      <td>44.0</td>\n",
       "      <td>https://cdn.sofifa.net/players/188/545/22_120.png</td>\n",
       "      <td>https://cdn.sofifa.net/teams/21/60.png</td>\n",
       "      <td>https://cdn.sofifa.net/flags/de.png</td>\n",
       "      <td>https://cdn.sofifa.net/teams/1353/60.png</td>\n",
       "      <td>https://cdn.sofifa.net/flags/pl.png</td>\n",
       "      <td>ST</td>\n",
       "      <td></td>\n",
       "      <td></td>\n",
       "      <td></td>\n",
       "    </tr>\n",
       "    <tr>\n",
       "      <th>2</th>\n",
       "      <td>Cristiano Ronaldo dos Santos Aveiro</td>\n",
       "      <td>Cristiano Ronaldo</td>\n",
       "      <td>ST, LW</td>\n",
       "      <td>91</td>\n",
       "      <td>45000000.0</td>\n",
       "      <td>17.622173</td>\n",
       "      <td>270000.0</td>\n",
       "      <td>36</td>\n",
       "      <td>187</td>\n",
       "      <td>Manchester United</td>\n",
       "      <td>...</td>\n",
       "      <td>34.0</td>\n",
       "      <td>https://cdn.sofifa.net/players/020/801/22_120.png</td>\n",
       "      <td>https://cdn.sofifa.net/teams/11/60.png</td>\n",
       "      <td>https://cdn.sofifa.net/flags/gb-eng.png</td>\n",
       "      <td>https://cdn.sofifa.net/teams/1354/60.png</td>\n",
       "      <td>https://cdn.sofifa.net/flags/pt.png</td>\n",
       "      <td>ST</td>\n",
       "      <td>LW</td>\n",
       "      <td></td>\n",
       "      <td></td>\n",
       "    </tr>\n",
       "    <tr>\n",
       "      <th>3</th>\n",
       "      <td>Neymar da Silva Santos Júnior</td>\n",
       "      <td>Neymar Jr</td>\n",
       "      <td>LW, CAM</td>\n",
       "      <td>91</td>\n",
       "      <td>129000000.0</td>\n",
       "      <td>18.675323</td>\n",
       "      <td>270000.0</td>\n",
       "      <td>29</td>\n",
       "      <td>175</td>\n",
       "      <td>Paris Saint-Germain</td>\n",
       "      <td>...</td>\n",
       "      <td>37.0</td>\n",
       "      <td>https://cdn.sofifa.net/players/190/871/22_120.png</td>\n",
       "      <td>https://cdn.sofifa.net/teams/73/60.png</td>\n",
       "      <td>https://cdn.sofifa.net/flags/fr.png</td>\n",
       "      <td>NaN</td>\n",
       "      <td>https://cdn.sofifa.net/flags/br.png</td>\n",
       "      <td>LW</td>\n",
       "      <td>CAM</td>\n",
       "      <td></td>\n",
       "      <td></td>\n",
       "    </tr>\n",
       "    <tr>\n",
       "      <th>4</th>\n",
       "      <td>Kevin De Bruyne</td>\n",
       "      <td>K. De Bruyne</td>\n",
       "      <td>CM, CAM</td>\n",
       "      <td>91</td>\n",
       "      <td>125500000.0</td>\n",
       "      <td>18.647816</td>\n",
       "      <td>350000.0</td>\n",
       "      <td>30</td>\n",
       "      <td>181</td>\n",
       "      <td>Manchester City</td>\n",
       "      <td>...</td>\n",
       "      <td>64.0</td>\n",
       "      <td>https://cdn.sofifa.net/players/192/985/22_120.png</td>\n",
       "      <td>https://cdn.sofifa.net/teams/10/60.png</td>\n",
       "      <td>https://cdn.sofifa.net/flags/gb-eng.png</td>\n",
       "      <td>https://cdn.sofifa.net/teams/1325/60.png</td>\n",
       "      <td>https://cdn.sofifa.net/flags/be.png</td>\n",
       "      <td>CM</td>\n",
       "      <td>CAM</td>\n",
       "      <td></td>\n",
       "      <td></td>\n",
       "    </tr>\n",
       "  </tbody>\n",
       "</table>\n",
       "<p>5 rows × 32 columns</p>\n",
       "</div>"
      ],
      "text/plain": [
       "                             long_name         short_name player_positions  \\\n",
       "0       Lionel Andrés Messi Cuccittini           L. Messi       RW, ST, CF   \n",
       "1                   Robert Lewandowski     R. Lewandowski               ST   \n",
       "2  Cristiano Ronaldo dos Santos Aveiro  Cristiano Ronaldo           ST, LW   \n",
       "3        Neymar da Silva Santos Júnior          Neymar Jr          LW, CAM   \n",
       "4                      Kevin De Bruyne       K. De Bruyne          CM, CAM   \n",
       "\n",
       "   potential    value_eur  value_eur_log  wage_eur  age  height_cm  \\\n",
       "0         93   78000000.0      18.172219  320000.0   34        170   \n",
       "1         92  119500000.0      18.598827  270000.0   32        185   \n",
       "2         91   45000000.0      17.622173  270000.0   36        187   \n",
       "3         91  129000000.0      18.675323  270000.0   29        175   \n",
       "4         91  125500000.0      18.647816  350000.0   30        181   \n",
       "\n",
       "             club_name  ...  defending  \\\n",
       "0  Paris Saint-Germain  ...       34.0   \n",
       "1    FC Bayern München  ...       44.0   \n",
       "2    Manchester United  ...       34.0   \n",
       "3  Paris Saint-Germain  ...       37.0   \n",
       "4      Manchester City  ...       64.0   \n",
       "\n",
       "                                     player_face_url  \\\n",
       "0  https://cdn.sofifa.net/players/158/023/22_120.png   \n",
       "1  https://cdn.sofifa.net/players/188/545/22_120.png   \n",
       "2  https://cdn.sofifa.net/players/020/801/22_120.png   \n",
       "3  https://cdn.sofifa.net/players/190/871/22_120.png   \n",
       "4  https://cdn.sofifa.net/players/192/985/22_120.png   \n",
       "\n",
       "                            club_logo_url  \\\n",
       "0  https://cdn.sofifa.net/teams/73/60.png   \n",
       "1  https://cdn.sofifa.net/teams/21/60.png   \n",
       "2  https://cdn.sofifa.net/teams/11/60.png   \n",
       "3  https://cdn.sofifa.net/teams/73/60.png   \n",
       "4  https://cdn.sofifa.net/teams/10/60.png   \n",
       "\n",
       "                             club_flag_url  \\\n",
       "0      https://cdn.sofifa.net/flags/fr.png   \n",
       "1      https://cdn.sofifa.net/flags/de.png   \n",
       "2  https://cdn.sofifa.net/flags/gb-eng.png   \n",
       "3      https://cdn.sofifa.net/flags/fr.png   \n",
       "4  https://cdn.sofifa.net/flags/gb-eng.png   \n",
       "\n",
       "                            nation_logo_url  \\\n",
       "0  https://cdn.sofifa.net/teams/1369/60.png   \n",
       "1  https://cdn.sofifa.net/teams/1353/60.png   \n",
       "2  https://cdn.sofifa.net/teams/1354/60.png   \n",
       "3                                       NaN   \n",
       "4  https://cdn.sofifa.net/teams/1325/60.png   \n",
       "\n",
       "                       nation_flag_url position_0 position_1  position_2  \\\n",
       "0  https://cdn.sofifa.net/flags/ar.png         RW         ST          CF   \n",
       "1  https://cdn.sofifa.net/flags/pl.png         ST                          \n",
       "2  https://cdn.sofifa.net/flags/pt.png         ST         LW               \n",
       "3  https://cdn.sofifa.net/flags/br.png         LW        CAM               \n",
       "4  https://cdn.sofifa.net/flags/be.png         CM        CAM               \n",
       "\n",
       "   position_3  \n",
       "0              \n",
       "1              \n",
       "2              \n",
       "3              \n",
       "4              \n",
       "\n",
       "[5 rows x 32 columns]"
      ]
     },
     "execution_count": 55,
     "metadata": {},
     "output_type": "execute_result"
    }
   ],
   "source": [
    "# Player positions: Split player positions into several variables\n",
    "\n",
    "df = fifa_22.copy()\n",
    "df['positions_list'] = df['player_positions'].str.split(',')\n",
    "df_positions = pd.DataFrame(df['positions_list'].tolist()).fillna('').add_prefix('position_')\n",
    "fifa_22[\"position_0\"] = df_positions[\"position_0\"]\n",
    "fifa_22[\"position_1\"] = df_positions[\"position_1\"]\n",
    "fifa_22[\"position_2\"] = df_positions[\"position_2\"]\n",
    "fifa_22[\"position_3\"] = \"\"\n",
    "fifa_22.head()"
   ]
  },
  {
   "cell_type": "code",
   "execution_count": 56,
   "metadata": {},
   "outputs": [
    {
     "data": {
      "text/html": [
       "<div>\n",
       "<style scoped>\n",
       "    .dataframe tbody tr th:only-of-type {\n",
       "        vertical-align: middle;\n",
       "    }\n",
       "\n",
       "    .dataframe tbody tr th {\n",
       "        vertical-align: top;\n",
       "    }\n",
       "\n",
       "    .dataframe thead th {\n",
       "        text-align: right;\n",
       "    }\n",
       "</style>\n",
       "<table border=\"1\" class=\"dataframe\">\n",
       "  <thead>\n",
       "    <tr style=\"text-align: right;\">\n",
       "      <th></th>\n",
       "      <th>long_name</th>\n",
       "      <th>short_name</th>\n",
       "      <th>player_positions</th>\n",
       "      <th>potential</th>\n",
       "      <th>value_eur</th>\n",
       "      <th>value_eur_log</th>\n",
       "      <th>wage_eur</th>\n",
       "      <th>age</th>\n",
       "      <th>height_cm</th>\n",
       "      <th>club_name</th>\n",
       "      <th>...</th>\n",
       "      <th>defending</th>\n",
       "      <th>player_face_url</th>\n",
       "      <th>club_logo_url</th>\n",
       "      <th>club_flag_url</th>\n",
       "      <th>nation_logo_url</th>\n",
       "      <th>nation_flag_url</th>\n",
       "      <th>position_0</th>\n",
       "      <th>position_1</th>\n",
       "      <th>position_2</th>\n",
       "      <th>position_3</th>\n",
       "    </tr>\n",
       "  </thead>\n",
       "  <tbody>\n",
       "    <tr>\n",
       "      <th>97</th>\n",
       "      <td>Zlatan Ibrahimović</td>\n",
       "      <td>Z. Ibrahimović</td>\n",
       "      <td>ST</td>\n",
       "      <td>84</td>\n",
       "      <td>14500000.0</td>\n",
       "      <td>16.489659</td>\n",
       "      <td>51000.0</td>\n",
       "      <td>39</td>\n",
       "      <td>195</td>\n",
       "      <td>AC Milan</td>\n",
       "      <td>...</td>\n",
       "      <td>34.0</td>\n",
       "      <td>https://cdn.sofifa.net/players/041/236/22_120.png</td>\n",
       "      <td>https://cdn.sofifa.net/teams/47/60.png</td>\n",
       "      <td>https://cdn.sofifa.net/flags/it.png</td>\n",
       "      <td>https://cdn.sofifa.net/teams/1363/60.png</td>\n",
       "      <td>https://cdn.sofifa.net/flags/se.png</td>\n",
       "      <td>ST</td>\n",
       "      <td></td>\n",
       "      <td></td>\n",
       "      <td></td>\n",
       "    </tr>\n",
       "  </tbody>\n",
       "</table>\n",
       "<p>1 rows × 32 columns</p>\n",
       "</div>"
      ],
      "text/plain": [
       "             long_name      short_name player_positions  potential  \\\n",
       "97  Zlatan Ibrahimović  Z. Ibrahimović               ST         84   \n",
       "\n",
       "     value_eur  value_eur_log  wage_eur  age  height_cm club_name  ...  \\\n",
       "97  14500000.0      16.489659   51000.0   39        195  AC Milan  ...   \n",
       "\n",
       "    defending                                    player_face_url  \\\n",
       "97       34.0  https://cdn.sofifa.net/players/041/236/22_120.png   \n",
       "\n",
       "                             club_logo_url  \\\n",
       "97  https://cdn.sofifa.net/teams/47/60.png   \n",
       "\n",
       "                          club_flag_url  \\\n",
       "97  https://cdn.sofifa.net/flags/it.png   \n",
       "\n",
       "                             nation_logo_url  \\\n",
       "97  https://cdn.sofifa.net/teams/1363/60.png   \n",
       "\n",
       "                        nation_flag_url position_0 position_1  position_2  \\\n",
       "97  https://cdn.sofifa.net/flags/se.png         ST                          \n",
       "\n",
       "    position_3  \n",
       "97              \n",
       "\n",
       "[1 rows x 32 columns]"
      ]
     },
     "execution_count": 56,
     "metadata": {},
     "output_type": "execute_result"
    }
   ],
   "source": [
    "# Check if nothing messed up\n",
    "\n",
    "fifa_22.loc[(fifa_22[\"long_name\"]==\"Zlatan Ibrahimović\")]"
   ]
  },
  {
   "cell_type": "code",
   "execution_count": 57,
   "metadata": {},
   "outputs": [],
   "source": [
    "# Save test data fifa_22 with imputed values\n",
    "\n",
    "fifa_22.to_csv(\"fifa_22.csv\", index = False)"
   ]
  },
  {
   "cell_type": "markdown",
   "metadata": {},
   "source": [
    "### Define X and y"
   ]
  },
  {
   "cell_type": "code",
   "execution_count": 61,
   "metadata": {},
   "outputs": [],
   "source": [
    "y_test_imputed = fifa_22[\"value_eur_log\"]\n",
    "X_test_imputed = fifa_22[[\"potential\",\"age\",\"league_level\",\"skill_moves\",\"preferred_foot\",\"international_reputation\",\"pace\",\"shooting\",\"passing\",\"dribbling\",\"defending\"]].copy()\n",
    "X_test_imputed = pd.get_dummies(X_test_imputed, drop_first=True)"
   ]
  },
  {
   "cell_type": "code",
   "execution_count": 62,
   "metadata": {},
   "outputs": [
    {
     "data": {
      "text/plain": [
       "0        18.172219\n",
       "1        18.598827\n",
       "2        17.622173\n",
       "3        18.675323\n",
       "4        18.647816\n",
       "           ...    \n",
       "19234    11.156251\n",
       "19235    11.608236\n",
       "19236    11.512925\n",
       "19237    11.608236\n",
       "19238    11.608236\n",
       "Name: value_eur_log, Length: 19239, dtype: float64"
      ]
     },
     "execution_count": 62,
     "metadata": {},
     "output_type": "execute_result"
    }
   ],
   "source": [
    "y_test_imputed"
   ]
  },
  {
   "cell_type": "code",
   "execution_count": 63,
   "metadata": {},
   "outputs": [
    {
     "name": "stdout",
     "output_type": "stream",
     "text": [
      "<class 'pandas.core.frame.DataFrame'>\n",
      "RangeIndex: 19239 entries, 0 to 19238\n",
      "Data columns (total 11 columns):\n",
      " #   Column                    Non-Null Count  Dtype  \n",
      "---  ------                    --------------  -----  \n",
      " 0   potential                 19239 non-null  int64  \n",
      " 1   age                       19239 non-null  int64  \n",
      " 2   league_level              19239 non-null  float64\n",
      " 3   skill_moves               19239 non-null  int64  \n",
      " 4   international_reputation  19239 non-null  int64  \n",
      " 5   pace                      19239 non-null  float64\n",
      " 6   shooting                  19239 non-null  float64\n",
      " 7   passing                   19239 non-null  float64\n",
      " 8   dribbling                 19239 non-null  float64\n",
      " 9   defending                 19239 non-null  float64\n",
      " 10  preferred_foot_Right      19239 non-null  uint8  \n",
      "dtypes: float64(6), int64(4), uint8(1)\n",
      "memory usage: 1.5 MB\n"
     ]
    }
   ],
   "source": [
    "X_test_imputed.info()"
   ]
  },
  {
   "cell_type": "code",
   "execution_count": null,
   "metadata": {},
   "outputs": [],
   "source": []
  },
  {
   "cell_type": "markdown",
   "metadata": {
    "id": "gYqXqNLqtSb5"
   },
   "source": [
    "## Linear Regression"
   ]
  },
  {
   "cell_type": "code",
   "execution_count": 64,
   "metadata": {
    "executionInfo": {
     "elapsed": 218,
     "status": "ok",
     "timestamp": 1670609099662,
     "user": {
      "displayName": "Emilia Lautz",
      "userId": "12799330444436508787"
     },
     "user_tz": -60
    },
    "id": "p3kcAITGe_NQ"
   },
   "outputs": [],
   "source": [
    "import statsmodels.api as sm"
   ]
  },
  {
   "cell_type": "code",
   "execution_count": 65,
   "metadata": {
    "colab": {
     "base_uri": "https://localhost:8080/"
    },
    "executionInfo": {
     "elapsed": 393,
     "status": "ok",
     "timestamp": 1670609101500,
     "user": {
      "displayName": "Emilia Lautz",
      "userId": "12799330444436508787"
     },
     "user_tz": -60
    },
    "id": "rDnAoZNFww2x",
    "outputId": "c60a3305-b40b-4e24-f30e-8d8f471e6718"
   },
   "outputs": [
    {
     "name": "stdout",
     "output_type": "stream",
     "text": [
      "                            OLS Regression Results                            \n",
      "==============================================================================\n",
      "Dep. Variable:          value_eur_log   R-squared:                       0.834\n",
      "Model:                            OLS   Adj. R-squared:                  0.834\n",
      "Method:                 Least Squares   F-statistic:                 5.616e+04\n",
      "Date:                Tue, 20 Dec 2022   Prob (F-statistic):               0.00\n",
      "Time:                        14:48:28   Log-Likelihood:            -1.0505e+05\n",
      "No. Observations:              122840   AIC:                         2.101e+05\n",
      "Df Residuals:                  122828   BIC:                         2.102e+05\n",
      "Df Model:                          11                                         \n",
      "Covariance Type:            nonrobust                                         \n",
      "============================================================================================\n",
      "                               coef    std err          t      P>|t|      [0.025      0.975]\n",
      "--------------------------------------------------------------------------------------------\n",
      "const                       -2.4536      0.028    -88.256      0.000      -2.508      -2.399\n",
      "potential                    0.1541      0.000    400.775      0.000       0.153       0.155\n",
      "age                          0.0734      0.000    148.642      0.000       0.072       0.074\n",
      "league_level                -0.0428      0.002    -19.101      0.000      -0.047      -0.038\n",
      "skill_moves                  0.1401      0.003     49.241      0.000       0.135       0.146\n",
      "international_reputation     0.1130      0.005     23.296      0.000       0.103       0.122\n",
      "pace                         0.0124      0.000     61.382      0.000       0.012       0.013\n",
      "shooting                     0.0163      0.000     66.633      0.000       0.016       0.017\n",
      "passing                     -0.0017      0.000     -4.891      0.000      -0.002      -0.001\n",
      "dribbling                    0.0075      0.000     17.928      0.000       0.007       0.008\n",
      "defending                    0.0149      0.000     87.758      0.000       0.015       0.015\n",
      "preferred_foot_Right         0.0339      0.004      8.683      0.000       0.026       0.042\n",
      "==============================================================================\n",
      "Omnibus:                    26327.233   Durbin-Watson:                   1.256\n",
      "Prob(Omnibus):                  0.000   Jarque-Bera (JB):            94072.851\n",
      "Skew:                          -1.056   Prob(JB):                         0.00\n",
      "Kurtosis:                       6.731   Cond. No.                     2.58e+03\n",
      "==============================================================================\n",
      "\n",
      "Notes:\n",
      "[1] Standard Errors assume that the covariance matrix of the errors is correctly specified.\n",
      "[2] The condition number is large, 2.58e+03. This might indicate that there are\n",
      "strong multicollinearity or other numerical problems.\n"
     ]
    }
   ],
   "source": [
    "# Instantiate and Fit Model\n",
    "\n",
    "fifa_ols = sm.OLS(y_imputed, sm.add_constant(X_imputed))\n",
    "fifa_ols = fifa_ols.fit()\n",
    "print(fifa_ols.summary())"
   ]
  },
  {
   "cell_type": "markdown",
   "metadata": {
    "id": "hafV5CxkffG0"
   },
   "source": [
    "Given the high value for the condition number, the linear regression might not be the best method for our prediction as it could imply strong multicollinearity "
   ]
  },
  {
   "cell_type": "markdown",
   "metadata": {
    "id": "WUVJ8GeitWSl"
   },
   "source": [
    "### Prediction"
   ]
  },
  {
   "cell_type": "code",
   "execution_count": 66,
   "metadata": {
    "colab": {
     "base_uri": "https://localhost:8080/"
    },
    "executionInfo": {
     "elapsed": 22,
     "status": "ok",
     "timestamp": 1670609297309,
     "user": {
      "displayName": "Emilia Lautz",
      "userId": "12799330444436508787"
     },
     "user_tz": -60
    },
    "id": "re0f3a3_wkM2",
    "outputId": "a9cab039-e951-40ab-e84f-6f289ff359d2"
   },
   "outputs": [
    {
     "data": {
      "text/plain": [
       "9.586216716012842"
      ]
     },
     "execution_count": 66,
     "metadata": {},
     "output_type": "execute_result"
    }
   ],
   "source": [
    "# Prediction\n",
    "\n",
    "y_pred_ols = fifa_ols.predict(sm.add_constant(X_test_imputed))\n",
    "y_pred_ols.min()"
   ]
  },
  {
   "cell_type": "code",
   "execution_count": 67,
   "metadata": {},
   "outputs": [
    {
     "data": {
      "text/plain": [
       "0        19.068994\n",
       "1        18.817886\n",
       "2        19.105622\n",
       "3        18.541574\n",
       "4        18.570325\n",
       "           ...    \n",
       "19234     9.753424\n",
       "19235    10.652860\n",
       "19236    10.194114\n",
       "19237    10.684328\n",
       "19238    10.851337\n",
       "Length: 19239, dtype: float64"
      ]
     },
     "execution_count": 67,
     "metadata": {},
     "output_type": "execute_result"
    }
   ],
   "source": [
    "y_pred_ols"
   ]
  },
  {
   "cell_type": "code",
   "execution_count": 68,
   "metadata": {},
   "outputs": [],
   "source": [
    "## Pickle dump\n",
    "filename_test = 'fifa_ols_model.sav'\n",
    "pickle.dump(fifa_ols, open(filename_test, 'wb'))"
   ]
  },
  {
   "cell_type": "code",
   "execution_count": 69,
   "metadata": {},
   "outputs": [
    {
     "data": {
      "text/plain": [
       "0        19.068994\n",
       "1        18.817886\n",
       "2        19.105622\n",
       "3        18.541574\n",
       "4        18.570325\n",
       "           ...    \n",
       "19234     9.753424\n",
       "19235    10.652860\n",
       "19236    10.194114\n",
       "19237    10.684328\n",
       "19238    10.851337\n",
       "Length: 19239, dtype: float64"
      ]
     },
     "execution_count": 69,
     "metadata": {},
     "output_type": "execute_result"
    }
   ],
   "source": [
    "loaded_ols = pickle.load(open(filename_test, 'rb'))\n",
    "loaded_ols.predict(sm.add_constant(X_test_imputed))"
   ]
  },
  {
   "cell_type": "markdown",
   "metadata": {
    "id": "miTdg94V53AE"
   },
   "source": [
    "### Visualise results: actual vs. predicted plot"
   ]
  },
  {
   "cell_type": "code",
   "execution_count": 70,
   "metadata": {
    "executionInfo": {
     "elapsed": 19,
     "status": "ok",
     "timestamp": 1670609297310,
     "user": {
      "displayName": "Emilia Lautz",
      "userId": "12799330444436508787"
     },
     "user_tz": -60
    },
    "id": "02rVtRq64x5W"
   },
   "outputs": [],
   "source": [
    "import matplotlib.pyplot as plt"
   ]
  },
  {
   "cell_type": "code",
   "execution_count": 71,
   "metadata": {
    "executionInfo": {
     "elapsed": 18,
     "status": "ok",
     "timestamp": 1670609297310,
     "user": {
      "displayName": "Emilia Lautz",
      "userId": "12799330444436508787"
     },
     "user_tz": -60
    },
    "id": "v_eX8z_g51Ph"
   },
   "outputs": [],
   "source": [
    "def actual_vs_predicted_plot(y_test, y_pred):\n",
    "  min_value=np.array([y_test.min(), y_pred.min()]).min()\n",
    "  max_value=np.array([y_test.max(), y_pred.max()]).max()\n",
    "  fig, ax = plt.subplots(figsize=(10,5))\n",
    "  ax.scatter(y_test,y_pred, color=\"#3ba3ec\")\n",
    "  ax.plot([min_value,max_value], [min_value, max_value], lw=3, color=\"#f77189\")\n",
    "  ax.set_title(\"Actual vs Predicted Plot\")\n",
    "  ax.set_xlabel('Actual Value')\n",
    "  ax.set_ylabel('Predicted Value')\n",
    "  plt.show()"
   ]
  },
  {
   "cell_type": "code",
   "execution_count": 72,
   "metadata": {
    "colab": {
     "base_uri": "https://localhost:8080/",
     "height": 350
    },
    "executionInfo": {
     "elapsed": 904,
     "status": "ok",
     "timestamp": 1670609298197,
     "user": {
      "displayName": "Emilia Lautz",
      "userId": "12799330444436508787"
     },
     "user_tz": -60
    },
    "id": "fDZh-uro59y9",
    "outputId": "8d77390e-ec9f-4e05-dade-604c478069e5"
   },
   "outputs": [
    {
     "data": {
      "image/png": "[encoded data removed]",
      "text/plain": [
       "<Figure size 1000x500 with 1 Axes>"
      ]
     },
     "metadata": {},
     "output_type": "display_data"
    }
   ],
   "source": [
    "actual_vs_predicted_plot(y_test_imputed, y_pred_ols)"
   ]
  },
  {
   "cell_type": "markdown",
   "metadata": {
    "id": "0ME7nxfcwgXU"
   },
   "source": [
    "### RMSE and MAPE"
   ]
  },
  {
   "cell_type": "code",
   "execution_count": 73,
   "metadata": {},
   "outputs": [],
   "source": [
    "# Formula for RMSE\n",
    "\n",
    "def root_mean_squared_error(y_true, y_pred):\n",
    "    y_true, y_pred = np.array(y_true), np.array(y_pred)\n",
    "    residuals = np.exp(y_true) - np.exp(y_pred)\n",
    "    return np.sqrt(np.mean(residuals**2))"
   ]
  },
  {
   "cell_type": "code",
   "execution_count": 74,
   "metadata": {},
   "outputs": [
    {
     "data": {
      "text/plain": [
       "4365012.55013128"
      ]
     },
     "execution_count": 74,
     "metadata": {},
     "output_type": "execute_result"
    }
   ],
   "source": [
    "rmse_linear = root_mean_squared_error(y_test_imputed,y_pred_ols)\n",
    "rmse_linear"
   ]
  },
  {
   "cell_type": "code",
   "execution_count": 75,
   "metadata": {},
   "outputs": [],
   "source": [
    "# Formula for MAPE \n",
    "\n",
    "def mean_absolute_percentage_error(y_true, y_pred): \n",
    "    y_true, y_pred = np.array(y_true), np.array(y_pred)\n",
    "    return np.mean(np.abs((np.exp(y_true) - np.exp(y_pred)) / np.exp(y_true))) * 100\n",
    "\n",
    "# Formula retrieved from: https://stats.stackexchange.com/questions/58391/mean-absolute-percentage-error-mape-in-scikit-learn/294069#294069"
   ]
  },
  {
   "cell_type": "code",
   "execution_count": 76,
   "metadata": {},
   "outputs": [
    {
     "data": {
      "text/plain": [
       "48.46071048345578"
      ]
     },
     "execution_count": 76,
     "metadata": {},
     "output_type": "execute_result"
    }
   ],
   "source": [
    "mape_linear = mean_absolute_percentage_error(y_test_imputed,y_pred_ols)\n",
    "mape_linear"
   ]
  },
  {
   "cell_type": "markdown",
   "metadata": {
    "id": "R4d7P0J4jy4O"
   },
   "source": [
    "The model seems to perform okay. However, it is likely that the values are not a linear distribution. Hence, we might be able to improve the prediction by using decision trees or a random forest."
   ]
  },
  {
   "cell_type": "markdown",
   "metadata": {
    "id": "ZLjnL4qVtbd2"
   },
   "source": [
    "## Decision Tree Regressor"
   ]
  },
  {
   "cell_type": "code",
   "execution_count": 77,
   "metadata": {
    "executionInfo": {
     "elapsed": 226,
     "status": "ok",
     "timestamp": 1670487895457,
     "user": {
      "displayName": "Emilia Lautz",
      "userId": "12799330444436508787"
     },
     "user_tz": -60
    },
    "id": "kkqKP01akPKG"
   },
   "outputs": [],
   "source": [
    "# Decision tree regressor\n",
    "from sklearn.tree import DecisionTreeRegressor"
   ]
  },
  {
   "cell_type": "code",
   "execution_count": 78,
   "metadata": {
    "colab": {
     "base_uri": "https://localhost:8080/",
     "height": 129
    },
    "executionInfo": {
     "elapsed": 362,
     "status": "ok",
     "timestamp": 1670488122310,
     "user": {
      "displayName": "Emilia Lautz",
      "userId": "12799330444436508787"
     },
     "user_tz": -60
    },
    "id": "LW_5Kc4gkmRG",
    "outputId": "531b1789-784c-4828-85c8-4a2153e8ed6a"
   },
   "outputs": [
    {
     "data": {
      "text/plain": [
       "DecisionTreeRegressor(max_depth=5, random_state=1)"
      ]
     },
     "execution_count": 78,
     "metadata": {},
     "output_type": "execute_result"
    }
   ],
   "source": [
    "fifa_treeregressor = DecisionTreeRegressor(random_state=1,max_depth=5)\n",
    "fifa_treeregressor.fit(X_imputed,y_imputed)"
   ]
  },
  {
   "cell_type": "markdown",
   "metadata": {
    "id": "FVLAcP9G2vzd"
   },
   "source": [
    "### Prediction"
   ]
  },
  {
   "cell_type": "code",
   "execution_count": 79,
   "metadata": {
    "colab": {
     "base_uri": "https://localhost:8080/"
    },
    "executionInfo": {
     "elapsed": 3,
     "status": "ok",
     "timestamp": 1670489765409,
     "user": {
      "displayName": "Emilia Lautz",
      "userId": "12799330444436508787"
     },
     "user_tz": -60
    },
    "id": "htxqrK3HleK2",
    "outputId": "054acf61-383b-47c5-8be9-5ac2a651256e"
   },
   "outputs": [
    {
     "data": {
      "text/plain": [
       "9.164281962828998"
      ]
     },
     "execution_count": 79,
     "metadata": {},
     "output_type": "execute_result"
    }
   ],
   "source": [
    "y_pred_tree = fifa_treeregressor.predict(X_test_imputed)\n",
    "y_pred_tree.min()"
   ]
  },
  {
   "cell_type": "code",
   "execution_count": 80,
   "metadata": {
    "colab": {
     "base_uri": "https://localhost:8080/"
    },
    "executionInfo": {
     "elapsed": 7,
     "status": "ok",
     "timestamp": 1670489768030,
     "user": {
      "displayName": "Emilia Lautz",
      "userId": "12799330444436508787"
     },
     "user_tz": -60
    },
    "id": "UDZIIbLnlpNu",
    "outputId": "3dc3bfe0-00ab-409a-fd05-e8a52f8d4ce9"
   },
   "outputs": [
    {
     "data": {
      "text/plain": [
       "array([17.49489068, 17.49489068, 17.49489068, ..., 10.78219716,\n",
       "       10.8877639 , 10.8877639 ])"
      ]
     },
     "execution_count": 80,
     "metadata": {},
     "output_type": "execute_result"
    }
   ],
   "source": [
    "y_pred_tree"
   ]
  },
  {
   "cell_type": "code",
   "execution_count": 81,
   "metadata": {
    "executionInfo": {
     "elapsed": 234,
     "status": "ok",
     "timestamp": 1670489769805,
     "user": {
      "displayName": "Emilia Lautz",
      "userId": "12799330444436508787"
     },
     "user_tz": -60
    },
    "id": "sv1OqhLdls27"
   },
   "outputs": [],
   "source": [
    "## Pickle dump\n",
    "filename_tree = 'fifa_tree_model.sav'\n",
    "pickle.dump(fifa_treeregressor, open(filename_tree, 'wb'))"
   ]
  },
  {
   "cell_type": "code",
   "execution_count": 82,
   "metadata": {
    "colab": {
     "base_uri": "https://localhost:8080/"
    },
    "executionInfo": {
     "elapsed": 228,
     "status": "ok",
     "timestamp": 1670489772322,
     "user": {
      "displayName": "Emilia Lautz",
      "userId": "12799330444436508787"
     },
     "user_tz": -60
    },
    "id": "CQ4G4UlNsMvj",
    "outputId": "ab120d7f-9f98-46e8-94f2-bd508033b2cd"
   },
   "outputs": [
    {
     "data": {
      "text/plain": [
       "array([17.49489068, 17.49489068, 17.49489068, ..., 10.78219716,\n",
       "       10.8877639 , 10.8877639 ])"
      ]
     },
     "execution_count": 82,
     "metadata": {},
     "output_type": "execute_result"
    }
   ],
   "source": [
    "loaded_tree = pickle.load(open(filename_tree, 'rb'))\n",
    "loaded_tree.predict(X_test_imputed)"
   ]
  },
  {
   "cell_type": "markdown",
   "metadata": {
    "id": "6f-2c6OF8ZCz"
   },
   "source": [
    "### Visualise results: actual vs. predicted plot"
   ]
  },
  {
   "cell_type": "code",
   "execution_count": 83,
   "metadata": {
    "colab": {
     "base_uri": "https://localhost:8080/",
     "height": 350
    },
    "executionInfo": {
     "elapsed": 511,
     "status": "ok",
     "timestamp": 1670489779599,
     "user": {
      "displayName": "Emilia Lautz",
      "userId": "12799330444436508787"
     },
     "user_tz": -60
    },
    "id": "3SfjRzFv8d6x",
    "outputId": "4a6ae041-d909-4f96-ab16-a239519cf011"
   },
   "outputs": [
    {
     "data": {
      "image/png": "[encoded data removed]",
      "text/plain": [
       "<Figure size 1000x500 with 1 Axes>"
      ]
     },
     "metadata": {},
     "output_type": "display_data"
    }
   ],
   "source": [
    "actual_vs_predicted_plot(y_test_imputed, y_pred_tree)"
   ]
  },
  {
   "cell_type": "markdown",
   "metadata": {
    "id": "xCyFKi2T39Yn"
   },
   "source": [
    "### RMSE and MAPE"
   ]
  },
  {
   "cell_type": "code",
   "execution_count": 84,
   "metadata": {
    "executionInfo": {
     "elapsed": 625,
     "status": "ok",
     "timestamp": 1670489792157,
     "user": {
      "displayName": "Emilia Lautz",
      "userId": "12799330444436508787"
     },
     "user_tz": -60
    },
    "id": "mctEiocpt7zX"
   },
   "outputs": [
    {
     "data": {
      "text/plain": [
       "4681215.681984645"
      ]
     },
     "execution_count": 84,
     "metadata": {},
     "output_type": "execute_result"
    }
   ],
   "source": [
    "rmse_tree = root_mean_squared_error(y_test_imputed,y_pred_tree)\n",
    "rmse_tree"
   ]
  },
  {
   "cell_type": "code",
   "execution_count": 85,
   "metadata": {
    "colab": {
     "base_uri": "https://localhost:8080/",
     "height": 226
    },
    "executionInfo": {
     "elapsed": 8,
     "status": "ok",
     "timestamp": 1670489794489,
     "user": {
      "displayName": "Emilia Lautz",
      "userId": "12799330444436508787"
     },
     "user_tz": -60
    },
    "id": "YiSXiSiO3gNu",
    "outputId": "cbe7e42c-602e-40b9-89fb-69d284e91dd8"
   },
   "outputs": [
    {
     "data": {
      "text/plain": [
       "37.975268729385554"
      ]
     },
     "execution_count": 85,
     "metadata": {},
     "output_type": "execute_result"
    }
   ],
   "source": [
    "mape_tree = mean_absolute_percentage_error(y_test_imputed,y_pred_tree)\n",
    "mape_tree"
   ]
  },
  {
   "cell_type": "markdown",
   "metadata": {},
   "source": [
    "As the plot shows, the model seems to perform poorly. Some predictions lie on a horizontal line, which indicates that the hyperparameters might not be ideal. Since the tree is only allowed to split five times, it is forced to stop the splitting at a certain point. Hence, a grid search might be helpful as it allows to define the best possible hyperparameters and thus improves the prediction performance."
   ]
  },
  {
   "cell_type": "markdown",
   "metadata": {
    "id": "oKuS3MNJ4gHL"
   },
   "source": [
    "## Decision Tree Regressor: optimising hyperparameters"
   ]
  },
  {
   "cell_type": "code",
   "execution_count": 86,
   "metadata": {
    "executionInfo": {
     "elapsed": 1735,
     "status": "ok",
     "timestamp": 1670489845339,
     "user": {
      "displayName": "Emilia Lautz",
      "userId": "12799330444436508787"
     },
     "user_tz": -60
    },
    "id": "4iKB-o5m9BAl"
   },
   "outputs": [],
   "source": [
    "from sklearn.model_selection import GridSearchCV"
   ]
  },
  {
   "cell_type": "code",
   "execution_count": 87,
   "metadata": {
    "executionInfo": {
     "elapsed": 3,
     "status": "ok",
     "timestamp": 1670489855425,
     "user": {
      "displayName": "Emilia Lautz",
      "userId": "12799330444436508787"
     },
     "user_tz": -60
    },
    "id": "X_xnDOd04Rw-"
   },
   "outputs": [],
   "source": [
    "# Optimise hyperparamter \n",
    "\n",
    "parameters = {\"max_depth\":range(1,30),\n",
    "              \"min_samples_leaf\":[1, 10, 20, 30, 50,100]}\n",
    "\n",
    "tree_CV = GridSearchCV(DecisionTreeRegressor(random_state = 1), parameters, cv=5)"
   ]
  },
  {
   "cell_type": "code",
   "execution_count": 88,
   "metadata": {
    "colab": {
     "base_uri": "https://localhost:8080/"
    },
    "executionInfo": {
     "elapsed": 388239,
     "status": "ok",
     "timestamp": 1670490299520,
     "user": {
      "displayName": "Emilia Lautz",
      "userId": "12799330444436508787"
     },
     "user_tz": -60
    },
    "id": "VjFKZfRp9E5R",
    "outputId": "d388794b-90a5-49d4-95ca-921a4aff9292"
   },
   "outputs": [
    {
     "data": {
      "text/plain": [
       "{'max_depth': 14, 'min_samples_leaf': 30}"
      ]
     },
     "execution_count": 88,
     "metadata": {},
     "output_type": "execute_result"
    }
   ],
   "source": [
    "tree_CV.fit(X_imputed,y_imputed)\n",
    "tree_CV.best_params_"
   ]
  },
  {
   "cell_type": "markdown",
   "metadata": {},
   "source": [
    "The grid search suggested to use \"max_depth\" = 16 and \"min_samples_leaf\" = 30."
   ]
  },
  {
   "cell_type": "markdown",
   "metadata": {
    "id": "vpj8JmjB9WmG"
   },
   "source": [
    "### Prediction"
   ]
  },
  {
   "cell_type": "code",
   "execution_count": 89,
   "metadata": {
    "executionInfo": {
     "elapsed": 237,
     "status": "ok",
     "timestamp": 1670490327083,
     "user": {
      "displayName": "Emilia Lautz",
      "userId": "12799330444436508787"
     },
     "user_tz": -60
    },
    "id": "EIiKLgvR9Sjz"
   },
   "outputs": [
    {
     "data": {
      "text/plain": [
       "array([18.32205106, 18.08340551, 18.08340551, ..., 10.52744811,\n",
       "       11.08127006, 11.08127006])"
      ]
     },
     "execution_count": 89,
     "metadata": {},
     "output_type": "execute_result"
    }
   ],
   "source": [
    "y_pred_tree_opt = tree_CV.predict(X_test_imputed)\n",
    "y_pred_tree_opt"
   ]
  },
  {
   "cell_type": "code",
   "execution_count": 90,
   "metadata": {
    "executionInfo": {
     "elapsed": 237,
     "status": "ok",
     "timestamp": 1670490329528,
     "user": {
      "displayName": "Emilia Lautz",
      "userId": "12799330444436508787"
     },
     "user_tz": -60
    },
    "id": "lt0JH5rz9gHL"
   },
   "outputs": [],
   "source": [
    "## Pickle dump\n",
    "filename_tree_opt = 'fifa_tree_opt_model.sav'\n",
    "pickle.dump(tree_CV, open(filename_tree_opt, 'wb'))"
   ]
  },
  {
   "cell_type": "code",
   "execution_count": 91,
   "metadata": {
    "colab": {
     "base_uri": "https://localhost:8080/"
    },
    "executionInfo": {
     "elapsed": 229,
     "status": "ok",
     "timestamp": 1670490334473,
     "user": {
      "displayName": "Emilia Lautz",
      "userId": "12799330444436508787"
     },
     "user_tz": -60
    },
    "id": "r0ZdiVB-9z-Q",
    "outputId": "ece30bf5-54a6-4c22-8518-b14f76d2eeda"
   },
   "outputs": [
    {
     "data": {
      "text/plain": [
       "array([18.32205106, 18.08340551, 18.08340551, ..., 10.52744811,\n",
       "       11.08127006, 11.08127006])"
      ]
     },
     "execution_count": 91,
     "metadata": {},
     "output_type": "execute_result"
    }
   ],
   "source": [
    "loaded_tree_opt = pickle.load(open(filename_tree_opt, 'rb'))\n",
    "loaded_tree_opt.predict(X_test_imputed)"
   ]
  },
  {
   "cell_type": "markdown",
   "metadata": {
    "id": "gPxcMoDu95nL"
   },
   "source": [
    "### Visualise results: actual vs. predicted plot"
   ]
  },
  {
   "cell_type": "code",
   "execution_count": 96,
   "metadata": {
    "colab": {
     "base_uri": "https://localhost:8080/",
     "height": 350
    },
    "executionInfo": {
     "elapsed": 1615,
     "status": "ok",
     "timestamp": 1670490341582,
     "user": {
      "displayName": "Emilia Lautz",
      "userId": "12799330444436508787"
     },
     "user_tz": -60
    },
    "id": "t3odi0TR96CP",
    "outputId": "05cdf34d-ae46-4b29-b4a2-11036dde1ee3"
   },
   "outputs": [
    {
     "data": {
      "image/png": "[encoded data removed]",
      "text/plain": [
       "<Figure size 1000x500 with 1 Axes>"
      ]
     },
     "metadata": {},
     "output_type": "display_data"
    }
   ],
   "source": [
    "actual_vs_predicted_plot(y_test_imputed, y_pred_tree_opt)"
   ]
  },
  {
   "cell_type": "markdown",
   "metadata": {
    "id": "3GsgJ8JP-AtQ"
   },
   "source": [
    "### RMSE and MAPE"
   ]
  },
  {
   "cell_type": "code",
   "execution_count": 92,
   "metadata": {
    "colab": {
     "base_uri": "https://localhost:8080/",
     "height": 295
    },
    "executionInfo": {
     "elapsed": 633,
     "status": "ok",
     "timestamp": 1670490359131,
     "user": {
      "displayName": "Emilia Lautz",
      "userId": "12799330444436508787"
     },
     "user_tz": -60
    },
    "id": "5EyQU4GW-Fhj",
    "outputId": "6ce43473-d55a-49cf-94f8-6f2addce9980"
   },
   "outputs": [
    {
     "data": {
      "text/plain": [
       "3514160.908271951"
      ]
     },
     "execution_count": 92,
     "metadata": {},
     "output_type": "execute_result"
    }
   ],
   "source": [
    "rmse_tree_opt = root_mean_squared_error(y_test_imputed,y_pred_tree_opt)\n",
    "rmse_tree_opt"
   ]
  },
  {
   "cell_type": "code",
   "execution_count": 93,
   "metadata": {},
   "outputs": [
    {
     "data": {
      "text/plain": [
       "29.880359649958123"
      ]
     },
     "execution_count": 93,
     "metadata": {},
     "output_type": "execute_result"
    }
   ],
   "source": [
    "mape_tree_opt = mean_absolute_percentage_error(y_test_imputed,y_pred_tree_opt)\n",
    "mape_tree_opt"
   ]
  },
  {
   "cell_type": "markdown",
   "metadata": {},
   "source": [
    "Both, RMSE and MAPE, are lower than they were for the previous models (linear regression and decision tree with random hyperparameters). Therefore, the performance of the prediction was improved by using a GridSearch. The last model that we want to use is a random forest."
   ]
  },
  {
   "cell_type": "markdown",
   "metadata": {
    "id": "VXWLggz3AX41"
   },
   "source": [
    "## Random Forest Regressor"
   ]
  },
  {
   "cell_type": "code",
   "execution_count": 94,
   "metadata": {
    "executionInfo": {
     "elapsed": 2,
     "status": "ok",
     "timestamp": 1670500960075,
     "user": {
      "displayName": "Emilia Lautz",
      "userId": "12799330444436508787"
     },
     "user_tz": -60
    },
    "id": "WlTKoCNzBCs2"
   },
   "outputs": [],
   "source": [
    "from sklearn.ensemble import RandomForestRegressor"
   ]
  },
  {
   "cell_type": "code",
   "execution_count": 95,
   "metadata": {
    "colab": {
     "base_uri": "https://localhost:8080/",
     "height": 129
    },
    "executionInfo": {
     "elapsed": 38997,
     "status": "ok",
     "timestamp": 1670501000993,
     "user": {
      "displayName": "Emilia Lautz",
      "userId": "12799330444436508787"
     },
     "user_tz": -60
    },
    "id": "Dg0o8btHAXnu",
    "outputId": "e5739e55-8077-4752-9f19-3b25eab352a1"
   },
   "outputs": [
    {
     "data": {
      "text/plain": [
       "RandomForestRegressor(max_depth=16, min_samples_leaf=30, random_state=1)"
      ]
     },
     "execution_count": 95,
     "metadata": {},
     "output_type": "execute_result"
    }
   ],
   "source": [
    "fifa_forest = RandomForestRegressor(random_state=1,max_depth=16, min_samples_leaf = 30) # use the hyperparameters that we optimised above\n",
    "fifa_forest.fit(X_imputed,y_imputed)"
   ]
  },
  {
   "cell_type": "markdown",
   "metadata": {
    "id": "gukO_sfFBedR"
   },
   "source": [
    "### Prediction"
   ]
  },
  {
   "cell_type": "code",
   "execution_count": 97,
   "metadata": {
    "executionInfo": {
     "elapsed": 813,
     "status": "ok",
     "timestamp": 1670501001799,
     "user": {
      "displayName": "Emilia Lautz",
      "userId": "12799330444436508787"
     },
     "user_tz": -60
    },
    "id": "kbJY73MYAA6t"
   },
   "outputs": [
    {
     "data": {
      "text/plain": [
       "array([18.22046749, 18.17224717, 18.2185677 , ..., 10.513259  ,\n",
       "       10.97095762, 11.01107931])"
      ]
     },
     "execution_count": 97,
     "metadata": {},
     "output_type": "execute_result"
    }
   ],
   "source": [
    "y_pred_forest = fifa_forest.predict(X_test_imputed)\n",
    "y_pred_forest"
   ]
  },
  {
   "cell_type": "code",
   "execution_count": 98,
   "metadata": {
    "colab": {
     "base_uri": "https://localhost:8080/"
    },
    "executionInfo": {
     "elapsed": 15,
     "status": "ok",
     "timestamp": 1670501001799,
     "user": {
      "displayName": "Emilia Lautz",
      "userId": "12799330444436508787"
     },
     "user_tz": -60
    },
    "id": "p4u5gVM2B2x0",
    "outputId": "c8de1308-3feb-48d5-ac80-99500c69a522"
   },
   "outputs": [
    {
     "data": {
      "text/plain": [
       "9.106954281318162"
      ]
     },
     "execution_count": 98,
     "metadata": {},
     "output_type": "execute_result"
    }
   ],
   "source": [
    "y_pred_forest.min()"
   ]
  },
  {
   "cell_type": "code",
   "execution_count": 99,
   "metadata": {
    "colab": {
     "base_uri": "https://localhost:8080/"
    },
    "executionInfo": {
     "elapsed": 11,
     "status": "ok",
     "timestamp": 1670501001800,
     "user": {
      "displayName": "Emilia Lautz",
      "userId": "12799330444436508787"
     },
     "user_tz": -60
    },
    "id": "ZcpHISL9B6GO",
    "outputId": "5ae1297d-2f3a-4724-dbbb-296963dba78d"
   },
   "outputs": [],
   "source": [
    "## Pickle dump\n",
    "filename_forest = 'fifa_forest_model.sav'\n",
    "pickle.dump(fifa_forest, open(filename_forest, 'wb'))"
   ]
  },
  {
   "cell_type": "code",
   "execution_count": 100,
   "metadata": {
    "colab": {
     "base_uri": "https://localhost:8080/"
    },
    "executionInfo": {
     "elapsed": 224,
     "status": "ok",
     "timestamp": 1670501016470,
     "user": {
      "displayName": "Emilia Lautz",
      "userId": "12799330444436508787"
     },
     "user_tz": -60
    },
    "id": "4oD75kGkCBEM",
    "outputId": "93c2f552-0e29-41aa-b3d2-60e4aa7464f4"
   },
   "outputs": [
    {
     "data": {
      "text/plain": [
       "array([18.22046749, 18.17224717, 18.2185677 , ..., 10.513259  ,\n",
       "       10.97095762, 11.01107931])"
      ]
     },
     "execution_count": 100,
     "metadata": {},
     "output_type": "execute_result"
    }
   ],
   "source": [
    "loaded_forest = pickle.load(open(filename_forest, 'rb'))\n",
    "loaded_forest.predict(X_test_imputed)"
   ]
  },
  {
   "cell_type": "markdown",
   "metadata": {
    "id": "Cv4DJ-y7CRGR"
   },
   "source": [
    "### Visualise results: actual vs. predicted plot"
   ]
  },
  {
   "cell_type": "code",
   "execution_count": 101,
   "metadata": {
    "colab": {
     "base_uri": "https://localhost:8080/",
     "height": 350
    },
    "executionInfo": {
     "elapsed": 1893,
     "status": "ok",
     "timestamp": 1670501020814,
     "user": {
      "displayName": "Emilia Lautz",
      "userId": "12799330444436508787"
     },
     "user_tz": -60
    },
    "id": "pzmiTLHeCLYn",
    "outputId": "609a39d0-3769-485f-848d-03b2fc1349ad"
   },
   "outputs": [
    {
     "data": {
      "image/png": "[encoded data removed]",
      "text/plain": [
       "<Figure size 1000x500 with 1 Axes>"
      ]
     },
     "metadata": {},
     "output_type": "display_data"
    }
   ],
   "source": [
    "actual_vs_predicted_plot(y_test_imputed, y_pred_forest)"
   ]
  },
  {
   "cell_type": "markdown",
   "metadata": {
    "id": "4jMfBaIjDE9B"
   },
   "source": [
    " ### RMSE and MAPE"
   ]
  },
  {
   "cell_type": "code",
   "execution_count": 102,
   "metadata": {
    "executionInfo": {
     "elapsed": 606,
     "status": "ok",
     "timestamp": 1670501030177,
     "user": {
      "displayName": "Emilia Lautz",
      "userId": "12799330444436508787"
     },
     "user_tz": -60
    },
    "id": "RFUpR9FOC-qx"
   },
   "outputs": [
    {
     "data": {
      "text/plain": [
       "3584293.659056492"
      ]
     },
     "execution_count": 102,
     "metadata": {},
     "output_type": "execute_result"
    }
   ],
   "source": [
    "rmse_forest = root_mean_squared_error(y_test_imputed,y_pred_forest)\n",
    "rmse_forest"
   ]
  },
  {
   "cell_type": "code",
   "execution_count": 103,
   "metadata": {
    "colab": {
     "base_uri": "https://localhost:8080/",
     "height": 226
    },
    "executionInfo": {
     "elapsed": 8,
     "status": "ok",
     "timestamp": 1670501031612,
     "user": {
      "displayName": "Emilia Lautz",
      "userId": "12799330444436508787"
     },
     "user_tz": -60
    },
    "id": "5g6lU3fKDKp8",
    "outputId": "5a396f65-15b8-410f-d179-d36d56dd3143"
   },
   "outputs": [
    {
     "data": {
      "text/plain": [
       "29.544626136195816"
      ]
     },
     "execution_count": 103,
     "metadata": {},
     "output_type": "execute_result"
    }
   ],
   "source": [
    "mape_forest = mean_absolute_percentage_error(y_test_imputed,y_pred_forest)\n",
    "mape_forest"
   ]
  },
  {
   "cell_type": "markdown",
   "metadata": {
    "id": "7txKOHjdDYBV"
   },
   "source": [
    "## Random Forest Regressor: optimising hyperparameters\n",
    "\n",
    "\n"
   ]
  },
  {
   "cell_type": "code",
   "execution_count": 140,
   "metadata": {
    "executionInfo": {
     "elapsed": 211,
     "status": "ok",
     "timestamp": 1670501066099,
     "user": {
      "displayName": "Emilia Lautz",
      "userId": "12799330444436508787"
     },
     "user_tz": -60
    },
    "id": "S01dIko1DRNh"
   },
   "outputs": [],
   "source": [
    "# Optimise hyperparamter \n",
    "\n",
    "parameters = {\"max_depth\":range(15,30),\n",
    "              \"min_samples_leaf\":[1, 10, 20, 30, 50,100]}\n",
    "\n",
    "forest_CV = GridSearchCV(RandomForestRegressor(random_state = 1), parameters, cv=5)"
   ]
  },
  {
   "cell_type": "code",
   "execution_count": 141,
   "metadata": {
    "colab": {
     "base_uri": "https://localhost:8080/",
     "height": 384
    },
    "executionInfo": {
     "elapsed": 38779,
     "status": "error",
     "timestamp": 1670507560576,
     "user": {
      "displayName": "Emilia Lautz",
      "userId": "12799330444436508787"
     },
     "user_tz": -60
    },
    "id": "FFMP6zy9Dovz",
    "outputId": "db111105-3a5a-4d8a-a6e4-5c74a4aea90b"
   },
   "outputs": [
    {
     "data": {
      "text/plain": [
       "{'max_depth': 18, 'min_samples_leaf': 10}"
      ]
     },
     "execution_count": 141,
     "metadata": {},
     "output_type": "execute_result"
    }
   ],
   "source": [
    "forest_CV.fit(sm.add_constant(X_imputed),y_imputed)\n",
    "forest_CV.best_params_"
   ]
  },
  {
   "cell_type": "raw",
   "metadata": {},
   "source": [
    "Grid Search result: max_depth = 18, min_samles_lead = 10"
   ]
  },
  {
   "cell_type": "code",
   "execution_count": 104,
   "metadata": {
    "id": "_3gKsvBSEn7J"
   },
   "outputs": [
    {
     "data": {
      "text/plain": [
       "RandomForestRegressor(max_depth=18, min_samples_leaf=10, random_state=1)"
      ]
     },
     "execution_count": 104,
     "metadata": {},
     "output_type": "execute_result"
    }
   ],
   "source": [
    "# Try to plug in max_depth = 18, min_samles_lead = 10 manually to avoid having to run the grid search every time\n",
    "\n",
    "fifa_forest_opt = RandomForestRegressor(random_state=1,max_depth=18, min_samples_leaf = 10)\n",
    "fifa_forest_opt.fit(X_imputed,y_imputed)"
   ]
  },
  {
   "cell_type": "markdown",
   "metadata": {
    "id": "2gHglhXUEdLe"
   },
   "source": [
    "### Prediction"
   ]
  },
  {
   "cell_type": "code",
   "execution_count": 105,
   "metadata": {
    "id": "cvb2U2MJDvUn"
   },
   "outputs": [
    {
     "data": {
      "text/plain": [
       "array([18.39949893, 18.17633004, 18.09736639, ..., 10.50766706,\n",
       "       10.95101604, 11.03687778])"
      ]
     },
     "execution_count": 105,
     "metadata": {},
     "output_type": "execute_result"
    }
   ],
   "source": [
    "y_pred_forest_opt = fifa_forest_opt.predict(X_test_imputed)\n",
    "y_pred_forest_opt"
   ]
  },
  {
   "cell_type": "code",
   "execution_count": 106,
   "metadata": {},
   "outputs": [],
   "source": [
    "## Pickle dump\n",
    "filename_forest_opt = 'fifa_forest_opt_model.sav'\n",
    "pickle.dump(fifa_forest_opt, open(filename_forest_opt, 'wb'))"
   ]
  },
  {
   "cell_type": "code",
   "execution_count": 107,
   "metadata": {},
   "outputs": [
    {
     "data": {
      "text/plain": [
       "array([18.39949893, 18.17633004, 18.09736639, ..., 10.50766706,\n",
       "       10.95101604, 11.03687778])"
      ]
     },
     "execution_count": 107,
     "metadata": {},
     "output_type": "execute_result"
    }
   ],
   "source": [
    "loaded_forest_opt = pickle.load(open(filename_forest_opt, 'rb'))\n",
    "loaded_forest_opt.predict(X_test_imputed)"
   ]
  },
  {
   "cell_type": "markdown",
   "metadata": {
    "id": "yeZEPUHXEukq"
   },
   "source": [
    "### Visualise results: actual vs. predicted plot"
   ]
  },
  {
   "cell_type": "code",
   "execution_count": 108,
   "metadata": {
    "id": "kYx5dwoNExhj"
   },
   "outputs": [
    {
     "data": {
      "image/png": "[encoded data removed]",
      "text/plain": [
       "<Figure size 1000x500 with 1 Axes>"
      ]
     },
     "metadata": {},
     "output_type": "display_data"
    }
   ],
   "source": [
    "actual_vs_predicted_plot(y_test_imputed, y_pred_forest_opt)"
   ]
  },
  {
   "cell_type": "markdown",
   "metadata": {
    "id": "ih8TbuQ1E_ZN"
   },
   "source": [
    "### RMSE and MAPE"
   ]
  },
  {
   "cell_type": "code",
   "execution_count": 109,
   "metadata": {
    "id": "FxaIgEJjFBdx"
   },
   "outputs": [
    {
     "data": {
      "text/plain": [
       "3347685.0958287083"
      ]
     },
     "execution_count": 109,
     "metadata": {},
     "output_type": "execute_result"
    }
   ],
   "source": [
    "rmse_forest_opt = root_mean_squared_error(y_test_imputed,y_pred_forest_opt)\n",
    "rmse_forest_opt"
   ]
  },
  {
   "cell_type": "code",
   "execution_count": 110,
   "metadata": {
    "id": "c1QezMvCFKUJ"
   },
   "outputs": [
    {
     "data": {
      "text/plain": [
       "29.16255963730289"
      ]
     },
     "execution_count": 110,
     "metadata": {},
     "output_type": "execute_result"
    }
   ],
   "source": [
    "mape_forest_opt = mean_absolute_percentage_error(y_test_imputed,y_pred_forest_opt)\n",
    "mape_forest_opt"
   ]
  },
  {
   "cell_type": "markdown",
   "metadata": {
    "id": "ylZyl6wZos49"
   },
   "source": [
    "## Table of Results"
   ]
  },
  {
   "cell_type": "code",
   "execution_count": 111,
   "metadata": {},
   "outputs": [
    {
     "data": {
      "text/html": [
       "<div>\n",
       "<style scoped>\n",
       "    .dataframe tbody tr th:only-of-type {\n",
       "        vertical-align: middle;\n",
       "    }\n",
       "\n",
       "    .dataframe tbody tr th {\n",
       "        vertical-align: top;\n",
       "    }\n",
       "\n",
       "    .dataframe thead th {\n",
       "        text-align: right;\n",
       "    }\n",
       "</style>\n",
       "<table border=\"1\" class=\"dataframe\">\n",
       "  <thead>\n",
       "    <tr style=\"text-align: right;\">\n",
       "      <th></th>\n",
       "      <th>RMSE</th>\n",
       "      <th>MAPE</th>\n",
       "    </tr>\n",
       "  </thead>\n",
       "  <tbody>\n",
       "    <tr>\n",
       "      <th>0</th>\n",
       "      <td>4.365013e+06</td>\n",
       "      <td>48.460710</td>\n",
       "    </tr>\n",
       "    <tr>\n",
       "      <th>1</th>\n",
       "      <td>4.681216e+06</td>\n",
       "      <td>37.975269</td>\n",
       "    </tr>\n",
       "    <tr>\n",
       "      <th>2</th>\n",
       "      <td>3.514161e+06</td>\n",
       "      <td>29.880360</td>\n",
       "    </tr>\n",
       "    <tr>\n",
       "      <th>3</th>\n",
       "      <td>3.584294e+06</td>\n",
       "      <td>29.544626</td>\n",
       "    </tr>\n",
       "    <tr>\n",
       "      <th>4</th>\n",
       "      <td>3.347685e+06</td>\n",
       "      <td>29.162560</td>\n",
       "    </tr>\n",
       "  </tbody>\n",
       "</table>\n",
       "</div>"
      ],
      "text/plain": [
       "           RMSE       MAPE\n",
       "0  4.365013e+06  48.460710\n",
       "1  4.681216e+06  37.975269\n",
       "2  3.514161e+06  29.880360\n",
       "3  3.584294e+06  29.544626\n",
       "4  3.347685e+06  29.162560"
      ]
     },
     "execution_count": 111,
     "metadata": {},
     "output_type": "execute_result"
    }
   ],
   "source": [
    "model_performance = {\"RMSE\": [rmse_linear,rmse_tree,rmse_tree_opt,rmse_forest,rmse_forest_opt],\n",
    "                     \"MAPE\": [mape_linear,mape_tree,mape_tree_opt,mape_forest,mape_forest_opt]}\n",
    "model_performance = pd.DataFrame(data=model_performance)\n",
    "model_performance"
   ]
  },
  {
   "cell_type": "code",
   "execution_count": 112,
   "metadata": {},
   "outputs": [
    {
     "data": {
      "text/html": [
       "<div>\n",
       "<style scoped>\n",
       "    .dataframe tbody tr th:only-of-type {\n",
       "        vertical-align: middle;\n",
       "    }\n",
       "\n",
       "    .dataframe tbody tr th {\n",
       "        vertical-align: top;\n",
       "    }\n",
       "\n",
       "    .dataframe thead th {\n",
       "        text-align: right;\n",
       "    }\n",
       "</style>\n",
       "<table border=\"1\" class=\"dataframe\">\n",
       "  <thead>\n",
       "    <tr style=\"text-align: right;\">\n",
       "      <th></th>\n",
       "      <th>model</th>\n",
       "      <th>prediction</th>\n",
       "      <th>actual_value</th>\n",
       "    </tr>\n",
       "  </thead>\n",
       "  <tbody>\n",
       "    <tr>\n",
       "      <th>0</th>\n",
       "      <td>OLS</td>\n",
       "      <td>19.068994</td>\n",
       "      <td>18.172219</td>\n",
       "    </tr>\n",
       "    <tr>\n",
       "      <th>1</th>\n",
       "      <td>OLS</td>\n",
       "      <td>18.817886</td>\n",
       "      <td>18.598827</td>\n",
       "    </tr>\n",
       "    <tr>\n",
       "      <th>2</th>\n",
       "      <td>OLS</td>\n",
       "      <td>19.105622</td>\n",
       "      <td>17.622173</td>\n",
       "    </tr>\n",
       "    <tr>\n",
       "      <th>3</th>\n",
       "      <td>OLS</td>\n",
       "      <td>18.541574</td>\n",
       "      <td>18.675323</td>\n",
       "    </tr>\n",
       "    <tr>\n",
       "      <th>4</th>\n",
       "      <td>OLS</td>\n",
       "      <td>18.570325</td>\n",
       "      <td>18.647816</td>\n",
       "    </tr>\n",
       "  </tbody>\n",
       "</table>\n",
       "</div>"
      ],
      "text/plain": [
       "  model  prediction  actual_value\n",
       "0   OLS   19.068994     18.172219\n",
       "1   OLS   18.817886     18.598827\n",
       "2   OLS   19.105622     17.622173\n",
       "3   OLS   18.541574     18.675323\n",
       "4   OLS   18.570325     18.647816"
      ]
     },
     "execution_count": 112,
     "metadata": {},
     "output_type": "execute_result"
    }
   ],
   "source": [
    "df_ols = pd.DataFrame(y_pred_ols.copy())\n",
    "df_ols[\"prediction\"] = y_pred_ols\n",
    "df_ols[\"actual_value\"] = y_test_imputed\n",
    "df_ols[\"model\"]=\"OLS\"\n",
    "df_ols = df_ols[[\"model\",\"prediction\",\"actual_value\"]]\n",
    "df_ols.head()"
   ]
  },
  {
   "cell_type": "code",
   "execution_count": 113,
   "metadata": {},
   "outputs": [
    {
     "data": {
      "text/html": [
       "<div>\n",
       "<style scoped>\n",
       "    .dataframe tbody tr th:only-of-type {\n",
       "        vertical-align: middle;\n",
       "    }\n",
       "\n",
       "    .dataframe tbody tr th {\n",
       "        vertical-align: top;\n",
       "    }\n",
       "\n",
       "    .dataframe thead th {\n",
       "        text-align: right;\n",
       "    }\n",
       "</style>\n",
       "<table border=\"1\" class=\"dataframe\">\n",
       "  <thead>\n",
       "    <tr style=\"text-align: right;\">\n",
       "      <th></th>\n",
       "      <th>model</th>\n",
       "      <th>prediction</th>\n",
       "      <th>actual_value</th>\n",
       "    </tr>\n",
       "  </thead>\n",
       "  <tbody>\n",
       "    <tr>\n",
       "      <th>0</th>\n",
       "      <td>Decision Tree</td>\n",
       "      <td>17.494891</td>\n",
       "      <td>18.172219</td>\n",
       "    </tr>\n",
       "    <tr>\n",
       "      <th>1</th>\n",
       "      <td>Decision Tree</td>\n",
       "      <td>17.494891</td>\n",
       "      <td>18.598827</td>\n",
       "    </tr>\n",
       "    <tr>\n",
       "      <th>2</th>\n",
       "      <td>Decision Tree</td>\n",
       "      <td>17.494891</td>\n",
       "      <td>17.622173</td>\n",
       "    </tr>\n",
       "    <tr>\n",
       "      <th>3</th>\n",
       "      <td>Decision Tree</td>\n",
       "      <td>17.494891</td>\n",
       "      <td>18.675323</td>\n",
       "    </tr>\n",
       "    <tr>\n",
       "      <th>4</th>\n",
       "      <td>Decision Tree</td>\n",
       "      <td>17.494891</td>\n",
       "      <td>18.647816</td>\n",
       "    </tr>\n",
       "  </tbody>\n",
       "</table>\n",
       "</div>"
      ],
      "text/plain": [
       "           model  prediction  actual_value\n",
       "0  Decision Tree   17.494891     18.172219\n",
       "1  Decision Tree   17.494891     18.598827\n",
       "2  Decision Tree   17.494891     17.622173\n",
       "3  Decision Tree   17.494891     18.675323\n",
       "4  Decision Tree   17.494891     18.647816"
      ]
     },
     "execution_count": 113,
     "metadata": {},
     "output_type": "execute_result"
    }
   ],
   "source": [
    "df_tree = pd.DataFrame(y_pred_tree.copy())\n",
    "df_tree[\"prediction\"] = y_pred_tree\n",
    "df_tree[\"actual_value\"] = y_test_imputed\n",
    "df_tree[\"model\"]=\"Decision Tree\"\n",
    "df_tree = df_tree[[\"model\",\"prediction\",\"actual_value\"]]\n",
    "df_tree.head()"
   ]
  },
  {
   "cell_type": "code",
   "execution_count": 114,
   "metadata": {},
   "outputs": [
    {
     "data": {
      "text/html": [
       "<div>\n",
       "<style scoped>\n",
       "    .dataframe tbody tr th:only-of-type {\n",
       "        vertical-align: middle;\n",
       "    }\n",
       "\n",
       "    .dataframe tbody tr th {\n",
       "        vertical-align: top;\n",
       "    }\n",
       "\n",
       "    .dataframe thead th {\n",
       "        text-align: right;\n",
       "    }\n",
       "</style>\n",
       "<table border=\"1\" class=\"dataframe\">\n",
       "  <thead>\n",
       "    <tr style=\"text-align: right;\">\n",
       "      <th></th>\n",
       "      <th>model</th>\n",
       "      <th>prediction</th>\n",
       "      <th>actual_value</th>\n",
       "    </tr>\n",
       "  </thead>\n",
       "  <tbody>\n",
       "    <tr>\n",
       "      <th>0</th>\n",
       "      <td>Optimized Decision Tree</td>\n",
       "      <td>18.322051</td>\n",
       "      <td>18.172219</td>\n",
       "    </tr>\n",
       "    <tr>\n",
       "      <th>1</th>\n",
       "      <td>Optimized Decision Tree</td>\n",
       "      <td>18.083406</td>\n",
       "      <td>18.598827</td>\n",
       "    </tr>\n",
       "    <tr>\n",
       "      <th>2</th>\n",
       "      <td>Optimized Decision Tree</td>\n",
       "      <td>18.083406</td>\n",
       "      <td>17.622173</td>\n",
       "    </tr>\n",
       "    <tr>\n",
       "      <th>3</th>\n",
       "      <td>Optimized Decision Tree</td>\n",
       "      <td>18.322051</td>\n",
       "      <td>18.675323</td>\n",
       "    </tr>\n",
       "    <tr>\n",
       "      <th>4</th>\n",
       "      <td>Optimized Decision Tree</td>\n",
       "      <td>18.083406</td>\n",
       "      <td>18.647816</td>\n",
       "    </tr>\n",
       "  </tbody>\n",
       "</table>\n",
       "</div>"
      ],
      "text/plain": [
       "                     model  prediction  actual_value\n",
       "0  Optimized Decision Tree   18.322051     18.172219\n",
       "1  Optimized Decision Tree   18.083406     18.598827\n",
       "2  Optimized Decision Tree   18.083406     17.622173\n",
       "3  Optimized Decision Tree   18.322051     18.675323\n",
       "4  Optimized Decision Tree   18.083406     18.647816"
      ]
     },
     "execution_count": 114,
     "metadata": {},
     "output_type": "execute_result"
    }
   ],
   "source": [
    "df_tree_opt = pd.DataFrame(y_pred_tree_opt.copy())\n",
    "df_tree_opt[\"prediction\"] = y_pred_tree_opt\n",
    "df_tree_opt[\"actual_value\"] = y_test_imputed\n",
    "df_tree_opt[\"model\"]=\"Optimized Decision Tree\"\n",
    "df_tree_opt = df_tree_opt[[\"model\",\"prediction\",\"actual_value\"]]\n",
    "df_tree_opt.head()"
   ]
  },
  {
   "cell_type": "code",
   "execution_count": 115,
   "metadata": {},
   "outputs": [
    {
     "data": {
      "text/html": [
       "<div>\n",
       "<style scoped>\n",
       "    .dataframe tbody tr th:only-of-type {\n",
       "        vertical-align: middle;\n",
       "    }\n",
       "\n",
       "    .dataframe tbody tr th {\n",
       "        vertical-align: top;\n",
       "    }\n",
       "\n",
       "    .dataframe thead th {\n",
       "        text-align: right;\n",
       "    }\n",
       "</style>\n",
       "<table border=\"1\" class=\"dataframe\">\n",
       "  <thead>\n",
       "    <tr style=\"text-align: right;\">\n",
       "      <th></th>\n",
       "      <th>model</th>\n",
       "      <th>prediction</th>\n",
       "      <th>actual_value</th>\n",
       "    </tr>\n",
       "  </thead>\n",
       "  <tbody>\n",
       "    <tr>\n",
       "      <th>0</th>\n",
       "      <td>Random Forest</td>\n",
       "      <td>18.220467</td>\n",
       "      <td>18.172219</td>\n",
       "    </tr>\n",
       "    <tr>\n",
       "      <th>1</th>\n",
       "      <td>Random Forest</td>\n",
       "      <td>18.172247</td>\n",
       "      <td>18.598827</td>\n",
       "    </tr>\n",
       "    <tr>\n",
       "      <th>2</th>\n",
       "      <td>Random Forest</td>\n",
       "      <td>18.218568</td>\n",
       "      <td>17.622173</td>\n",
       "    </tr>\n",
       "    <tr>\n",
       "      <th>3</th>\n",
       "      <td>Random Forest</td>\n",
       "      <td>18.200351</td>\n",
       "      <td>18.675323</td>\n",
       "    </tr>\n",
       "    <tr>\n",
       "      <th>4</th>\n",
       "      <td>Random Forest</td>\n",
       "      <td>18.209853</td>\n",
       "      <td>18.647816</td>\n",
       "    </tr>\n",
       "  </tbody>\n",
       "</table>\n",
       "</div>"
      ],
      "text/plain": [
       "           model  prediction  actual_value\n",
       "0  Random Forest   18.220467     18.172219\n",
       "1  Random Forest   18.172247     18.598827\n",
       "2  Random Forest   18.218568     17.622173\n",
       "3  Random Forest   18.200351     18.675323\n",
       "4  Random Forest   18.209853     18.647816"
      ]
     },
     "execution_count": 115,
     "metadata": {},
     "output_type": "execute_result"
    }
   ],
   "source": [
    "df_forest = pd.DataFrame(y_pred_forest.copy())\n",
    "df_forest[\"prediction\"] = y_pred_forest\n",
    "df_forest[\"actual_value\"] = y_test_imputed\n",
    "df_forest[\"model\"]=\"Random Forest\"\n",
    "df_forest = df_forest[[\"model\",\"prediction\",\"actual_value\"]]\n",
    "df_forest.head()"
   ]
  },
  {
   "cell_type": "code",
   "execution_count": 116,
   "metadata": {},
   "outputs": [
    {
     "data": {
      "text/html": [
       "<div>\n",
       "<style scoped>\n",
       "    .dataframe tbody tr th:only-of-type {\n",
       "        vertical-align: middle;\n",
       "    }\n",
       "\n",
       "    .dataframe tbody tr th {\n",
       "        vertical-align: top;\n",
       "    }\n",
       "\n",
       "    .dataframe thead th {\n",
       "        text-align: right;\n",
       "    }\n",
       "</style>\n",
       "<table border=\"1\" class=\"dataframe\">\n",
       "  <thead>\n",
       "    <tr style=\"text-align: right;\">\n",
       "      <th></th>\n",
       "      <th>model</th>\n",
       "      <th>prediction</th>\n",
       "      <th>actual_value</th>\n",
       "    </tr>\n",
       "  </thead>\n",
       "  <tbody>\n",
       "    <tr>\n",
       "      <th>0</th>\n",
       "      <td>Optimized Random Forest</td>\n",
       "      <td>18.399499</td>\n",
       "      <td>18.172219</td>\n",
       "    </tr>\n",
       "    <tr>\n",
       "      <th>1</th>\n",
       "      <td>Optimized Random Forest</td>\n",
       "      <td>18.176330</td>\n",
       "      <td>18.598827</td>\n",
       "    </tr>\n",
       "    <tr>\n",
       "      <th>2</th>\n",
       "      <td>Optimized Random Forest</td>\n",
       "      <td>18.097366</td>\n",
       "      <td>17.622173</td>\n",
       "    </tr>\n",
       "    <tr>\n",
       "      <th>3</th>\n",
       "      <td>Optimized Random Forest</td>\n",
       "      <td>18.369535</td>\n",
       "      <td>18.675323</td>\n",
       "    </tr>\n",
       "    <tr>\n",
       "      <th>4</th>\n",
       "      <td>Optimized Random Forest</td>\n",
       "      <td>18.220945</td>\n",
       "      <td>18.647816</td>\n",
       "    </tr>\n",
       "  </tbody>\n",
       "</table>\n",
       "</div>"
      ],
      "text/plain": [
       "                     model  prediction  actual_value\n",
       "0  Optimized Random Forest   18.399499     18.172219\n",
       "1  Optimized Random Forest   18.176330     18.598827\n",
       "2  Optimized Random Forest   18.097366     17.622173\n",
       "3  Optimized Random Forest   18.369535     18.675323\n",
       "4  Optimized Random Forest   18.220945     18.647816"
      ]
     },
     "execution_count": 116,
     "metadata": {},
     "output_type": "execute_result"
    }
   ],
   "source": [
    "df_forest_opt = pd.DataFrame(y_pred_forest_opt.copy())\n",
    "df_forest_opt[\"prediction\"] = y_pred_forest_opt\n",
    "df_forest_opt[\"actual_value\"] = y_test_imputed\n",
    "df_forest_opt[\"model\"]=\"Optimized Random Forest\"\n",
    "df_forest_opt = df_forest_opt[[\"model\",\"prediction\",\"actual_value\"]]\n",
    "df_forest_opt.head()"
   ]
  },
  {
   "cell_type": "code",
   "execution_count": 117,
   "metadata": {},
   "outputs": [
    {
     "name": "stdout",
     "output_type": "stream",
     "text": [
      "<class 'pandas.core.frame.DataFrame'>\n",
      "Int64Index: 96195 entries, 0 to 19238\n",
      "Data columns (total 3 columns):\n",
      " #   Column        Non-Null Count  Dtype  \n",
      "---  ------        --------------  -----  \n",
      " 0   model         96195 non-null  object \n",
      " 1   prediction    96195 non-null  float64\n",
      " 2   actual_value  96195 non-null  float64\n",
      "dtypes: float64(2), object(1)\n",
      "memory usage: 2.9+ MB\n"
     ]
    }
   ],
   "source": [
    "model_df= pd.concat([df_ols,df_tree,df_tree_opt,df_forest,df_forest_opt])\n",
    "model_df.info()"
   ]
  },
  {
   "cell_type": "code",
   "execution_count": 118,
   "metadata": {},
   "outputs": [
    {
     "data": {
      "text/html": [
       "<div>\n",
       "<style scoped>\n",
       "    .dataframe tbody tr th:only-of-type {\n",
       "        vertical-align: middle;\n",
       "    }\n",
       "\n",
       "    .dataframe tbody tr th {\n",
       "        vertical-align: top;\n",
       "    }\n",
       "\n",
       "    .dataframe thead th {\n",
       "        text-align: right;\n",
       "    }\n",
       "</style>\n",
       "<table border=\"1\" class=\"dataframe\">\n",
       "  <thead>\n",
       "    <tr style=\"text-align: right;\">\n",
       "      <th></th>\n",
       "      <th>model</th>\n",
       "      <th>prediction</th>\n",
       "      <th>actual_value</th>\n",
       "      <th>value_difference</th>\n",
       "    </tr>\n",
       "  </thead>\n",
       "  <tbody>\n",
       "    <tr>\n",
       "      <th>0</th>\n",
       "      <td>OLS</td>\n",
       "      <td>19.068994</td>\n",
       "      <td>18.172219</td>\n",
       "      <td>-1.132312e+08</td>\n",
       "    </tr>\n",
       "    <tr>\n",
       "      <th>1</th>\n",
       "      <td>OLS</td>\n",
       "      <td>18.817886</td>\n",
       "      <td>18.598827</td>\n",
       "      <td>-2.926605e+07</td>\n",
       "    </tr>\n",
       "    <tr>\n",
       "      <th>2</th>\n",
       "      <td>OLS</td>\n",
       "      <td>19.105622</td>\n",
       "      <td>17.622173</td>\n",
       "      <td>-1.533656e+08</td>\n",
       "    </tr>\n",
       "    <tr>\n",
       "      <th>3</th>\n",
       "      <td>OLS</td>\n",
       "      <td>18.541574</td>\n",
       "      <td>18.675323</td>\n",
       "      <td>1.614956e+07</td>\n",
       "    </tr>\n",
       "    <tr>\n",
       "      <th>4</th>\n",
       "      <td>OLS</td>\n",
       "      <td>18.570325</td>\n",
       "      <td>18.647816</td>\n",
       "      <td>9.357873e+06</td>\n",
       "    </tr>\n",
       "  </tbody>\n",
       "</table>\n",
       "</div>"
      ],
      "text/plain": [
       "  model  prediction  actual_value  value_difference\n",
       "0   OLS   19.068994     18.172219     -1.132312e+08\n",
       "1   OLS   18.817886     18.598827     -2.926605e+07\n",
       "2   OLS   19.105622     17.622173     -1.533656e+08\n",
       "3   OLS   18.541574     18.675323      1.614956e+07\n",
       "4   OLS   18.570325     18.647816      9.357873e+06"
      ]
     },
     "execution_count": 118,
     "metadata": {},
     "output_type": "execute_result"
    }
   ],
   "source": [
    "model_df[\"value_difference\"] = np.exp(model_df[\"actual_value\"])-np.exp(model_df[\"prediction\"])\n",
    "model_df.head()"
   ]
  },
  {
   "cell_type": "code",
   "execution_count": 119,
   "metadata": {},
   "outputs": [
    {
     "data": {
      "text/plain": [
       "<seaborn.axisgrid.FacetGrid at 0x7fed848d0700>"
      ]
     },
     "execution_count": 119,
     "metadata": {},
     "output_type": "execute_result"
    },
    {
     "data": {
      "image/png": "[encoded data removed]",
      "text/plain": [
       "<Figure size 1511.11x300 with 5 Axes>"
      ]
     },
     "metadata": {},
     "output_type": "display_data"
    }
   ],
   "source": [
    "import seaborn as sns\n",
    "\n",
    "g = sns.FacetGrid(model_df, col=\"model\")\n",
    "g.map(sns.scatterplot, \"prediction\", \"actual_value\", alpha=.7)\n",
    "g.add_legend()"
   ]
  },
  {
   "cell_type": "code",
   "execution_count": 120,
   "metadata": {},
   "outputs": [
    {
     "data": {
      "text/plain": [
       "<seaborn.axisgrid.FacetGrid at 0x7fed848d0e50>"
      ]
     },
     "execution_count": 120,
     "metadata": {},
     "output_type": "execute_result"
    },
    {
     "data": {
      "image/png": "[encoded data removed]",
      "text/plain": [
       "<Figure size 530.375x300 with 1 Axes>"
      ]
     },
     "metadata": {},
     "output_type": "display_data"
    }
   ],
   "source": [
    "g = sns.FacetGrid(model_df, hue=\"model\")\n",
    "g.map(sns.scatterplot, \"prediction\", \"actual_value\")\n",
    "g.add_legend()"
   ]
  },
  {
   "cell_type": "code",
   "execution_count": null,
   "metadata": {},
   "outputs": [],
   "source": []
  },
  {
   "cell_type": "code",
   "execution_count": null,
   "metadata": {},
   "outputs": [],
   "source": []
  },
  {
   "cell_type": "code",
   "execution_count": null,
   "metadata": {},
   "outputs": [],
   "source": []
  }
 ],
 "metadata": {
  "colab": {
   "provenance": [
    {
     "file_id": "1u-BsWna6Y_7U-Cgdi70aTpg-1g36Ivdp",
     "timestamp": 1669389068434
    }
   ],
   "toc_visible": true
  },
  "kernelspec": {
   "display_name": "Python 3 (ipykernel)",
   "language": "python",
   "name": "python3"
  },
  "language_info": {
   "codemirror_mode": {
    "name": "ipython",
    "version": 3
   },
   "file_extension": ".py",
   "mimetype": "text/x-python",
   "name": "python",
   "nbconvert_exporter": "python",
   "pygments_lexer": "ipython3",
   "version": "3.9.13"
  }
 },
 "nbformat": 4,
 "nbformat_minor": 1
}
